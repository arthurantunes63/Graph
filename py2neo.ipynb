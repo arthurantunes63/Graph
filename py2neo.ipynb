{
 "cells": [
  {
   "cell_type": "markdown",
   "metadata": {},
   "source": [
    "### Interação Banco de Dados Orientado a Grafos(Neo4j) e Python"
   ]
  },
  {
   "cell_type": "code",
   "execution_count": 2,
   "metadata": {},
   "outputs": [],
   "source": [
    "from py2neo import Graph, Node, Relationship"
   ]
  },
  {
   "cell_type": "markdown",
   "metadata": {},
   "source": [
    "Para utilizar-se da bilioteca, tenha criado um grafo no Neo4j com o password que irá constar abaixo."
   ]
  },
  {
   "cell_type": "code",
   "execution_count": 3,
   "metadata": {},
   "outputs": [],
   "source": [
    "g = Graph(password = \"admin\")"
   ]
  },
  {
   "cell_type": "markdown",
   "metadata": {},
   "source": [
    "Utilização do objeto grafo para iniciar transações.\n",
    "Uma transação é um recurso transitório que permite a realização de múltiplas consultas Cypher para serem executadas em uma única transação para o servidor."
   ]
  },
  {
   "cell_type": "code",
   "execution_count": 4,
   "metadata": {},
   "outputs": [],
   "source": [
    "t = g.begin()"
   ]
  },
  {
   "cell_type": "markdown",
   "metadata": {},
   "source": [
    "Classe Node constrói um novo objeto node com os labels e propriedades especificadas."
   ]
  },
  {
   "cell_type": "code",
   "execution_count": null,
   "metadata": {},
   "outputs": [],
   "source": [
    "Arthur = Node(\"Pessoa\", Nome = \"Arthur\", Idade = \"17\")\n",
    "tx.create(Arthur)\n",
    "Maria = Node(\"Pessoa\", Nome = \"Maria\", Idade = \"17\")\n",
    "tx.create(Maria)"
   ]
  },
  {
   "cell_type": "markdown",
   "metadata": {},
   "source": [
    "Para adicionar propriedades em um relacionamento inserir mais um parametro"
   ]
  },
  {
   "cell_type": "code",
   "execution_count": null,
   "metadata": {},
   "outputs": [],
   "source": [
    "rl = Relationship(Arthur, \"É_AMIGO\", Maria)\n",
    "tx.create(rl)"
   ]
  },
  {
   "cell_type": "markdown",
   "metadata": {},
   "source": [
    "Para efetivar alterações no Banco de Dados."
   ]
  },
  {
   "cell_type": "code",
   "execution_count": 7,
   "metadata": {},
   "outputs": [],
   "source": [
    "t.commit()"
   ]
  },
  {
   "cell_type": "markdown",
   "metadata": {},
   "source": [
    "### Consultas"
   ]
  },
  {
   "cell_type": "markdown",
   "metadata": {},
   "source": [
    ">- Através da função ***run*** do objeto ***Graph***.\n",
    ">- Através de métodos que facilitam as consultas."
   ]
  },
  {
   "cell_type": "markdown",
   "metadata": {},
   "source": [
    "O NodeSelector pode ser utilizado para localizar nós que preenchem um conjunto específico de critérios, um único nó pode ser identificado passando-se um label específico ou um par de propriedades chave-valor. Porém, qualquer número de labels ou qualquer condição suportada pela claúsula WHERE no Cypher está permitida."
   ]
  },
  {
   "cell_type": "code",
   "execution_count": 1,
   "metadata": {},
   "outputs": [
    {
     "ename": "NameError",
     "evalue": "name 'NodeSelector' is not defined",
     "output_type": "error",
     "traceback": [
      "\u001b[1;31m---------------------------------------------------------------------------\u001b[0m",
      "\u001b[1;31mNameError\u001b[0m                                 Traceback (most recent call last)",
      "\u001b[1;32m<ipython-input-1-ca6bb335c598>\u001b[0m in \u001b[0;36m<module>\u001b[1;34m\u001b[0m\n\u001b[0;32m      1\u001b[0m \u001b[1;32mfrom\u001b[0m \u001b[0mpy2neo\u001b[0m \u001b[1;32mimport\u001b[0m \u001b[0mNodeMatcher\u001b[0m\u001b[1;33m\u001b[0m\u001b[1;33m\u001b[0m\u001b[0m\n\u001b[1;32m----> 2\u001b[1;33m \u001b[0mselector\u001b[0m \u001b[1;33m=\u001b[0m \u001b[0mNodeSelector\u001b[0m\u001b[1;33m(\u001b[0m\u001b[0mg\u001b[0m\u001b[1;33m)\u001b[0m\u001b[1;33m\u001b[0m\u001b[1;33m\u001b[0m\u001b[0m\n\u001b[0m",
      "\u001b[1;31mNameError\u001b[0m: name 'NodeSelector' is not defined"
     ]
    }
   ],
   "source": [
    "from py2neo import NodeMatcher # Na versão antiga NodeSelector\n",
    "selector = NodeMatcher(g)"
   ]
  },
  {
   "cell_type": "markdown",
   "metadata": {},
   "source": [
    "Utiliza-se a função **select(*labels, propriedades*)** para selecionar nós, utilizando os tipos das vértices(labels) e propriedades.\n",
    "> - **first()**: Valida a seleção e retorna o primeiro nó correspondente a condição.\n",
    "> - **limit(*n*)**: Limita a seleção em uma quantidade *n* de nós.\n",
    "> - **order_by(*campos*)**: Ordena a seleção de acordo com os campos, ou suas expressões.\n",
    "> - **skyp(n)**: Ignora na seleção os primeiros *n* nós.\n",
    "> - **where(*condições, propriedades*)**: Cria uma nova seleção baseada nessa seleção. O critério especificado para refinar a seleção consiste em condições e propriedades. Condições são expressões Cypher individuais que irão ser encontradas na claúsula WHERE; Propriedades são usadas como correspondentes específicas para os valores das propriedades.\n",
    ">\n",
    "> > Para se referir ao nó atual dentro de uma expressão de condição, usa-se o underscore(_):\n",
    "> > - **selection.where(**\"_.Nome =~ 'J.*\"**)**\n",
    ">\n",
    "> > Propriedades também podem ser especificadas:\n",
    "> > - **selection.where(**ano_nascimento = 2002**)**"
   ]
  },
  {
   "cell_type": "code",
   "execution_count": null,
   "metadata": {},
   "outputs": [],
   "source": [
    "selecao = selector.select(\"Pessoa\", Nome = \"Arthur\").first()"
   ]
  },
  {
   "cell_type": "markdown",
   "metadata": {},
   "source": [
    "O método **match()** retorna relações de nós que correspondem a um dado critério. \n",
    "> Parâmetros que podemos utilizar no match:\n",
    "> - start_node: Nó inicial da relação a ser correspondida;\n",
    "> - rel_type: tipo da relação a ser correspondida;\n",
    "> - end_node: Nó final da relação a ser correspondida;\n",
    "> - bidirectional: True se relação bidirecional deve ser incluída.\n",
    "> - limit: número máximo de relações a serem correspondidas;"
   ]
  },
  {
   "cell_type": "code",
   "execution_count": null,
   "metadata": {},
   "outputs": [],
   "source": [
    "arthur_interage = g.match(start_node = Arthur, rel_type = \"INTERAGE\")"
   ]
  },
  {
   "cell_type": "markdown",
   "metadata": {},
   "source": [
    "Para encontrar a conexão entre dois nós, utilizar-se da função **end_node()**, que retorna o último nó encontrado na walk() desse objeto."
   ]
  },
  {
   "cell_type": "code",
   "execution_count": null,
   "metadata": {},
   "outputs": [],
   "source": [
    "for i in arthur_interage:\n",
    "    interacoes = i.end_node() # Encontrará o último nó das interações de Arthur\n",
    "print(interacoes)"
   ]
  }
 ],
 "metadata": {
  "kernelspec": {
   "display_name": "Python 3",
   "language": "python",
   "name": "python3"
  },
  "language_info": {
   "codemirror_mode": {
    "name": "ipython",
    "version": 3
   },
   "file_extension": ".py",
   "mimetype": "text/x-python",
   "name": "python",
   "nbconvert_exporter": "python",
   "pygments_lexer": "ipython3",
   "version": "3.8.1"
  }
 },
 "nbformat": 4,
 "nbformat_minor": 4
}
