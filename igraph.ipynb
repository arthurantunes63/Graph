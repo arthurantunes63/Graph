{
 "cells": [
  {
   "cell_type": "markdown",
   "metadata": {},
   "source": [
    "## Biblioteca igraph"
   ]
  },
  {
   "cell_type": "code",
   "execution_count": 1,
   "metadata": {},
   "outputs": [],
   "source": [
    "from igraph import *"
   ]
  },
  {
   "cell_type": "markdown",
   "metadata": {},
   "source": [
    "Criação de um grafo não-direcionado sem vértices ou arestas.  \n",
    "* Cuidado com as nomenclaturas de Aresta e Arcos. Arestas = grafos não direcionados; Arcos = Grafos direcionados."
   ]
  },
  {
   "cell_type": "code",
   "execution_count": 3,
   "metadata": {},
   "outputs": [],
   "source": [
    "g = Graph()"
   ]
  },
  {
   "cell_type": "markdown",
   "metadata": {},
   "source": [
    "Adição de *n* vértices ao grafo *g*"
   ]
  },
  {
   "cell_type": "code",
   "execution_count": 5,
   "metadata": {},
   "outputs": [],
   "source": [
    "g.add_vertices(3)"
   ]
  },
  {
   "cell_type": "markdown",
   "metadata": {},
   "source": [
    "Adição de arcos através da referência de duas vértices pré-existentes. O igraph se utiliza de números inteiros para representar IDs das vértices, começando do zero.\n",
    "Arcos são especificados por pares de inteiros.\n",
    "Através da função:\n",
    ">**.add_edges(*Lista de IDs das Vértices*)**  \n",
    "\n",
    "Podemos passar uma lista contendo os pares de vértices que serão associadas(ou apenas uma tupla contendo um par, no caso da adição de apenas uma vértice)."
   ]
  },
  {
   "cell_type": "code",
   "execution_count": 6,
   "metadata": {},
   "outputs": [],
   "source": [
    "g.add_edges([(0, 1), (0, 2)])"
   ]
  },
  {
   "cell_type": "code",
   "execution_count": 28,
   "metadata": {},
   "outputs": [
    {
     "name": "stdout",
     "output_type": "stream",
     "text": [
      "IGRAPH U--- 3 2 --\n",
      "+ attr: Data (g), date (g), Gênero (v), Idade (v), Nome (v), CONHECE (e)\n",
      "+ edges:\n",
      "0--1 0--2\n"
     ]
    }
   ],
   "source": [
    "print(g) #OUTPUT: IGRAPH U--- VERTICES  ARESTAS --"
   ]
  },
  {
   "cell_type": "markdown",
   "metadata": {},
   "source": [
    "**Arestas** também **possuem IDs**, de forma similar aos vértices.\n",
    "Ao apagar uma vértice, as demais necessárias serão renumeradas, para a manutenção da ordem numérica.\n",
    "\n",
    ">Arestas podem ser deletadas através da função:  \n",
    ">\n",
    ">**.delete_vertices(*Lista de IDs*)**  \n",
    "***\n",
    "Caso você **não souber o ID de uma aresta que você deseja deletar**, porém, sabe os **IDs das vértices em ambos os pontos finais**, você pode **recuperar o ID da aresta que conecta-os**, através da função:\n",
    ">**.get_eid(*IDs extremidades*)**  "
   ]
  },
  {
   "cell_type": "code",
   "execution_count": 54,
   "metadata": {},
   "outputs": [],
   "source": [
    "g.delete_vertices((0,2))"
   ]
  },
  {
   "cell_type": "markdown",
   "metadata": {},
   "source": [
    "> O comando **summary()** pode ser utilizado para obter uma visão geral de um dado objeto grafo."
   ]
  },
  {
   "cell_type": "code",
   "execution_count": 27,
   "metadata": {},
   "outputs": [
    {
     "name": "stdout",
     "output_type": "stream",
     "text": [
      "IGRAPH U--- 3 2 -- \n",
      "+ attr: Data (g), date (g), Gênero (v), Idade (v), Nome (v), CONHECE (e)\n"
     ]
    }
   ],
   "source": [
    "summary(g) #OUTPUT: IGRAPH U--- VERTICES  ARESTAS -- tal como utilizar o print, porém, de maneira mais \"limpa\""
   ]
  },
  {
   "cell_type": "markdown",
   "metadata": {},
   "source": [
    "### Geradores de Grafos"
   ]
  },
  {
   "cell_type": "markdown",
   "metadata": {},
   "source": [
    "igraph possui um largo conjunto de geradores de grafos, que podem ser divididos em dois grupos:\n",
    "   - **Determinístico**: Produzem o mesmo tipo de grafo quando chamado com os mesmo parâmetros;  \n",
    "       - Incluem métodos para criação de árvores,grades regulares, anéis, *extended chordal rings*. \n",
    "   - **Estocásticos (indeterminado)**: Produzem um grafo diferente toda vez.\n",
    "       - Usados para criar redes aleatórias Erdős-Rényi, redes Barabási-Albert, grafos geométricos aleatórios.\n",
    "\n",
    "\n"
   ]
  },
  {
   "cell_type": "markdown",
   "metadata": {},
   "source": [
    "**Graph.Tree()** gerá uma árvore regular.  \n",
    "- Pode ser gerada com n vértices e cada vértice (partindo das folhas) possuem m filhos. Não importa quantas vezes chamamos a função, o grafo será sempre o mesmo sobre parâmetros equivalente.\n",
    "\n",
    "> var = Graph.Tree(n, m)"
   ]
  },
  {
   "cell_type": "code",
   "execution_count": 61,
   "metadata": {},
   "outputs": [],
   "source": [
    "g = Graph.Tree(127, 40)"
   ]
  },
  {
   "cell_type": "markdown",
   "metadata": {},
   "source": [
    "> **Método .get_edgelist()**\n",
    "> - Retorna uma lista que contêm pares de inteiros, uma para cada aresta. O primeiro membro do par é o ID do vértice da fonte, e o segundo membro é o ID do vértice alvo da aresta correspondente."
   ]
  },
  {
   "cell_type": "code",
   "execution_count": 43,
   "metadata": {},
   "outputs": [
    {
     "data": {
      "text/plain": [
       "[(0, 1), (0, 2), (2, 3), (3, 4), (2, 4), (2, 5), (0, 5), (3, 6), (5, 6)]"
      ]
     },
     "execution_count": 43,
     "metadata": {},
     "output_type": "execute_result"
    }
   ],
   "source": [
    "g.get_edgelist()"
   ]
  },
  {
   "cell_type": "markdown",
   "metadata": {},
   "source": [
    "> **Graph.GRG()**\n",
    ">- gerá um grafo geométrico aleaório."
   ]
  },
  {
   "cell_type": "markdown",
   "metadata": {},
   "source": [
    ">***Grafo_Um.isomorphic*(*Grafo_Dois*)**\n",
    ">- mostra se dois grafos são isomórficos ou não."
   ]
  },
  {
   "cell_type": "markdown",
   "metadata": {},
   "source": [
    "### Definindo e Recuperando Propriedades"
   ]
  },
  {
   "cell_type": "markdown",
   "metadata": {},
   "source": [
    "Propriedades: Objetos auxiliares associados a uma dada vértice ou aresta de um grafo, ou até mesmo a um grafo como um todo.  \n",
    "\n",
    "---\n",
    "Todo Grafo igraph, vértice e arco se comporta como um dicionário Python em um certo sentido: você pode adicionar pares de valores-chave para qualquer um deles, com a chave representando o nome de seu atributo (a única restrição é que deve ser uma String) e o valor representando o atributo por si só."
   ]
  },
  {
   "cell_type": "markdown",
   "metadata": {},
   "source": [
    "Todo objeto Grafo possui dois elementos especial chamados ***`vs`*** e ***`es`***, fixados para a sequência de todos os vértices e todos os arcos, respectivamente. Se você tentar utilizá-los como um dicionário Python, você irá manipular a área de armazenamento de atributos do grafo."
   ]
  },
  {
   "cell_type": "code",
   "execution_count": 8,
   "metadata": {},
   "outputs": [
    {
     "data": {
      "text/plain": [
       "<igraph.VertexSeq at 0x1d034c999a0>"
      ]
     },
     "execution_count": 8,
     "metadata": {},
     "output_type": "execute_result"
    }
   ],
   "source": [
    "g.vs"
   ]
  },
  {
   "cell_type": "code",
   "execution_count": 19,
   "metadata": {},
   "outputs": [],
   "source": [
    "g.vs[\"Nome\"] = [\"Alice\", \"Bob\", \"Claire\", \"Dennis\", \"Esther\", \"Frank\", \"George\"]\n",
    "g.vs[\"Idade\"] = [25, 31, 18, 47, 22, 23, 50]\n",
    "g.vs[\"Gênero\"] = [\"f\", \"m\", \"f\", \"m\", \"f\", \"m\", \"m\"]\n",
    "g.es[\"CONHECE\"] = [False, False, True, True, True, False, True, False, False]"
   ]
  },
  {
   "cell_type": "markdown",
   "metadata": {},
   "source": [
    "Sempre que utilizarmos vs ou es como um dicionário, estaremos atribuindo atributos a todos os vértices/arestas do grafo. No entanto, você pode simplesmente alterar os atributos dos vértices e arestas individualmente apenas indexando vs ou es com inteiros como se estes fossem listas. Ao indexa-los, você obtêm um objeto *vertex* ou *edge*, que referencia uma única vértice ou uma uma aresta do grafo. Objetos *Vertex* e *Edge* podem, além disso, setem utilizados como dicionários para alterar os atributos de uma única vértice ou arco:"
   ]
  },
  {
   "cell_type": "code",
   "execution_count": 79,
   "metadata": {},
   "outputs": [
    {
     "data": {
      "text/plain": [
       "igraph.Edge(<igraph.Graph object at 0x000001EA6FB54C70>, 0, {'CONHECE': False})"
      ]
     },
     "execution_count": 79,
     "metadata": {},
     "output_type": "execute_result"
    }
   ],
   "source": [
    "# Indexar um objeto EdgeSeq retorna objetos Edge;\n",
    "# Output mostra que esse objeto grafo pertence ao ID do arco e ao dicionário de atributos associados a esse arco.\n",
    "g.es[0]        "
   ]
  },
  {
   "cell_type": "markdown",
   "metadata": {},
   "source": [
    ">**Objetos Edge** nos mostram algumas **propriedades úteis**, tal como: \n",
    ">- A propriedade ***`source`*** nos fornece o vértice fonte desse arco;\n",
    ">- A propriedade ***`target`*** nos fornece a vértice alvo;\n",
    ">- A propriedade ***`index`*** nos fornece o ID da vértice correspondente;\n",
    ">- A propriedade ***`tuple`*** nos fornece uma tupla contendo a fonte e vértices alvos;\n",
    ">- Método ***`attributes()`*** nos fornece um dicionário contendo os atributos desse arco. \n",
    "\n",
    ">Instâncias *Vertex* apenas possuem ***index*** e ***attributes()***."
   ]
  },
  {
   "cell_type": "code",
   "execution_count": 42,
   "metadata": {},
   "outputs": [
    {
     "data": {
      "text/plain": [
       "{'CONHECE': False}"
      ]
     },
     "execution_count": 42,
     "metadata": {},
     "output_type": "execute_result"
    }
   ],
   "source": [
    "g.es[0].attributes()"
   ]
  },
  {
   "cell_type": "code",
   "execution_count": 81,
   "metadata": {},
   "outputs": [],
   "source": [
    "g.es[0][\"CONHECE\"] = True"
   ]
  },
  {
   "cell_type": "code",
   "execution_count": 85,
   "metadata": {},
   "outputs": [],
   "source": [
    "g.vs[0][\"Nome\"] = \"Arthur\""
   ]
  },
  {
   "cell_type": "markdown",
   "metadata": {},
   "source": [
    "Um objeto EdgeSeq, em geral, não necessariamente representa toda a sequência de arcos de um grafo. \n",
    "\n",
    "> **Objetos *Graph*** também podem se **comportar** como **dicionários**."
   ]
  },
  {
   "cell_type": "code",
   "execution_count": 11,
   "metadata": {},
   "outputs": [
    {
     "name": "stdout",
     "output_type": "stream",
     "text": [
      "27-01-2020\n"
     ]
    }
   ],
   "source": [
    "g[\"Data\"] = \"27-01-2020\"\n",
    "print(g[\"Data\"])"
   ]
  },
  {
   "cell_type": "markdown",
   "metadata": {},
   "source": [
    "> **Atributos** podem ser **deletados** através da **palavra reservada** no Python ***del***, tal como seria feito com qualquer elemento de um dicionário."
   ]
  },
  {
   "cell_type": "code",
   "execution_count": 10,
   "metadata": {},
   "outputs": [],
   "source": [
    "g.vs[0][\"CEP\"] = \"1241224\""
   ]
  },
  {
   "cell_type": "code",
   "execution_count": 11,
   "metadata": {},
   "outputs": [
    {
     "data": {
      "text/plain": [
       "['1241224', None, None]"
      ]
     },
     "execution_count": 11,
     "metadata": {},
     "output_type": "execute_result"
    }
   ],
   "source": [
    "g.vs[\"CEP\"]"
   ]
  },
  {
   "cell_type": "code",
   "execution_count": 12,
   "metadata": {},
   "outputs": [],
   "source": [
    "del g.vs[\"CEP\"]"
   ]
  },
  {
   "cell_type": "code",
   "execution_count": 24,
   "metadata": {},
   "outputs": [
    {
     "ename": "KeyError",
     "evalue": "'Attribute does not exist'",
     "output_type": "error",
     "traceback": [
      "\u001b[1;31m---------------------------------------------------------------------------\u001b[0m",
      "\u001b[1;31mKeyError\u001b[0m                                  Traceback (most recent call last)",
      "\u001b[1;32m<ipython-input-24-7cf51097ffe6>\u001b[0m in \u001b[0;36m<module>\u001b[1;34m\u001b[0m\n\u001b[1;32m----> 1\u001b[1;33m \u001b[0mg\u001b[0m\u001b[1;33m.\u001b[0m\u001b[0mvs\u001b[0m\u001b[1;33m[\u001b[0m\u001b[1;34m\"CEP\"\u001b[0m\u001b[1;33m]\u001b[0m\u001b[1;33m\u001b[0m\u001b[1;33m\u001b[0m\u001b[0m\n\u001b[0m",
      "\u001b[1;31mKeyError\u001b[0m: 'Attribute does not exist'"
     ]
    }
   ],
   "source": [
    "g.vs[\"CEP\"]"
   ]
  },
  {
   "cell_type": "markdown",
   "metadata": {},
   "source": [
    "### Propriedades Estruturais dos Grafos"
   ]
  },
  {
   "cell_type": "markdown",
   "metadata": {},
   "source": [
    "igraph proporciona um grande conjunto de métodos para calcular várias propriedades estruturas de grafos.\n",
    "Provavelmente, a propriedade mais simples que qualquer um pode pensar é o grau de um vértice. O grau de um vértice é equivalente ao número de arcos associados a aquele vértice. No caso de redes direcionadas, podemos definir: grau de entrada (o número de arcos que entram no vértice) e grau de saída (o número de arcos que partem do vértice)."
   ]
  },
  {
   "cell_type": "code",
   "execution_count": 25,
   "metadata": {},
   "outputs": [
    {
     "data": {
      "text/plain": [
       "[2, 1, 1]"
      ]
     },
     "execution_count": 25,
     "metadata": {},
     "output_type": "execute_result"
    }
   ],
   "source": [
    "g.degree()"
   ]
  },
  {
   "cell_type": "markdown",
   "metadata": {},
   "source": [
    "Caso o grafo for direciona, nós devemos estar aptos para calcular o grau de entrada e de saída separadamente:\n",
    ">**g.degree(type=\"in\")**\n",
    "\n",
    ">**g.degree(type=\"out\")**  \n",
    "\n",
    "Além disso, você pode passar o ID de uma única vértice ou uma lista de IDs de vértices para a função **degree()**, caso queira apenas calcular o grau para um único subconjunto de vértices."
   ]
  },
  {
   "cell_type": "code",
   "execution_count": 32,
   "metadata": {},
   "outputs": [
    {
     "data": {
      "text/plain": [
       "1"
      ]
     },
     "execution_count": 32,
     "metadata": {},
     "output_type": "execute_result"
    }
   ],
   "source": [
    "g.degree(2)"
   ]
  },
  {
   "cell_type": "code",
   "execution_count": 33,
   "metadata": {},
   "outputs": [
    {
     "data": {
      "text/plain": [
       "[2, 1]"
      ]
     },
     "execution_count": 33,
     "metadata": {},
     "output_type": "execute_result"
    }
   ],
   "source": [
    "g.degree([0, 1])"
   ]
  },
  {
   "cell_type": "markdown",
   "metadata": {},
   "source": [
    "Estes exemplos, abordam a maior parte de propriedades estruturais de um grafo que o igraph consegue calcular. \n",
    "> Para **propriedades dos vértices**, os métodos aceitam um **ID de uma vértice ou uma lista de IDs de vértices** (e caso estes forem omitidos, o padrão será o retorno do conjunto de todos os vértices).\n",
    "\n",
    "> Para **propriedades das arestas**, os métodos aceitam o **ID de uma única aresta or uma lista de IDs de arestas**. \n",
    "\n",
    "> Ao invés de uma lista de IDs, você pode se utilizar adequadamente de ***instâncias VertexSeq*** ou ***EdgeSeq***."
   ]
  },
  {
   "cell_type": "markdown",
   "metadata": {},
   "source": [
    "> Para algumas medidas, não faz sentido calcular as propriedades de apenas algumas vértices ou arestas, ao invés do grafo todo, pois de qualquer forma, isto tomaria a mesma porção de tempo. Neste caso, os métodos não aceitam IDs de vértices ou arestas, mas posteriormente, você ainda pode restringir a lista resultante se utilizando de um simples indexamente de listas e operadores de divisão(*\"slicing operators\"*). Um destes exemplos é *eigenvector centrality* (Graph.evcent())"
   ]
  },
  {
   "cell_type": "markdown",
   "metadata": {},
   "source": [
    "Além do *degree*, igraph inclui rotinas integradas para calcular outras propriedades de centralidade, incluindo intermediação de vértices e arestas.\n",
    "> Graph.betweenness()\n",
    "\n",
    "> Graph.edge_betweenness()\n",
    "\n",
    "PageRank\n",
    ">Graph.pagerank()\n",
    "\n",
    "Apenas nomeando algumas destas rotinas.\n",
    "\n",
    "Para entender melhor alguns [conceitos](https://www.lume.ufrgs.br/bitstream/handle/10183/86094/000909891.pdf?sequence=1)."
   ]
  },
  {
   "cell_type": "code",
   "execution_count": 34,
   "metadata": {},
   "outputs": [
    {
     "data": {
      "text/plain": [
       "[2.0, 2.0]"
      ]
     },
     "execution_count": 34,
     "metadata": {},
     "output_type": "execute_result"
    }
   ],
   "source": [
    "g.edge_betweenness()"
   ]
  },
  {
   "cell_type": "markdown",
   "metadata": {},
   "source": [
    "Agora podemos descobrir qual das conexões possui o maior grau de intermediação de arestas com um pouco de \"mágica\" do Python"
   ]
  },
  {
   "cell_type": "code",
   "execution_count": 47,
   "metadata": {},
   "outputs": [],
   "source": [
    "valores_intermediacao = g.edge_betweenness()"
   ]
  },
  {
   "cell_type": "code",
   "execution_count": 48,
   "metadata": {},
   "outputs": [],
   "source": [
    "max_grau_intermediacao = max(valores_intermediacao)"
   ]
  },
  {
   "cell_type": "markdown",
   "metadata": {},
   "source": [
    "***\n",
    "> Função enumerate() retorna um objeto enumerado. O parâmetro deve ser uma sequência, um iterador, ou algum objeto que suporte iterações.\n",
    "***"
   ]
  },
  {
   "cell_type": "code",
   "execution_count": 44,
   "metadata": {},
   "outputs": [
    {
     "data": {
      "text/plain": [
       "[(0, 1), (0, 2)]"
      ]
     },
     "execution_count": 44,
     "metadata": {},
     "output_type": "execute_result"
    }
   ],
   "source": [
    "[g.es[i].tuple for i, aresta_intermediacao in enumerate(valores_intermediacao) if aresta_intermediacao == max_grau_intermediacao]"
   ]
  },
  {
   "cell_type": "markdown",
   "metadata": {},
   "source": [
    "___\n",
    "#### List Comprehension\n",
    ">`[ expression for item in list if conditional ]`\n",
    "\n",
    "É equivalente a:\n",
    "\n",
    "> `\n",
    "for item in list:\n",
    "  if conditional:\n",
    "    expression\n",
    "`\n",
    "___"
   ]
  },
  {
   "cell_type": "markdown",
   "metadata": {},
   "source": [
    "A maioria das propriedades estruturais podem ser recuperadas para um subconjunto de vértices ou arestas ou para uma única vértice ou aresta, chamando apropriadamente em objetos *VertexSeq, EdgeSeq, Vertex* ou *Edge* de interessente:"
   ]
  },
  {
   "cell_type": "code",
   "execution_count": 44,
   "metadata": {},
   "outputs": [
    {
     "data": {
      "text/plain": [
       "[3, 1, 4, 3, 2, 3, 2]"
      ]
     },
     "execution_count": 44,
     "metadata": {},
     "output_type": "execute_result"
    }
   ],
   "source": [
    "g.vs.degree()"
   ]
  },
  {
   "cell_type": "code",
   "execution_count": 13,
   "metadata": {},
   "outputs": [
    {
     "data": {
      "text/plain": [
       "[6.0, 6.0, 4.0, 2.0, 4.0, 3.0, 4.0, 3.0, 4.0]"
      ]
     },
     "execution_count": 13,
     "metadata": {},
     "output_type": "execute_result"
    }
   ],
   "source": [
    "g.es.edge_betweenness()"
   ]
  },
  {
   "cell_type": "code",
   "execution_count": 14,
   "metadata": {},
   "outputs": [
    {
     "data": {
      "text/plain": [
       "4"
      ]
     },
     "execution_count": 14,
     "metadata": {},
     "output_type": "execute_result"
    }
   ],
   "source": [
    "g.vs[2].degree()"
   ]
  },
  {
   "cell_type": "markdown",
   "metadata": {},
   "source": [
    "### Consultando Vértices ou Arestas baseado em propriedades"
   ]
  },
  {
   "cell_type": "markdown",
   "metadata": {},
   "source": [
    "Imagine que você gostaria de achar quem possui o maior grau ou grau de intermediação de uma dada rede social. Você pode fazer isso com algumas das ferramentas apresentadas até aqui e algum conhecimento básico em Python, mas desde que selecionar vértices e arestas baseado e atributos e propriedades estruturais é uma tarefa comum, portanto igraph dá a você uma maneira mais fácil de fazer isso:"
   ]
  },
  {
   "cell_type": "code",
   "execution_count": 47,
   "metadata": {},
   "outputs": [
    {
     "data": {
      "text/plain": [
       "['Claire']"
      ]
     },
     "execution_count": 47,
     "metadata": {},
     "output_type": "execute_result"
    }
   ],
   "source": [
    "g.vs.select(_degree = g.maxdegree())[\"Nome\"]"
   ]
  },
  {
   "cell_type": "markdown",
   "metadata": {},
   "source": [
    "A sintaxe pode parecer um pouco estranha a primeiro momento, então, vamos tentar interpretar isto passo por passo.\n",
    "\n",
    "> **select()** é um método de ***VertexSeq*** e seu único propósito é filtrar uma sequência de vértices baseado nas propriedades individuais das vértices. A maneira que ele filtra as vértices, depende dos argumentos posicionais ou nomeados.  \n",
    "Argumentos posicionais (aqueles sem um nome explicíto, como o _degree acima) são sempre processando antes de argumentos nomeados.\n",
    "\n",
    "> Se o primeiro argumento posicional for nulo, uma sequência vazia será retornada."
   ]
  },
  {
   "cell_type": "code",
   "execution_count": 39,
   "metadata": {},
   "outputs": [
    {
     "data": {
      "text/plain": [
       "0"
      ]
     },
     "execution_count": 39,
     "metadata": {},
     "output_type": "execute_result"
    }
   ],
   "source": [
    "seq = g.vs.select(None)\n",
    "len(seq)"
   ]
  },
  {
   "cell_type": "markdown",
   "metadata": {},
   "source": [
    "***\n",
    "> **Argumento posicional** é o nome utilizado para a passagem de valores onde cada valor estara na ordem conforme implementado na função.\n",
    "> Ex.: Funcao(1, 2, 3)\n",
    "\n",
    "> **Argumento nomeado** é a passagem de valores fazendo associação com o nome do parâmetro e o valor que está sendo enviado.\n",
    "> Ex.: Funcao(a = 1, b = 2, c = 3)\n",
    "***"
   ]
  },
  {
   "cell_type": "markdown",
   "metadata": {},
   "source": [
    "Se o primeiro argumento posicional, for um objeto chamável (ex.: uma função, um bound method, ou qualquer coisa que se comporte como uma função), o objeto será chamado para toda vértice que está na sequência. Se a função retorna True, a vértice será incluída, caso não, ela será ignorada.\n",
    "\n",
    "> Bound Method é aquele ao qual necessita como primeiro argumento posicional, uma instância de uma classe.  \n",
    "> Ex.: # Python code to demonstrate \n",
    ">\n",
    ">```python\n",
    "># use of bound methods\n",
    ">  \n",
    ">class A: \n",
    ">  \n",
    ">    def func(self, arg): \n",
    ">        self.arg = arg \n",
    ">        print(\"Value of arg = \", arg) \n",
    ">  \n",
    ">  \n",
    "># Creating an instance  \n",
    ">obj = A()   \n",
    ">  \n",
    ">#bound method \n",
    ">print(obj.func) \n",
    ">```"
   ]
  },
  {
   "cell_type": "code",
   "execution_count": 64,
   "metadata": {},
   "outputs": [],
   "source": [
    "graph = Graph.Full(10)"
   ]
  },
  {
   "cell_type": "code",
   "execution_count": 65,
   "metadata": {},
   "outputs": [],
   "source": [
    "only_odd_vertices = graph.vs.select(lambda vertex: vertex.index % 2 == 1)\n",
    "len(only_odd_vertices)"
   ]
  },
  {
   "cell_type": "markdown",
   "metadata": {},
   "source": [
    "> Se o primeiro argumento posicional for um iterável (ex.: uma lista, um gerador, ou qualquer coisa que possa ser iterada), a função retornará inteiros e esses inteiros devem ser considerados como índices para o conjunto de vértices atual (que não necessariamente são o grafo todo)."
   ]
  },
  {
   "cell_type": "code",
   "execution_count": 87,
   "metadata": {},
   "outputs": [],
   "source": [
    "seq = graph.vs.select([2, 3, 7])"
   ]
  },
  {
   "cell_type": "code",
   "execution_count": 88,
   "metadata": {},
   "outputs": [
    {
     "data": {
      "text/plain": [
       "3"
      ]
     },
     "execution_count": 88,
     "metadata": {},
     "output_type": "execute_result"
    }
   ],
   "source": [
    "len(seq)"
   ]
  },
  {
   "cell_type": "code",
   "execution_count": 89,
   "metadata": {},
   "outputs": [
    {
     "data": {
      "text/plain": [
       "[2, 3, 7]"
      ]
     },
     "execution_count": 89,
     "metadata": {},
     "output_type": "execute_result"
    }
   ],
   "source": [
    "[v.index for v in seq]"
   ]
  },
  {
   "cell_type": "code",
   "execution_count": 90,
   "metadata": {
    "scrolled": true
   },
   "outputs": [
    {
     "data": {
      "text/plain": [
       "[2, 7]"
      ]
     },
     "execution_count": 90,
     "metadata": {},
     "output_type": "execute_result"
    }
   ],
   "source": [
    "seq = seq.select([0, 2])         # Filtrando um conjunto existente de vértices\n",
    "[v.index for v in seq]"
   ]
  },
  {
   "cell_type": "markdown",
   "metadata": {},
   "source": [
    "Apenas esses vértices que combinem com os dados índices serão incluídas na filtragem do conjunto de vértices. Floats, string, IDs de vértices inválidas serão silenciosamente ignoradas."
   ]
  },
  {
   "cell_type": "code",
   "execution_count": 81,
   "metadata": {},
   "outputs": [],
   "source": [
    "seq = graph.vs.select([2, 3, 7, \"Nome\", 3.5])\n",
    "len(seq)"
   ]
  },
  {
   "cell_type": "markdown",
   "metadata": {},
   "source": [
    "Se o primeiro argumento posicional for um inteiro, todos os argumentos restantes são esperados serem inteiros e eles são interpretados como índices do atual conjunto de vértices."
   ]
  },
  {
   "cell_type": "code",
   "execution_count": 83,
   "metadata": {},
   "outputs": [
    {
     "data": {
      "text/plain": [
       "3"
      ]
     },
     "execution_count": 83,
     "metadata": {},
     "output_type": "execute_result"
    }
   ],
   "source": [
    "seq = graph.vs.select(2, 3, 7)\n",
    "len(seq)"
   ]
  },
  {
   "cell_type": "markdown",
   "metadata": {},
   "source": [
    "**Argumentos nomeados** podem ser utilizados para **filtrar as vértices baseado em seus atributos ou em suas propriedades estruturais**. \n",
    "\n",
    "> O nome de cada argumento nomeado deve consistir em duas partes:  \n",
    "> - O nome do atributo ou propriedade estrutural;\n",
    "> - O operador de filtragrem;  \n",
    ">    - O operador de filtagrem pode ser omitido; neste caso, nós automaticamente assumimos o operador de igualdade."
   ]
  },
  {
   "cell_type": "markdown",
   "metadata": {},
   "source": [
    "\n",
    "As possibilidades seguem-se logo abaixo (onde o nome denota o nome do **atributo ou da propriedade**):\n",
    "\n",
    "| **Argumento nomeado** | **Significado**                                                                                                            |\n",
    "|:---------------------:|----------------------------------------------------------------------------------------------------------------------------|\n",
    "| name_eq               | Valor da propriedade deve ser **==** ao valor do argumento nomeado.                                                        |\n",
    "| name_ne               | Valor da propriedade deve ser **!=** ao valor do argumento nomeado.                                                        |\n",
    "| name_lt               | Valor da propriedade deve ser **<** que o valor do argumento nomeado.                                                      |\n",
    "| name_le               | Valor da propriedade deve ser **<=** ao valor do argumento nomeado.                                                        |\n",
    "| name_gt               | Valor da propriedade deve ser **>** ao valor do argumento nomeado.                                                         |\n",
    "| name_ge               | Valor da propriedade deve ser **>=** ao valor do argumento nomeado.                                                        |\n",
    "| name_in               | Valor da propriedade deve ser **incluído** no valor do argumento nomeado, o que deve ser uma sequência nesse caso.         |\n",
    "| name_notin            | Valor da propriedade **não** deve ser **incluído** no valor do argumento nomeado, o que deve ser uma sequência nesse caso. |\n"
   ]
  },
  {
   "cell_type": "code",
   "execution_count": 97,
   "metadata": {},
   "outputs": [
    {
     "data": {
      "text/plain": [
       "<igraph.VertexSeq at 0x2222679a8b0>"
      ]
     },
     "execution_count": 97,
     "metadata": {},
     "output_type": "execute_result"
    }
   ],
   "source": [
    "g.vs.select(Idade_lt = 30)"
   ]
  },
  {
   "cell_type": "code",
   "execution_count": 98,
   "metadata": {},
   "outputs": [
    {
     "data": {
      "text/plain": [
       "<igraph.VertexSeq at 0x2222679ac70>"
      ]
     },
     "execution_count": 98,
     "metadata": {},
     "output_type": "execute_result"
    }
   ],
   "source": [
    "g.vs(Idade_lt = 30) # Sintaxe mais simplificada omitindo o select()"
   ]
  },
  {
   "cell_type": "markdown",
   "metadata": {},
   "source": [
    "Teoricamente, pode existir um atributo e uma propriedade estrutural com mesmos nomes. Neste caso, não estaremos aptos a decidir se o usuário quis dizer que este é um atributo da vértice ou uma propriedade estrutural. \n",
    "> Para resolver tal ambiguidade, **nomes de propriedades estruturais devem sempre serem precedidos por um underscore (_) quando utilizados para filtragrem**.\n",
    "    "
   ]
  },
  {
   "cell_type": "code",
   "execution_count": 99,
   "metadata": {},
   "outputs": [
    {
     "data": {
      "text/plain": [
       "<igraph.VertexSeq at 0x2222679a400>"
      ]
     },
     "execution_count": 99,
     "metadata": {},
     "output_type": "execute_result"
    }
   ],
   "source": [
    "g.vs(_degree_gt=2)"
   ]
  },
  {
   "cell_type": "markdown",
   "metadata": {},
   "source": [
    "Há também algumas propriedades estruturais especiais para selecionar vértices:\n",
    "> - Usando ***_source*** ou ***_from*** na lista de filtros de argumentos nomeados do EdgeSeq.select() baseado nos vértices fonte das arestas. Ex.: selecionar todas as arestas originadas de Arthur:"
   ]
  },
  {
   "cell_type": "code",
   "execution_count": 100,
   "metadata": {},
   "outputs": [
    {
     "data": {
      "text/plain": [
       "<igraph.EdgeSeq at 0x222267a7310>"
      ]
     },
     "execution_count": 100,
     "metadata": {},
     "output_type": "execute_result"
    }
   ],
   "source": [
    "g.es.select(_source = 0)"
   ]
  },
  {
   "cell_type": "markdown",
   "metadata": {},
   "source": [
    "> - Usando filtros ***_target*** ou ***_to***, baseado nas vértices alvo. *Isso é diferente de _source e _from se o grafo é direcionado.\n",
    "\n",
    "> - ***_within*** pega um objeto *VertexSeq* ou uma lista ou um conjunto de indíces de vértices, e seleciona todas as arestas originadas e terminadas no dado conjunto de vértices. Ex.: selecionar todas as arestas entre Arthur (0), Bob (1) e Claire(2)."
   ]
  },
  {
   "cell_type": "code",
   "execution_count": 101,
   "metadata": {},
   "outputs": [
    {
     "data": {
      "text/plain": [
       "<igraph.EdgeSeq at 0x222267a7590>"
      ]
     },
     "execution_count": 101,
     "metadata": {},
     "output_type": "execute_result"
    }
   ],
   "source": [
    "g.es.select(_within = [0, 1, 2])"
   ]
  },
  {
   "cell_type": "code",
   "execution_count": 102,
   "metadata": {},
   "outputs": [
    {
     "data": {
      "text/plain": [
       "<igraph.EdgeSeq at 0x222267a7ae0>"
      ]
     },
     "execution_count": 102,
     "metadata": {},
     "output_type": "execute_result"
    }
   ],
   "source": [
    "g.es.select(_within=g.vs[0:2]) # Utilizando-se de um objeto VertexSeq"
   ]
  },
  {
   "cell_type": "markdown",
   "metadata": {},
   "source": [
    "> - ***_between*** pega uma tupla consistindo de dois objetos *VertexSeq* ou listas contendo indíces de vértices ou objetos *Vertex* e seleciona todas as arestas que se originam em um dos conjuntos e terminam em outro. Ex.: Selectionar todas as arestas que conectam homens a mulheres."
   ]
  },
  {
   "cell_type": "code",
   "execution_count": 48,
   "metadata": {},
   "outputs": [],
   "source": [
    "homens = g.vs.select(Gênero = \"m\")\n",
    "mulheres = g.vs.select(Gênero = \"f\")"
   ]
  },
  {
   "cell_type": "code",
   "execution_count": 49,
   "metadata": {},
   "outputs": [
    {
     "data": {
      "text/plain": [
       "<igraph.EdgeSeq at 0x1d035884400>"
      ]
     },
     "execution_count": 49,
     "metadata": {},
     "output_type": "execute_result"
    }
   ],
   "source": [
    "g.es.select( _between = (homens, mulheres))"
   ]
  },
  {
   "cell_type": "markdown",
   "metadata": {},
   "source": [
    "### Achando uma única vértice ou aresta com algumas propriedades"
   ]
  },
  {
   "cell_type": "markdown",
   "metadata": {},
   "source": [
    "   Em muitos casos estamos procurando por uma única vértice ou aresta com algumas propriedades no grafo, e não nos importamos com qual dos matches é retornado se há múltiplos matches, ou nós sabemos que no futuro somente haverá um único match. Um exemplo típico é procurar por vértices por seus nomes na propriedade nome.  \n",
    "    Objetos *VertexSeq* e *EdgeSeq* providenciam o método **find()** para estes casos de uso.\n",
    "\n",
    "   > **find()** trabalha de forma similar ao **select()**, mas retorna apenas o primeiro match se houverem múltiples matches, e caso não haja matches, este retorna uma exceção (*\"exception\"*)."
   ]
  },
  {
   "cell_type": "code",
   "execution_count": 115,
   "metadata": {},
   "outputs": [
    {
     "data": {
      "text/plain": [
       "2"
      ]
     },
     "execution_count": 115,
     "metadata": {},
     "output_type": "execute_result"
    }
   ],
   "source": [
    "claire = g.vs.find( Nome = \"Claire\")\n",
    "type(claire)\n",
    "claire.index"
   ]
  },
  {
   "cell_type": "markdown",
   "metadata": {},
   "source": [
    "### Procurando vértices por meio de nomes"
   ]
  },
  {
   "cell_type": "markdown",
   "metadata": {},
   "source": [
    "  Os nomes dos vértices no igraph são indexados, de modo que estes possam ser procurados por seus nomes em um tempo constante e gradual. Para tornar coisas ainda mais fáceis, igraph aceita nomes de vértices (em quase) todo lugar onde são esperados IDs de vértices, e ainda aceita coleções (listas, tuplas etc) de nomes de vértices onde são espetador listas de IDs de vértices ou instâncias *VertexSeq*."
   ]
  },
  {
   "cell_type": "code",
   "execution_count": 3,
   "metadata": {},
   "outputs": [
    {
     "ename": "ValueError",
     "evalue": "no such vertex: 'Alice'",
     "output_type": "error",
     "traceback": [
      "\u001b[1;31m---------------------------------------------------------------------------\u001b[0m",
      "\u001b[1;31mValueError\u001b[0m                                Traceback (most recent call last)",
      "\u001b[1;32m<ipython-input-3-80833f8c6287>\u001b[0m in \u001b[0;36m<module>\u001b[1;34m\u001b[0m\n\u001b[0;32m      1\u001b[0m \u001b[1;31m# Estranhamente não funcionando, mas tudo bem\u001b[0m\u001b[1;33m\u001b[0m\u001b[1;33m\u001b[0m\u001b[1;33m\u001b[0m\u001b[0m\n\u001b[1;32m----> 2\u001b[1;33m \u001b[0mg\u001b[0m\u001b[1;33m.\u001b[0m\u001b[0mdegree\u001b[0m\u001b[1;33m(\u001b[0m\u001b[1;34m\"Alice\"\u001b[0m\u001b[1;33m)\u001b[0m\u001b[1;33m\u001b[0m\u001b[1;33m\u001b[0m\u001b[0m\n\u001b[0m",
      "\u001b[1;31mValueError\u001b[0m: no such vertex: 'Alice'"
     ]
    }
   ],
   "source": [
    "# Estranhamente não funcionando, mas tudo bem\n",
    "g.degree(\"Alice\")"
   ]
  },
  {
   "cell_type": "code",
   "execution_count": 53,
   "metadata": {},
   "outputs": [
    {
     "ename": "ValueError",
     "evalue": "no such vertex: 'Dennis'",
     "output_type": "error",
     "traceback": [
      "\u001b[1;31m---------------------------------------------------------------------------\u001b[0m",
      "\u001b[1;31mValueError\u001b[0m                                Traceback (most recent call last)",
      "\u001b[1;32m<ipython-input-53-a995803b7909>\u001b[0m in \u001b[0;36m<module>\u001b[1;34m\u001b[0m\n\u001b[1;32m----> 1\u001b[1;33m \u001b[0mg\u001b[0m\u001b[1;33m.\u001b[0m\u001b[0mvs\u001b[0m\u001b[1;33m.\u001b[0m\u001b[0mfind\u001b[0m\u001b[1;33m(\u001b[0m\u001b[1;34m\"Dennis\"\u001b[0m\u001b[1;33m)\u001b[0m\u001b[1;33m.\u001b[0m\u001b[0mdegree\u001b[0m\u001b[1;33m(\u001b[0m\u001b[1;33m)\u001b[0m\u001b[1;33m\u001b[0m\u001b[1;33m\u001b[0m\u001b[0m\n\u001b[0m",
      "\u001b[1;32mc:\\users\\arthu\\appdata\\local\\programs\\python\\python38\\lib\\site-packages\\igraph\\__init__.py\u001b[0m in \u001b[0;36mfind\u001b[1;34m(self, *args, **kwds)\u001b[0m\n\u001b[0;32m   3359\u001b[0m             \u001b[1;31m# Selecting first based on positional arguments, then checking\u001b[0m\u001b[1;33m\u001b[0m\u001b[1;33m\u001b[0m\u001b[1;33m\u001b[0m\u001b[0m\n\u001b[0;32m   3360\u001b[0m             \u001b[1;31m# the criteria specified by the (remaining) keyword arguments\u001b[0m\u001b[1;33m\u001b[0m\u001b[1;33m\u001b[0m\u001b[1;33m\u001b[0m\u001b[0m\n\u001b[1;32m-> 3361\u001b[1;33m             \u001b[0mvertex\u001b[0m \u001b[1;33m=\u001b[0m \u001b[0m_igraph\u001b[0m\u001b[1;33m.\u001b[0m\u001b[0mVertexSeq\u001b[0m\u001b[1;33m.\u001b[0m\u001b[0mfind\u001b[0m\u001b[1;33m(\u001b[0m\u001b[0mself\u001b[0m\u001b[1;33m,\u001b[0m \u001b[1;33m*\u001b[0m\u001b[0margs\u001b[0m\u001b[1;33m)\u001b[0m\u001b[1;33m\u001b[0m\u001b[1;33m\u001b[0m\u001b[0m\n\u001b[0m\u001b[0;32m   3362\u001b[0m             \u001b[1;32mif\u001b[0m \u001b[1;32mnot\u001b[0m \u001b[0mkwds\u001b[0m\u001b[1;33m:\u001b[0m\u001b[1;33m\u001b[0m\u001b[1;33m\u001b[0m\u001b[0m\n\u001b[0;32m   3363\u001b[0m                 \u001b[1;32mreturn\u001b[0m \u001b[0mvertex\u001b[0m\u001b[1;33m\u001b[0m\u001b[1;33m\u001b[0m\u001b[0m\n",
      "\u001b[1;31mValueError\u001b[0m: no such vertex: 'Dennis'"
     ]
    }
   ],
   "source": [
    "g.vs.find(\"Dennis\").degree()"
   ]
  },
  {
   "cell_type": "markdown",
   "metadata": {},
   "source": [
    "   O mapeamento entre nomes de vértices e IDs é mantido transparentemente no background pelo igraph; quando o grafo mudar, o igraph também irá atualizar o mapeamento interno. No entanto, a unicidade do nome do vértice não é forçada; você pode facilmente criar duas vértices que possuam o mesmo nome, mas o igraph irá retornar apenas uma delas quando realizar a procura por seus nomes, o outro estará apenas disponível por meio de seu index."
   ]
  },
  {
   "cell_type": "code",
   "execution_count": 37,
   "metadata": {},
   "outputs": [],
   "source": [
    "# A partir daqui não tem muita importância, menor utilidade, porque a visualização será feita por meio de outra ferramenta"
   ]
  },
  {
   "cell_type": "markdown",
   "metadata": {},
   "source": [
    "Para maiores detalhes dessa sessão, consultar: https://igraph.org/python/doc/tutorial/tutorial.html#layouts-and-plotting"
   ]
  },
  {
   "cell_type": "markdown",
   "metadata": {},
   "source": [
    "### Layouts e plotting\n",
    "\n",
    "   Visualização de Grafos por meio de algoritmos de layout para grafos. igraph implementa alguns deles e está apto a \"desenhar\" eles na tela ou em um PDF, PNG ou arquivo SVG utilizando-se da **biblioteca Cairo**."
   ]
  },
  {
   "cell_type": "markdown",
   "metadata": {},
   "source": [
    "#### Layout algorithms\n",
    "Os métodos layout no igraph são encontrados no objeto *Graph*, e eles sempre se iniciam por **layout_**. Veja a [tabela](https://igraph.org/python/doc/tutorial/tutorial.html#layout-algorithms) contendo-os.\n",
    "Os algoritmos layout podem também ser chamados diretamente ou utilizando-se do método layout comum chamado **layout()**."
   ]
  },
  {
   "cell_type": "code",
   "execution_count": 13,
   "metadata": {},
   "outputs": [],
   "source": [
    "layout = g.layout_circle()\n",
    "layout = g.layout(\"circle\")"
   ]
  },
  {
   "cell_type": "markdown",
   "metadata": {},
   "source": [
    "O primeiro argumento do método layout() deve ser um nome abreviado do algoritmo layout (veja a tabela no link acima). Todas os argumentos posicionais e nomeados são passados inalterados para o método layout escolhido."
   ]
  },
  {
   "cell_type": "markdown",
   "metadata": {},
   "source": [
    "Métodos Layout retornam um objeto Layout que se comporta em maior parte como uma lista de listas. Cada entrada de lista em um objeto Layout corresponde a uma vértice no grafo original e contém coordenadas do vértice no espaço 2D ou 3D. Objetos Layout podem também conter alguns métodos úteis para traduzir, escalar ou rodar as coordenadas em um batch. No entanto, a utilidade primária do objeto Layout é passar eles para a **função plot()** juntamente com o grafo, de forma a obter um desenho 2D."
   ]
  },
  {
   "cell_type": "markdown",
   "metadata": {},
   "source": [
    "### Desenhando um Grafo usando um Layout"
   ]
  },
  {
   "cell_type": "code",
   "execution_count": 5,
   "metadata": {},
   "outputs": [
    {
     "data": {
      "image/svg+xml": [
       "<?xml version=\"1.0\" encoding=\"UTF-8\"?>\n",
       "<svg xmlns=\"http://www.w3.org/2000/svg\" xmlns:xlink=\"http://www.w3.org/1999/xlink\" width=\"600pt\" height=\"600pt\" viewBox=\"0 0 600 600\" version=\"1.1\">\n",
       "<defs>\n",
       "<g>\n",
       "<symbol overflow=\"visible\" id=\"glyph0-0\">\n",
       "<path style=\"stroke:none;\" d=\"M 1.75 0 L 1.75 -8.75 L 8.75 -8.75 L 8.75 0 Z M 1.96875 -0.21875 L 8.53125 -0.21875 L 8.53125 -8.53125 L 1.96875 -8.53125 Z M 1.96875 -0.21875 \"/>\n",
       "</symbol>\n",
       "<symbol overflow=\"visible\" id=\"glyph0-1\">\n",
       "<path style=\"stroke:none;\" d=\"M -0.0195313 0 L 3.828125 -10.023438 L 5.257813 -10.023438 L 9.359375 0 L 7.847656 0 L 6.679688 -3.035156 L 2.488281 -3.035156 L 1.386719 0 Z M 2.871094 -4.117188 L 6.269531 -4.117188 L 5.222656 -6.890625 C 4.898438 -7.734375 4.664063 -8.425781 4.511719 -8.96875 C 4.382813 -8.324219 4.203125 -7.6875 3.972656 -7.054688 Z M 2.871094 -4.117188 \"/>\n",
       "</symbol>\n",
       "<symbol overflow=\"visible\" id=\"glyph0-2\">\n",
       "<path style=\"stroke:none;\" d=\"M 0.894531 0 L 0.894531 -10.023438 L 2.125 -10.023438 L 2.125 0 Z M 0.894531 0 \"/>\n",
       "</symbol>\n",
       "<symbol overflow=\"visible\" id=\"glyph0-3\">\n",
       "<path style=\"stroke:none;\" d=\"M 0.929688 -8.605469 L 0.929688 -10.023438 L 2.160156 -10.023438 L 2.160156 -8.605469 Z M 0.929688 0 L 0.929688 -7.257813 L 2.160156 -7.257813 L 2.160156 0 Z M 0.929688 0 \"/>\n",
       "</symbol>\n",
       "<symbol overflow=\"visible\" id=\"glyph0-4\">\n",
       "<path style=\"stroke:none;\" d=\"M 5.660156 -2.660156 L 6.871094 -2.5 C 6.734375 -1.664063 6.394531 -1.011719 5.855469 -0.542969 C 5.308594 -0.0703125 4.640625 0.164063 3.847656 0.164063 C 2.851563 0.164063 2.054688 -0.160156 1.453125 -0.808594 C 0.847656 -1.457031 0.542969 -2.386719 0.546875 -3.601563 C 0.542969 -4.382813 0.675781 -5.070313 0.9375 -5.660156 C 1.195313 -6.246094 1.589844 -6.683594 2.121094 -6.980469 C 2.652344 -7.269531 3.230469 -7.417969 3.855469 -7.421875 C 4.644531 -7.417969 5.289063 -7.21875 5.789063 -6.824219 C 6.289063 -6.421875 6.609375 -5.855469 6.753906 -5.125 L 5.558594 -4.941406 C 5.441406 -5.425781 5.238281 -5.792969 4.953125 -6.042969 C 4.660156 -6.285156 4.3125 -6.410156 3.902344 -6.414063 C 3.28125 -6.410156 2.777344 -6.1875 2.390625 -5.746094 C 2.003906 -5.296875 1.808594 -4.59375 1.8125 -3.636719 C 1.808594 -2.65625 1.996094 -1.945313 2.371094 -1.507813 C 2.742188 -1.0625 3.230469 -0.84375 3.835938 -0.847656 C 4.316406 -0.84375 4.71875 -0.992188 5.042969 -1.289063 C 5.367188 -1.585938 5.574219 -2.042969 5.660156 -2.660156 Z M 5.660156 -2.660156 \"/>\n",
       "</symbol>\n",
       "<symbol overflow=\"visible\" id=\"glyph0-5\">\n",
       "<path style=\"stroke:none;\" d=\"M 5.890625 -2.335938 L 7.164063 -2.179688 C 6.960938 -1.4375 6.589844 -0.859375 6.046875 -0.449219 C 5.503906 -0.0390625 4.8125 0.164063 3.972656 0.164063 C 2.910156 0.164063 2.066406 -0.160156 1.445313 -0.816406 C 0.820313 -1.464844 0.507813 -2.382813 0.511719 -3.570313 C 0.507813 -4.785156 0.824219 -5.734375 1.453125 -6.410156 C 2.082031 -7.082031 2.898438 -7.417969 3.902344 -7.421875 C 4.871094 -7.417969 5.664063 -7.085938 6.28125 -6.429688 C 6.894531 -5.765625 7.199219 -4.839844 7.203125 -3.644531 C 7.199219 -3.570313 7.199219 -3.460938 7.199219 -3.316406 L 1.785156 -3.316406 C 1.828125 -2.515625 2.054688 -1.902344 2.460938 -1.480469 C 2.867188 -1.054688 3.371094 -0.84375 3.976563 -0.847656 C 4.425781 -0.84375 4.8125 -0.960938 5.132813 -1.203125 C 5.453125 -1.4375 5.703125 -1.816406 5.890625 -2.335938 Z M 1.851563 -4.328125 L 5.90625 -4.328125 C 5.851563 -4.933594 5.695313 -5.390625 5.441406 -5.703125 C 5.046875 -6.171875 4.539063 -6.410156 3.917969 -6.414063 C 3.351563 -6.410156 2.875 -6.21875 2.492188 -5.84375 C 2.101563 -5.460938 1.890625 -4.957031 1.851563 -4.328125 Z M 1.851563 -4.328125 \"/>\n",
       "</symbol>\n",
       "<symbol overflow=\"visible\" id=\"glyph0-6\">\n",
       "<path style=\"stroke:none;\" d=\"M 1.023438 0 L 1.023438 -10.023438 L 4.785156 -10.023438 C 5.546875 -10.019531 6.160156 -9.917969 6.625 -9.71875 C 7.085938 -9.511719 7.449219 -9.199219 7.714844 -8.78125 C 7.976563 -8.355469 8.109375 -7.914063 8.109375 -7.457031 C 8.109375 -7.027344 7.992188 -6.625 7.757813 -6.246094 C 7.523438 -5.867188 7.171875 -5.5625 6.707031 -5.332031 C 7.3125 -5.152344 7.777344 -4.847656 8.105469 -4.421875 C 8.425781 -3.992188 8.589844 -3.488281 8.59375 -2.90625 C 8.589844 -2.4375 8.492188 -2 8.296875 -1.597656 C 8.097656 -1.191406 7.851563 -0.878906 7.5625 -0.664063 C 7.269531 -0.441406 6.902344 -0.277344 6.464844 -0.167969 C 6.019531 -0.0546875 5.480469 0 4.847656 0 Z M 2.351563 -5.8125 L 4.519531 -5.8125 C 5.101563 -5.8125 5.523438 -5.847656 5.78125 -5.925781 C 6.117188 -6.023438 6.371094 -6.191406 6.542969 -6.425781 C 6.710938 -6.65625 6.796875 -6.949219 6.800781 -7.300781 C 6.796875 -7.632813 6.71875 -7.925781 6.5625 -8.179688 C 6.402344 -8.429688 6.171875 -8.601563 5.878906 -8.699219 C 5.578125 -8.789063 5.070313 -8.835938 4.355469 -8.839844 L 2.351563 -8.839844 Z M 2.351563 -1.183594 L 4.847656 -1.183594 C 5.269531 -1.183594 5.570313 -1.199219 5.75 -1.230469 C 6.050781 -1.285156 6.304688 -1.375 6.511719 -1.503906 C 6.714844 -1.628906 6.886719 -1.8125 7.019531 -2.058594 C 7.152344 -2.300781 7.21875 -2.585938 7.21875 -2.90625 C 7.21875 -3.277344 7.121094 -3.601563 6.929688 -3.878906 C 6.738281 -4.152344 6.472656 -4.34375 6.132813 -4.460938 C 5.792969 -4.570313 5.304688 -4.628906 4.667969 -4.628906 L 2.351563 -4.628906 Z M 2.351563 -1.183594 \"/>\n",
       "</symbol>\n",
       "<symbol overflow=\"visible\" id=\"glyph0-7\">\n",
       "<path style=\"stroke:none;\" d=\"M 0.464844 -3.628906 C 0.460938 -4.972656 0.835938 -5.96875 1.585938 -6.617188 C 2.207031 -7.148438 2.96875 -7.417969 3.867188 -7.421875 C 4.867188 -7.417969 5.683594 -7.089844 6.316406 -6.441406 C 6.949219 -5.785156 7.265625 -4.882813 7.265625 -3.734375 C 7.265625 -2.796875 7.125 -2.0625 6.84375 -1.527344 C 6.5625 -0.992188 6.152344 -0.578125 5.621094 -0.28125 C 5.082031 0.015625 4.5 0.164063 3.867188 0.164063 C 2.851563 0.164063 2.027344 -0.160156 1.402344 -0.8125 C 0.773438 -1.460938 0.460938 -2.398438 0.464844 -3.628906 Z M 1.730469 -3.628906 C 1.726563 -2.695313 1.929688 -2 2.335938 -1.539063 C 2.738281 -1.074219 3.25 -0.84375 3.867188 -0.847656 C 4.476563 -0.84375 4.984375 -1.074219 5.390625 -1.542969 C 5.796875 -2.003906 6 -2.714844 6 -3.671875 C 6 -4.566406 5.792969 -5.246094 5.386719 -5.710938 C 4.976563 -6.171875 4.472656 -6.402344 3.867188 -6.40625 C 3.25 -6.402344 2.738281 -6.171875 2.335938 -5.714844 C 1.929688 -5.25 1.726563 -4.554688 1.730469 -3.628906 Z M 1.730469 -3.628906 \"/>\n",
       "</symbol>\n",
       "<symbol overflow=\"visible\" id=\"glyph0-8\">\n",
       "<path style=\"stroke:none;\" d=\"M 2.058594 0 L 0.914063 0 L 0.914063 -10.023438 L 2.148438 -10.023438 L 2.148438 -6.445313 C 2.664063 -7.09375 3.328125 -7.417969 4.136719 -7.421875 C 4.582031 -7.417969 5.003906 -7.328125 5.402344 -7.152344 C 5.800781 -6.96875 6.128906 -6.714844 6.386719 -6.394531 C 6.644531 -6.066406 6.84375 -5.675781 6.992188 -5.214844 C 7.132813 -4.753906 7.207031 -4.261719 7.210938 -3.738281 C 7.207031 -2.496094 6.898438 -1.535156 6.289063 -0.855469 C 5.671875 -0.175781 4.933594 0.164063 4.074219 0.164063 C 3.214844 0.164063 2.542969 -0.191406 2.058594 -0.910156 Z M 2.042969 -3.683594 C 2.039063 -2.8125 2.15625 -2.183594 2.398438 -1.796875 C 2.78125 -1.160156 3.308594 -0.84375 3.972656 -0.847656 C 4.507813 -0.84375 4.96875 -1.078125 5.363281 -1.546875 C 5.753906 -2.015625 5.953125 -2.710938 5.953125 -3.636719 C 5.953125 -4.582031 5.765625 -5.28125 5.390625 -5.734375 C 5.015625 -6.183594 4.558594 -6.410156 4.027344 -6.414063 C 3.484375 -6.410156 3.019531 -6.175781 2.628906 -5.710938 C 2.234375 -5.242188 2.039063 -4.566406 2.042969 -3.683594 Z M 2.042969 -3.683594 \"/>\n",
       "</symbol>\n",
       "<symbol overflow=\"visible\" id=\"glyph0-9\">\n",
       "<path style=\"stroke:none;\" d=\"M 8.230469 -3.515625 L 9.554688 -3.179688 C 9.277344 -2.089844 8.777344 -1.257813 8.054688 -0.6875 C 7.332031 -0.113281 6.449219 0.167969 5.40625 0.171875 C 4.324219 0.167969 3.445313 -0.046875 2.773438 -0.488281 C 2.09375 -0.925781 1.578125 -1.5625 1.226563 -2.398438 C 0.867188 -3.226563 0.691406 -4.125 0.695313 -5.085938 C 0.691406 -6.128906 0.890625 -7.039063 1.292969 -7.816406 C 1.691406 -8.59375 2.257813 -9.183594 2.996094 -9.585938 C 3.730469 -9.988281 4.542969 -10.1875 5.429688 -10.191406 C 6.425781 -10.1875 7.269531 -9.933594 7.957031 -9.425781 C 8.640625 -8.914063 9.117188 -8.195313 9.386719 -7.273438 L 8.078125 -6.964844 C 7.84375 -7.691406 7.507813 -8.222656 7.066406 -8.558594 C 6.625 -8.890625 6.066406 -9.058594 5.398438 -9.058594 C 4.625 -9.058594 3.984375 -8.871094 3.46875 -8.503906 C 2.953125 -8.128906 2.589844 -7.632813 2.378906 -7.015625 C 2.167969 -6.390625 2.0625 -5.75 2.0625 -5.09375 C 2.0625 -4.234375 2.183594 -3.492188 2.433594 -2.859375 C 2.679688 -2.222656 3.066406 -1.746094 3.59375 -1.433594 C 4.117188 -1.117188 4.6875 -0.960938 5.296875 -0.964844 C 6.039063 -0.960938 6.667969 -1.175781 7.183594 -1.605469 C 7.699219 -2.035156 8.046875 -2.671875 8.230469 -3.515625 Z M 8.230469 -3.515625 \"/>\n",
       "</symbol>\n",
       "<symbol overflow=\"visible\" id=\"glyph0-10\">\n",
       "<path style=\"stroke:none;\" d=\"M 5.660156 -0.894531 C 5.203125 -0.503906 4.761719 -0.230469 4.34375 -0.0742188 C 3.917969 0.0859375 3.46875 0.164063 2.988281 0.164063 C 2.1875 0.164063 1.574219 -0.0273438 1.148438 -0.417969 C 0.71875 -0.804688 0.503906 -1.304688 0.507813 -1.914063 C 0.503906 -2.265625 0.585938 -2.589844 0.75 -2.886719 C 0.910156 -3.179688 1.121094 -3.414063 1.382813 -3.59375 C 1.644531 -3.769531 1.9375 -3.90625 2.269531 -4 C 2.507813 -4.058594 2.875 -4.121094 3.363281 -4.183594 C 4.355469 -4.300781 5.085938 -4.441406 5.558594 -4.609375 C 5.558594 -4.773438 5.558594 -4.878906 5.5625 -4.929688 C 5.558594 -5.425781 5.445313 -5.78125 5.214844 -5.988281 C 4.898438 -6.265625 4.429688 -6.402344 3.8125 -6.40625 C 3.230469 -6.402344 2.804688 -6.300781 2.53125 -6.101563 C 2.253906 -5.894531 2.050781 -5.535156 1.921875 -5.023438 L 0.71875 -5.1875 C 0.824219 -5.699219 1.003906 -6.117188 1.257813 -6.433594 C 1.503906 -6.75 1.867188 -6.992188 2.34375 -7.164063 C 2.816406 -7.332031 3.363281 -7.417969 3.992188 -7.421875 C 4.609375 -7.417969 5.113281 -7.34375 5.503906 -7.203125 C 5.886719 -7.054688 6.171875 -6.871094 6.359375 -6.652344 C 6.539063 -6.429688 6.667969 -6.152344 6.742188 -5.816406 C 6.777344 -5.605469 6.796875 -5.226563 6.800781 -4.683594 L 6.800781 -3.042969 C 6.796875 -1.894531 6.824219 -1.171875 6.878906 -0.871094 C 6.933594 -0.566406 7.035156 -0.277344 7.191406 0 L 5.90625 0 C 5.777344 -0.253906 5.695313 -0.550781 5.660156 -0.894531 Z M 5.558594 -3.644531 C 5.109375 -3.460938 4.4375 -3.304688 3.546875 -3.179688 C 3.039063 -3.105469 2.683594 -3.023438 2.472656 -2.933594 C 2.261719 -2.839844 2.097656 -2.707031 1.988281 -2.53125 C 1.871094 -2.355469 1.816406 -2.160156 1.820313 -1.949219 C 1.816406 -1.617188 1.941406 -1.34375 2.191406 -1.128906 C 2.4375 -0.90625 2.800781 -0.796875 3.28125 -0.800781 C 3.753906 -0.796875 4.175781 -0.898438 4.546875 -1.109375 C 4.914063 -1.3125 5.183594 -1.597656 5.359375 -1.960938 C 5.488281 -2.238281 5.554688 -2.648438 5.558594 -3.191406 Z M 5.558594 -3.644531 \"/>\n",
       "</symbol>\n",
       "<symbol overflow=\"visible\" id=\"glyph0-11\">\n",
       "<path style=\"stroke:none;\" d=\"M 0.910156 0 L 0.910156 -7.257813 L 2.015625 -7.257813 L 2.015625 -6.160156 C 2.296875 -6.667969 2.554688 -7.007813 2.796875 -7.175781 C 3.03125 -7.335938 3.296875 -7.417969 3.589844 -7.421875 C 4 -7.417969 4.421875 -7.285156 4.851563 -7.027344 L 4.429688 -5.886719 C 4.125 -6.0625 3.824219 -6.152344 3.527344 -6.152344 C 3.257813 -6.152344 3.015625 -6.070313 2.800781 -5.910156 C 2.585938 -5.746094 2.433594 -5.519531 2.34375 -5.234375 C 2.207031 -4.792969 2.136719 -4.316406 2.140625 -3.800781 L 2.140625 0 Z M 0.910156 0 \"/>\n",
       "</symbol>\n",
       "<symbol overflow=\"visible\" id=\"glyph0-12\">\n",
       "<path style=\"stroke:none;\" d=\"M 1.078125 0 L 1.078125 -10.023438 L 4.53125 -10.023438 C 5.308594 -10.019531 5.90625 -9.972656 6.316406 -9.878906 C 6.890625 -9.746094 7.378906 -9.503906 7.785156 -9.160156 C 8.3125 -8.710938 8.707031 -8.140625 8.972656 -7.449219 C 9.230469 -6.75 9.363281 -5.957031 9.367188 -5.066406 C 9.363281 -4.300781 9.273438 -3.625 9.097656 -3.039063 C 8.917969 -2.449219 8.691406 -1.964844 8.414063 -1.582031 C 8.136719 -1.195313 7.832031 -0.890625 7.503906 -0.671875 C 7.171875 -0.449219 6.773438 -0.28125 6.304688 -0.171875 C 5.835938 -0.0546875 5.296875 0 4.695313 0 Z M 2.40625 -1.183594 L 4.546875 -1.183594 C 5.207031 -1.183594 5.722656 -1.242188 6.101563 -1.367188 C 6.472656 -1.484375 6.773438 -1.660156 7 -1.886719 C 7.3125 -2.199219 7.558594 -2.621094 7.734375 -3.15625 C 7.910156 -3.683594 7.996094 -4.328125 8 -5.085938 C 7.996094 -6.132813 7.824219 -6.9375 7.480469 -7.5 C 7.132813 -8.0625 6.714844 -8.4375 6.226563 -8.632813 C 5.871094 -8.765625 5.300781 -8.835938 4.511719 -8.839844 L 2.40625 -8.839844 Z M 2.40625 -1.183594 \"/>\n",
       "</symbol>\n",
       "<symbol overflow=\"visible\" id=\"glyph0-13\">\n",
       "<path style=\"stroke:none;\" d=\"M 0.921875 0 L 0.921875 -7.257813 L 2.03125 -7.257813 L 2.03125 -6.226563 C 2.558594 -7.019531 3.328125 -7.417969 4.339844 -7.421875 C 4.773438 -7.417969 5.175781 -7.339844 5.546875 -7.1875 C 5.910156 -7.027344 6.183594 -6.820313 6.371094 -6.570313 C 6.550781 -6.3125 6.679688 -6.011719 6.753906 -5.660156 C 6.796875 -5.433594 6.820313 -5.035156 6.820313 -4.464844 L 6.820313 0 L 5.59375 0 L 5.59375 -4.414063 C 5.589844 -4.914063 5.542969 -5.289063 5.449219 -5.539063 C 5.351563 -5.785156 5.179688 -5.984375 4.9375 -6.136719 C 4.691406 -6.28125 4.40625 -6.355469 4.082031 -6.359375 C 3.554688 -6.355469 3.101563 -6.191406 2.722656 -5.859375 C 2.339844 -5.523438 2.148438 -4.890625 2.152344 -3.964844 L 2.152344 0 Z M 0.921875 0 \"/>\n",
       "</symbol>\n",
       "<symbol overflow=\"visible\" id=\"glyph0-14\">\n",
       "<path style=\"stroke:none;\" d=\"M 0.429688 -2.167969 L 1.648438 -2.359375 C 1.710938 -1.867188 1.902344 -1.492188 2.21875 -1.234375 C 2.527344 -0.972656 2.964844 -0.84375 3.527344 -0.847656 C 4.089844 -0.84375 4.507813 -0.957031 4.785156 -1.191406 C 5.054688 -1.417969 5.191406 -1.691406 5.195313 -2.003906 C 5.191406 -2.28125 5.070313 -2.5 4.832031 -2.660156 C 4.660156 -2.769531 4.242188 -2.90625 3.574219 -3.078125 C 2.671875 -3.300781 2.046875 -3.5 1.699219 -3.667969 C 1.347656 -3.832031 1.082031 -4.058594 0.90625 -4.355469 C 0.722656 -4.644531 0.632813 -4.972656 0.636719 -5.332031 C 0.632813 -5.652344 0.707031 -5.949219 0.855469 -6.230469 C 1.003906 -6.503906 1.203125 -6.734375 1.460938 -6.917969 C 1.648438 -7.054688 1.910156 -7.171875 2.246094 -7.273438 C 2.574219 -7.367188 2.929688 -7.417969 3.308594 -7.421875 C 3.875 -7.417969 4.375 -7.335938 4.808594 -7.175781 C 5.234375 -7.007813 5.550781 -6.785156 5.761719 -6.507813 C 5.964844 -6.226563 6.109375 -5.851563 6.1875 -5.386719 L 4.984375 -5.222656 C 4.925781 -5.589844 4.765625 -5.882813 4.507813 -6.097656 C 4.242188 -6.304688 3.875 -6.410156 3.398438 -6.414063 C 2.832031 -6.410156 2.425781 -6.316406 2.1875 -6.132813 C 1.941406 -5.941406 1.820313 -5.722656 1.824219 -5.476563 C 1.820313 -5.3125 1.871094 -5.167969 1.976563 -5.046875 C 2.070313 -4.910156 2.226563 -4.800781 2.445313 -4.71875 C 2.566406 -4.667969 2.929688 -4.5625 3.535156 -4.402344 C 4.402344 -4.167969 5.011719 -3.980469 5.355469 -3.832031 C 5.699219 -3.683594 5.96875 -3.464844 6.164063 -3.183594 C 6.359375 -2.898438 6.457031 -2.550781 6.460938 -2.132813 C 6.457031 -1.71875 6.335938 -1.332031 6.101563 -0.972656 C 5.859375 -0.609375 5.515625 -0.328125 5.066406 -0.132813 C 4.613281 0.0664063 4.101563 0.164063 3.535156 0.164063 C 2.585938 0.164063 1.867188 -0.03125 1.375 -0.421875 C 0.878906 -0.8125 0.5625 -1.394531 0.429688 -2.167969 Z M 0.429688 -2.167969 \"/>\n",
       "</symbol>\n",
       "<symbol overflow=\"visible\" id=\"glyph0-15\">\n",
       "<path style=\"stroke:none;\" d=\"M 1.109375 0 L 1.109375 -10.023438 L 8.351563 -10.023438 L 8.351563 -8.839844 L 2.433594 -8.839844 L 2.433594 -5.769531 L 7.976563 -5.769531 L 7.976563 -4.59375 L 2.433594 -4.59375 L 2.433594 -1.183594 L 8.585938 -1.183594 L 8.585938 0 Z M 1.109375 0 \"/>\n",
       "</symbol>\n",
       "<symbol overflow=\"visible\" id=\"glyph0-16\">\n",
       "<path style=\"stroke:none;\" d=\"M 3.609375 -1.101563 L 3.789063 -0.015625 C 3.4375 0.0585938 3.128906 0.09375 2.859375 0.09375 C 2.410156 0.09375 2.0625 0.0234375 1.816406 -0.117188 C 1.570313 -0.257813 1.394531 -0.441406 1.296875 -0.671875 C 1.195313 -0.902344 1.148438 -1.386719 1.148438 -2.125 L 1.148438 -6.304688 L 0.246094 -6.304688 L 0.246094 -7.257813 L 1.148438 -7.257813 L 1.148438 -9.058594 L 2.371094 -9.796875 L 2.371094 -7.257813 L 3.609375 -7.257813 L 3.609375 -6.304688 L 2.371094 -6.304688 L 2.371094 -2.058594 C 2.367188 -1.703125 2.386719 -1.476563 2.433594 -1.378906 C 2.472656 -1.277344 2.546875 -1.199219 2.648438 -1.140625 C 2.746094 -1.082031 2.886719 -1.054688 3.070313 -1.054688 C 3.203125 -1.054688 3.382813 -1.070313 3.609375 -1.101563 Z M 3.609375 -1.101563 \"/>\n",
       "</symbol>\n",
       "<symbol overflow=\"visible\" id=\"glyph0-17\">\n",
       "<path style=\"stroke:none;\" d=\"M 0.921875 0 L 0.921875 -10.023438 L 2.152344 -10.023438 L 2.152344 -6.425781 C 2.722656 -7.085938 3.449219 -7.417969 4.328125 -7.421875 C 4.863281 -7.417969 5.328125 -7.3125 5.726563 -7.105469 C 6.121094 -6.890625 6.40625 -6.597656 6.578125 -6.226563 C 6.746094 -5.851563 6.832031 -5.308594 6.835938 -4.601563 L 6.835938 0 L 5.605469 0 L 5.605469 -4.601563 C 5.601563 -5.210938 5.46875 -5.660156 5.203125 -5.941406 C 4.9375 -6.222656 4.558594 -6.363281 4.074219 -6.363281 C 3.707031 -6.363281 3.363281 -6.265625 3.042969 -6.078125 C 2.71875 -5.886719 2.492188 -5.632813 2.355469 -5.3125 C 2.21875 -4.988281 2.148438 -4.542969 2.152344 -3.972656 L 2.152344 0 Z M 0.921875 0 \"/>\n",
       "</symbol>\n",
       "<symbol overflow=\"visible\" id=\"glyph0-18\">\n",
       "<path style=\"stroke:none;\" d=\"M 1.148438 0 L 1.148438 -10.023438 L 7.910156 -10.023438 L 7.910156 -8.839844 L 2.476563 -8.839844 L 2.476563 -5.734375 L 7.179688 -5.734375 L 7.179688 -4.554688 L 2.476563 -4.554688 L 2.476563 0 Z M 1.148438 0 \"/>\n",
       "</symbol>\n",
       "<symbol overflow=\"visible\" id=\"glyph0-19\">\n",
       "<path style=\"stroke:none;\" d=\"M 0.929688 0 L 0.929688 -10.023438 L 2.160156 -10.023438 L 2.160156 -4.304688 L 5.070313 -7.257813 L 6.664063 -7.257813 L 3.890625 -4.566406 L 6.945313 0 L 5.429688 0 L 3.027344 -3.710938 L 2.160156 -2.878906 L 2.160156 0 Z M 0.929688 0 \"/>\n",
       "</symbol>\n",
       "<symbol overflow=\"visible\" id=\"glyph0-20\">\n",
       "<path style=\"stroke:none;\" d=\"M 5.769531 -3.929688 L 5.769531 -5.105469 L 10.015625 -5.113281 L 10.015625 -1.394531 C 9.359375 -0.875 8.6875 -0.484375 8 -0.222656 C 7.304688 0.0390625 6.59375 0.167969 5.867188 0.171875 C 4.878906 0.167969 3.984375 -0.0390625 3.183594 -0.460938 C 2.375 -0.878906 1.769531 -1.488281 1.359375 -2.289063 C 0.949219 -3.082031 0.742188 -3.972656 0.746094 -4.960938 C 0.742188 -5.933594 0.945313 -6.84375 1.355469 -7.691406 C 1.761719 -8.535156 2.351563 -9.164063 3.117188 -9.574219 C 3.882813 -9.984375 4.761719 -10.1875 5.761719 -10.191406 C 6.484375 -10.1875 7.140625 -10.070313 7.726563 -9.839844 C 8.308594 -9.601563 8.769531 -9.277344 9.105469 -8.859375 C 9.4375 -8.4375 9.6875 -7.890625 9.863281 -7.21875 L 8.667969 -6.890625 C 8.511719 -7.398438 8.324219 -7.796875 8.105469 -8.09375 C 7.878906 -8.382813 7.5625 -8.617188 7.148438 -8.792969 C 6.734375 -8.96875 6.273438 -9.058594 5.769531 -9.058594 C 5.160156 -9.058594 4.636719 -8.964844 4.195313 -8.78125 C 3.753906 -8.59375 3.394531 -8.351563 3.125 -8.050781 C 2.851563 -7.75 2.644531 -7.417969 2.496094 -7.0625 C 2.238281 -6.4375 2.109375 -5.765625 2.113281 -5.046875 C 2.109375 -4.148438 2.261719 -3.402344 2.574219 -2.800781 C 2.878906 -2.199219 3.328125 -1.75 3.914063 -1.460938 C 4.5 -1.164063 5.125 -1.019531 5.789063 -1.023438 C 6.363281 -1.019531 6.921875 -1.128906 7.472656 -1.355469 C 8.015625 -1.574219 8.429688 -1.8125 8.714844 -2.0625 L 8.714844 -3.929688 Z M 5.769531 -3.929688 \"/>\n",
       "</symbol>\n",
       "<symbol overflow=\"visible\" id=\"glyph0-21\">\n",
       "<path style=\"stroke:none;\" d=\"M 0.695313 0.601563 L 1.894531 0.78125 C 1.941406 1.144531 2.082031 1.414063 2.3125 1.585938 C 2.613281 1.8125 3.03125 1.925781 3.5625 1.929688 C 4.128906 1.925781 4.566406 1.8125 4.878906 1.585938 C 5.1875 1.355469 5.398438 1.035156 5.507813 0.628906 C 5.570313 0.375 5.597656 -0.148438 5.597656 -0.949219 C 5.058594 -0.316406 4.390625 0 3.589844 0 C 2.589844 0 1.816406 -0.359375 1.273438 -1.078125 C 0.722656 -1.796875 0.449219 -2.660156 0.453125 -3.671875 C 0.449219 -4.363281 0.574219 -5.003906 0.828125 -5.589844 C 1.074219 -6.175781 1.4375 -6.625 1.917969 -6.945313 C 2.390625 -7.257813 2.949219 -7.417969 3.59375 -7.421875 C 4.449219 -7.417969 5.15625 -7.070313 5.714844 -6.382813 L 5.714844 -7.257813 L 6.851563 -7.257813 L 6.851563 -0.984375 C 6.847656 0.144531 6.734375 0.945313 6.503906 1.417969 C 6.273438 1.886719 5.90625 2.257813 5.410156 2.535156 C 4.910156 2.804688 4.296875 2.941406 3.570313 2.945313 C 2.699219 2.941406 2 2.746094 1.46875 2.359375 C 0.933594 1.96875 0.675781 1.382813 0.695313 0.601563 Z M 1.714844 -3.757813 C 1.710938 -2.804688 1.898438 -2.113281 2.28125 -1.675781 C 2.65625 -1.238281 3.132813 -1.019531 3.703125 -1.019531 C 4.269531 -1.019531 4.742188 -1.234375 5.128906 -1.671875 C 5.507813 -2.101563 5.699219 -2.785156 5.703125 -3.71875 C 5.699219 -4.605469 5.503906 -5.273438 5.109375 -5.726563 C 4.714844 -6.175781 4.238281 -6.402344 3.683594 -6.40625 C 3.132813 -6.402344 2.667969 -6.179688 2.289063 -5.738281 C 1.902344 -5.289063 1.710938 -4.628906 1.714844 -3.757813 Z M 1.714844 -3.757813 \"/>\n",
       "</symbol>\n",
       "</g>\n",
       "</defs>\n",
       "<g id=\"surface6\">\n",
       "<rect x=\"0\" y=\"0\" width=\"600\" height=\"600\" style=\"fill:rgb(100%,100%,100%);fill-opacity:1;stroke:none;\"/>\n",
       "<path style=\"fill:none;stroke-width:1;stroke-linecap:butt;stroke-linejoin:miter;stroke:rgb(26.666667%,26.666667%,26.666667%);stroke-opacity:1;stroke-miterlimit:10;\" d=\"M 441.082031 188.136719 L 580 20 \"/>\n",
       "<path style=\"fill:none;stroke-width:1;stroke-linecap:butt;stroke-linejoin:miter;stroke:rgb(26.666667%,26.666667%,26.666667%);stroke-opacity:1;stroke-miterlimit:10;\" d=\"M 441.082031 188.136719 L 236.875 261.621094 \"/>\n",
       "<path style=\"fill:none;stroke-width:1;stroke-linecap:butt;stroke-linejoin:miter;stroke:rgb(26.666667%,26.666667%,26.666667%);stroke-opacity:1;stroke-miterlimit:10;\" d=\"M 236.875 261.621094 L 97.148438 443.367188 \"/>\n",
       "<path style=\"fill:none;stroke-width:1;stroke-linecap:butt;stroke-linejoin:miter;stroke:rgb(26.666667%,26.666667%,26.666667%);stroke-opacity:1;stroke-miterlimit:10;\" d=\"M 97.148438 443.367188 L 20 249.203125 \"/>\n",
       "<path style=\"fill:none;stroke-width:1;stroke-linecap:butt;stroke-linejoin:miter;stroke:rgb(26.666667%,26.666667%,26.666667%);stroke-opacity:1;stroke-miterlimit:10;\" d=\"M 236.875 261.621094 L 20 249.203125 \"/>\n",
       "<path style=\"fill:none;stroke-width:1;stroke-linecap:butt;stroke-linejoin:miter;stroke:rgb(26.666667%,26.666667%,26.666667%);stroke-opacity:1;stroke-miterlimit:10;\" d=\"M 236.875 261.621094 L 421.277344 399.933594 \"/>\n",
       "<path style=\"fill:none;stroke-width:1;stroke-linecap:butt;stroke-linejoin:miter;stroke:rgb(26.666667%,26.666667%,26.666667%);stroke-opacity:1;stroke-miterlimit:10;\" d=\"M 441.082031 188.136719 L 421.277344 399.933594 \"/>\n",
       "<path style=\"fill:none;stroke-width:1;stroke-linecap:butt;stroke-linejoin:miter;stroke:rgb(26.666667%,26.666667%,26.666667%);stroke-opacity:1;stroke-miterlimit:10;\" d=\"M 97.148438 443.367188 L 281.542969 580 \"/>\n",
       "<path style=\"fill:none;stroke-width:1;stroke-linecap:butt;stroke-linejoin:miter;stroke:rgb(26.666667%,26.666667%,26.666667%);stroke-opacity:1;stroke-miterlimit:10;\" d=\"M 421.277344 399.933594 L 281.542969 580 \"/>\n",
       "<path style=\"fill-rule:nonzero;fill:rgb(100%,75.294118%,79.607843%);fill-opacity:1;stroke-width:1;stroke-linecap:butt;stroke-linejoin:miter;stroke:rgb(0%,0%,0%);stroke-opacity:1;stroke-miterlimit:10;\" d=\"M 451.082031 188.136719 C 451.082031 193.660156 446.605469 198.136719 441.082031 198.136719 C 435.558594 198.136719 431.082031 193.660156 431.082031 188.136719 C 431.082031 182.613281 435.558594 178.136719 441.082031 178.136719 C 446.605469 178.136719 451.082031 182.613281 451.082031 188.136719 \"/>\n",
       "<path style=\"fill-rule:nonzero;fill:rgb(0%,0%,100%);fill-opacity:1;stroke-width:1;stroke-linecap:butt;stroke-linejoin:miter;stroke:rgb(0%,0%,0%);stroke-opacity:1;stroke-miterlimit:10;\" d=\"M 590 20 C 590 25.523438 585.523438 30 580 30 C 574.476563 30 570 25.523438 570 20 C 570 14.476563 574.476563 10 580 10 C 585.523438 10 590 14.476563 590 20 \"/>\n",
       "<path style=\"fill-rule:nonzero;fill:rgb(100%,75.294118%,79.607843%);fill-opacity:1;stroke-width:1;stroke-linecap:butt;stroke-linejoin:miter;stroke:rgb(0%,0%,0%);stroke-opacity:1;stroke-miterlimit:10;\" d=\"M 246.875 261.621094 C 246.875 267.144531 242.394531 271.621094 236.875 271.621094 C 231.351563 271.621094 226.875 267.144531 226.875 261.621094 C 226.875 256.097656 231.351563 251.621094 236.875 251.621094 C 242.394531 251.621094 246.875 256.097656 246.875 261.621094 \"/>\n",
       "<path style=\"fill-rule:nonzero;fill:rgb(0%,0%,100%);fill-opacity:1;stroke-width:1;stroke-linecap:butt;stroke-linejoin:miter;stroke:rgb(0%,0%,0%);stroke-opacity:1;stroke-miterlimit:10;\" d=\"M 107.148438 443.367188 C 107.148438 448.890625 102.671875 453.367188 97.148438 453.367188 C 91.628906 453.367188 87.148438 448.890625 87.148438 443.367188 C 87.148438 437.84375 91.628906 433.367188 97.148438 433.367188 C 102.671875 433.367188 107.148438 437.84375 107.148438 443.367188 \"/>\n",
       "<path style=\"fill-rule:nonzero;fill:rgb(100%,75.294118%,79.607843%);fill-opacity:1;stroke-width:1;stroke-linecap:butt;stroke-linejoin:miter;stroke:rgb(0%,0%,0%);stroke-opacity:1;stroke-miterlimit:10;\" d=\"M 30 249.203125 C 30 254.722656 25.523438 259.203125 20 259.203125 C 14.476563 259.203125 10 254.722656 10 249.203125 C 10 243.679688 14.476563 239.203125 20 239.203125 C 25.523438 239.203125 30 243.679688 30 249.203125 \"/>\n",
       "<path style=\"fill-rule:nonzero;fill:rgb(0%,0%,100%);fill-opacity:1;stroke-width:1;stroke-linecap:butt;stroke-linejoin:miter;stroke:rgb(0%,0%,0%);stroke-opacity:1;stroke-miterlimit:10;\" d=\"M 431.277344 399.933594 C 431.277344 405.457031 426.800781 409.933594 421.277344 409.933594 C 415.753906 409.933594 411.277344 405.457031 411.277344 399.933594 C 411.277344 394.414063 415.753906 389.933594 421.277344 389.933594 C 426.800781 389.933594 431.277344 394.414063 431.277344 399.933594 \"/>\n",
       "<path style=\"fill-rule:nonzero;fill:rgb(0%,0%,100%);fill-opacity:1;stroke-width:1;stroke-linecap:butt;stroke-linejoin:miter;stroke:rgb(0%,0%,0%);stroke-opacity:1;stroke-miterlimit:10;\" d=\"M 291.542969 580 C 291.542969 585.523438 287.066406 590 281.542969 590 C 276.019531 590 271.542969 585.523438 271.542969 580 C 271.542969 574.476563 276.019531 570 281.542969 570 C 287.066406 570 291.542969 574.476563 291.542969 580 \"/>\n",
       "<g style=\"fill:rgb(0%,0%,0%);fill-opacity:1;\">\n",
       "  <use xlink:href=\"#glyph0-1\" x=\"426.210938\" y=\"194.648438\"/>\n",
       "  <use xlink:href=\"#glyph0-2\" x=\"435.548828\" y=\"194.648438\"/>\n",
       "  <use xlink:href=\"#glyph0-3\" x=\"438.65918\" y=\"194.648438\"/>\n",
       "  <use xlink:href=\"#glyph0-4\" x=\"441.769531\" y=\"194.648438\"/>\n",
       "  <use xlink:href=\"#glyph0-5\" x=\"448.769531\" y=\"194.648438\"/>\n",
       "</g>\n",
       "<g style=\"fill:rgb(0%,0%,0%);fill-opacity:1;\">\n",
       "  <use xlink:href=\"#glyph0-6\" x=\"567.320313\" y=\"26.511719\"/>\n",
       "  <use xlink:href=\"#glyph0-7\" x=\"576.658203\" y=\"26.511719\"/>\n",
       "  <use xlink:href=\"#glyph0-8\" x=\"584.444336\" y=\"26.511719\"/>\n",
       "</g>\n",
       "<g style=\"fill:rgb(0%,0%,0%);fill-opacity:1;\">\n",
       "  <use xlink:href=\"#glyph0-9\" x=\"218.53125\" y=\"268.214844\"/>\n",
       "  <use xlink:href=\"#glyph0-2\" x=\"228.641602\" y=\"268.214844\"/>\n",
       "  <use xlink:href=\"#glyph0-10\" x=\"231.751953\" y=\"268.214844\"/>\n",
       "  <use xlink:href=\"#glyph0-3\" x=\"239.538086\" y=\"268.214844\"/>\n",
       "  <use xlink:href=\"#glyph0-11\" x=\"242.648438\" y=\"268.214844\"/>\n",
       "  <use xlink:href=\"#glyph0-5\" x=\"247.310547\" y=\"268.214844\"/>\n",
       "</g>\n",
       "<g style=\"fill:rgb(0%,0%,0%);fill-opacity:1;\">\n",
       "  <use xlink:href=\"#glyph0-12\" x=\"75.089844\" y=\"449.875\"/>\n",
       "  <use xlink:href=\"#glyph0-5\" x=\"85.200195\" y=\"449.875\"/>\n",
       "  <use xlink:href=\"#glyph0-13\" x=\"92.986328\" y=\"449.875\"/>\n",
       "  <use xlink:href=\"#glyph0-13\" x=\"100.772461\" y=\"449.875\"/>\n",
       "  <use xlink:href=\"#glyph0-3\" x=\"108.558594\" y=\"449.875\"/>\n",
       "  <use xlink:href=\"#glyph0-14\" x=\"111.668945\" y=\"449.875\"/>\n",
       "</g>\n",
       "<g style=\"fill:rgb(0%,0%,0%);fill-opacity:1;\">\n",
       "  <use xlink:href=\"#glyph0-15\" x=\"-0.878906\" y=\"255.710938\"/>\n",
       "  <use xlink:href=\"#glyph0-14\" x=\"8.458984\" y=\"255.710938\"/>\n",
       "  <use xlink:href=\"#glyph0-16\" x=\"15.458984\" y=\"255.710938\"/>\n",
       "  <use xlink:href=\"#glyph0-17\" x=\"19.348633\" y=\"255.710938\"/>\n",
       "  <use xlink:href=\"#glyph0-5\" x=\"27.134766\" y=\"255.710938\"/>\n",
       "  <use xlink:href=\"#glyph0-11\" x=\"34.920898\" y=\"255.710938\"/>\n",
       "</g>\n",
       "<g style=\"fill:rgb(0%,0%,0%);fill-opacity:1;\">\n",
       "  <use xlink:href=\"#glyph0-18\" x=\"402.835938\" y=\"406.445313\"/>\n",
       "  <use xlink:href=\"#glyph0-11\" x=\"411.387695\" y=\"406.445313\"/>\n",
       "  <use xlink:href=\"#glyph0-10\" x=\"416.049805\" y=\"406.445313\"/>\n",
       "  <use xlink:href=\"#glyph0-13\" x=\"423.835938\" y=\"406.445313\"/>\n",
       "  <use xlink:href=\"#glyph0-19\" x=\"431.62207\" y=\"406.445313\"/>\n",
       "</g>\n",
       "<g style=\"fill:rgb(0%,0%,0%);fill-opacity:1;\">\n",
       "  <use xlink:href=\"#glyph0-20\" x=\"258.113281\" y=\"586.597656\"/>\n",
       "  <use xlink:href=\"#glyph0-5\" x=\"269.00293\" y=\"586.597656\"/>\n",
       "  <use xlink:href=\"#glyph0-7\" x=\"276.789063\" y=\"586.597656\"/>\n",
       "  <use xlink:href=\"#glyph0-11\" x=\"284.575195\" y=\"586.597656\"/>\n",
       "  <use xlink:href=\"#glyph0-21\" x=\"289.237305\" y=\"586.597656\"/>\n",
       "  <use xlink:href=\"#glyph0-5\" x=\"297.023438\" y=\"586.597656\"/>\n",
       "</g>\n",
       "</g>\n",
       "</svg>\n"
      ],
      "text/plain": [
       "<igraph.drawing.Plot at 0x1f0c0d2b940>"
      ]
     },
     "execution_count": 5,
     "metadata": {},
     "output_type": "execute_result"
    }
   ],
   "source": [
    "layout = g.layout(\"kk\")\n",
    "g.vs[\"label\"] = g.vs[\"Nome\"]\n",
    "plot(g, layout = layout)"
   ]
  },
  {
   "cell_type": "code",
   "execution_count": 11,
   "metadata": {},
   "outputs": [
    {
     "data": {
      "image/svg+xml": [
       "<?xml version=\"1.0\" encoding=\"UTF-8\"?>\n",
       "<svg xmlns=\"http://www.w3.org/2000/svg\" xmlns:xlink=\"http://www.w3.org/1999/xlink\" width=\"300pt\" height=\"300pt\" viewBox=\"0 0 300 300\" version=\"1.1\">\n",
       "<defs>\n",
       "<g>\n",
       "<symbol overflow=\"visible\" id=\"glyph0-0\">\n",
       "<path style=\"stroke:none;\" d=\"M 1.75 0 L 1.75 -8.75 L 8.75 -8.75 L 8.75 0 Z M 1.96875 -0.21875 L 8.53125 -0.21875 L 8.53125 -8.53125 L 1.96875 -8.53125 Z M 1.96875 -0.21875 \"/>\n",
       "</symbol>\n",
       "<symbol overflow=\"visible\" id=\"glyph0-1\">\n",
       "<path style=\"stroke:none;\" d=\"M -0.0195313 0 L 3.828125 -10.023438 L 5.257813 -10.023438 L 9.359375 0 L 7.847656 0 L 6.679688 -3.035156 L 2.488281 -3.035156 L 1.386719 0 Z M 2.871094 -4.117188 L 6.269531 -4.117188 L 5.222656 -6.890625 C 4.898438 -7.734375 4.664063 -8.425781 4.511719 -8.96875 C 4.382813 -8.324219 4.203125 -7.6875 3.972656 -7.054688 Z M 2.871094 -4.117188 \"/>\n",
       "</symbol>\n",
       "<symbol overflow=\"visible\" id=\"glyph0-2\">\n",
       "<path style=\"stroke:none;\" d=\"M 0.894531 0 L 0.894531 -10.023438 L 2.125 -10.023438 L 2.125 0 Z M 0.894531 0 \"/>\n",
       "</symbol>\n",
       "<symbol overflow=\"visible\" id=\"glyph0-3\">\n",
       "<path style=\"stroke:none;\" d=\"M 0.929688 -8.605469 L 0.929688 -10.023438 L 2.160156 -10.023438 L 2.160156 -8.605469 Z M 0.929688 0 L 0.929688 -7.257813 L 2.160156 -7.257813 L 2.160156 0 Z M 0.929688 0 \"/>\n",
       "</symbol>\n",
       "<symbol overflow=\"visible\" id=\"glyph0-4\">\n",
       "<path style=\"stroke:none;\" d=\"M 5.660156 -2.660156 L 6.871094 -2.5 C 6.734375 -1.664063 6.394531 -1.011719 5.855469 -0.542969 C 5.308594 -0.0703125 4.640625 0.164063 3.847656 0.164063 C 2.851563 0.164063 2.054688 -0.160156 1.453125 -0.808594 C 0.847656 -1.457031 0.542969 -2.386719 0.546875 -3.601563 C 0.542969 -4.382813 0.675781 -5.070313 0.9375 -5.660156 C 1.195313 -6.246094 1.589844 -6.683594 2.121094 -6.980469 C 2.652344 -7.269531 3.230469 -7.417969 3.855469 -7.421875 C 4.644531 -7.417969 5.289063 -7.21875 5.789063 -6.824219 C 6.289063 -6.421875 6.609375 -5.855469 6.753906 -5.125 L 5.558594 -4.941406 C 5.441406 -5.425781 5.238281 -5.792969 4.953125 -6.042969 C 4.660156 -6.285156 4.3125 -6.410156 3.902344 -6.414063 C 3.28125 -6.410156 2.777344 -6.1875 2.390625 -5.746094 C 2.003906 -5.296875 1.808594 -4.59375 1.8125 -3.636719 C 1.808594 -2.65625 1.996094 -1.945313 2.371094 -1.507813 C 2.742188 -1.0625 3.230469 -0.84375 3.835938 -0.847656 C 4.316406 -0.84375 4.71875 -0.992188 5.042969 -1.289063 C 5.367188 -1.585938 5.574219 -2.042969 5.660156 -2.660156 Z M 5.660156 -2.660156 \"/>\n",
       "</symbol>\n",
       "<symbol overflow=\"visible\" id=\"glyph0-5\">\n",
       "<path style=\"stroke:none;\" d=\"M 5.890625 -2.335938 L 7.164063 -2.179688 C 6.960938 -1.4375 6.589844 -0.859375 6.046875 -0.449219 C 5.503906 -0.0390625 4.8125 0.164063 3.972656 0.164063 C 2.910156 0.164063 2.066406 -0.160156 1.445313 -0.816406 C 0.820313 -1.464844 0.507813 -2.382813 0.511719 -3.570313 C 0.507813 -4.785156 0.824219 -5.734375 1.453125 -6.410156 C 2.082031 -7.082031 2.898438 -7.417969 3.902344 -7.421875 C 4.871094 -7.417969 5.664063 -7.085938 6.28125 -6.429688 C 6.894531 -5.765625 7.199219 -4.839844 7.203125 -3.644531 C 7.199219 -3.570313 7.199219 -3.460938 7.199219 -3.316406 L 1.785156 -3.316406 C 1.828125 -2.515625 2.054688 -1.902344 2.460938 -1.480469 C 2.867188 -1.054688 3.371094 -0.84375 3.976563 -0.847656 C 4.425781 -0.84375 4.8125 -0.960938 5.132813 -1.203125 C 5.453125 -1.4375 5.703125 -1.816406 5.890625 -2.335938 Z M 1.851563 -4.328125 L 5.90625 -4.328125 C 5.851563 -4.933594 5.695313 -5.390625 5.441406 -5.703125 C 5.046875 -6.171875 4.539063 -6.410156 3.917969 -6.414063 C 3.351563 -6.410156 2.875 -6.21875 2.492188 -5.84375 C 2.101563 -5.460938 1.890625 -4.957031 1.851563 -4.328125 Z M 1.851563 -4.328125 \"/>\n",
       "</symbol>\n",
       "<symbol overflow=\"visible\" id=\"glyph0-6\">\n",
       "<path style=\"stroke:none;\" d=\"M 1.023438 0 L 1.023438 -10.023438 L 4.785156 -10.023438 C 5.546875 -10.019531 6.160156 -9.917969 6.625 -9.71875 C 7.085938 -9.511719 7.449219 -9.199219 7.714844 -8.78125 C 7.976563 -8.355469 8.109375 -7.914063 8.109375 -7.457031 C 8.109375 -7.027344 7.992188 -6.625 7.757813 -6.246094 C 7.523438 -5.867188 7.171875 -5.5625 6.707031 -5.332031 C 7.3125 -5.152344 7.777344 -4.847656 8.105469 -4.421875 C 8.425781 -3.992188 8.589844 -3.488281 8.59375 -2.90625 C 8.589844 -2.4375 8.492188 -2 8.296875 -1.597656 C 8.097656 -1.191406 7.851563 -0.878906 7.5625 -0.664063 C 7.269531 -0.441406 6.902344 -0.277344 6.464844 -0.167969 C 6.019531 -0.0546875 5.480469 0 4.847656 0 Z M 2.351563 -5.8125 L 4.519531 -5.8125 C 5.101563 -5.8125 5.523438 -5.847656 5.78125 -5.925781 C 6.117188 -6.023438 6.371094 -6.191406 6.542969 -6.425781 C 6.710938 -6.65625 6.796875 -6.949219 6.800781 -7.300781 C 6.796875 -7.632813 6.71875 -7.925781 6.5625 -8.179688 C 6.402344 -8.429688 6.171875 -8.601563 5.878906 -8.699219 C 5.578125 -8.789063 5.070313 -8.835938 4.355469 -8.839844 L 2.351563 -8.839844 Z M 2.351563 -1.183594 L 4.847656 -1.183594 C 5.269531 -1.183594 5.570313 -1.199219 5.75 -1.230469 C 6.050781 -1.285156 6.304688 -1.375 6.511719 -1.503906 C 6.714844 -1.628906 6.886719 -1.8125 7.019531 -2.058594 C 7.152344 -2.300781 7.21875 -2.585938 7.21875 -2.90625 C 7.21875 -3.277344 7.121094 -3.601563 6.929688 -3.878906 C 6.738281 -4.152344 6.472656 -4.34375 6.132813 -4.460938 C 5.792969 -4.570313 5.304688 -4.628906 4.667969 -4.628906 L 2.351563 -4.628906 Z M 2.351563 -1.183594 \"/>\n",
       "</symbol>\n",
       "<symbol overflow=\"visible\" id=\"glyph0-7\">\n",
       "<path style=\"stroke:none;\" d=\"M 0.464844 -3.628906 C 0.460938 -4.972656 0.835938 -5.96875 1.585938 -6.617188 C 2.207031 -7.148438 2.96875 -7.417969 3.867188 -7.421875 C 4.867188 -7.417969 5.683594 -7.089844 6.316406 -6.441406 C 6.949219 -5.785156 7.265625 -4.882813 7.265625 -3.734375 C 7.265625 -2.796875 7.125 -2.0625 6.84375 -1.527344 C 6.5625 -0.992188 6.152344 -0.578125 5.621094 -0.28125 C 5.082031 0.015625 4.5 0.164063 3.867188 0.164063 C 2.851563 0.164063 2.027344 -0.160156 1.402344 -0.8125 C 0.773438 -1.460938 0.460938 -2.398438 0.464844 -3.628906 Z M 1.730469 -3.628906 C 1.726563 -2.695313 1.929688 -2 2.335938 -1.539063 C 2.738281 -1.074219 3.25 -0.84375 3.867188 -0.847656 C 4.476563 -0.84375 4.984375 -1.074219 5.390625 -1.542969 C 5.796875 -2.003906 6 -2.714844 6 -3.671875 C 6 -4.566406 5.792969 -5.246094 5.386719 -5.710938 C 4.976563 -6.171875 4.472656 -6.402344 3.867188 -6.40625 C 3.25 -6.402344 2.738281 -6.171875 2.335938 -5.714844 C 1.929688 -5.25 1.726563 -4.554688 1.730469 -3.628906 Z M 1.730469 -3.628906 \"/>\n",
       "</symbol>\n",
       "<symbol overflow=\"visible\" id=\"glyph0-8\">\n",
       "<path style=\"stroke:none;\" d=\"M 2.058594 0 L 0.914063 0 L 0.914063 -10.023438 L 2.148438 -10.023438 L 2.148438 -6.445313 C 2.664063 -7.09375 3.328125 -7.417969 4.136719 -7.421875 C 4.582031 -7.417969 5.003906 -7.328125 5.402344 -7.152344 C 5.800781 -6.96875 6.128906 -6.714844 6.386719 -6.394531 C 6.644531 -6.066406 6.84375 -5.675781 6.992188 -5.214844 C 7.132813 -4.753906 7.207031 -4.261719 7.210938 -3.738281 C 7.207031 -2.496094 6.898438 -1.535156 6.289063 -0.855469 C 5.671875 -0.175781 4.933594 0.164063 4.074219 0.164063 C 3.214844 0.164063 2.542969 -0.191406 2.058594 -0.910156 Z M 2.042969 -3.683594 C 2.039063 -2.8125 2.15625 -2.183594 2.398438 -1.796875 C 2.78125 -1.160156 3.308594 -0.84375 3.972656 -0.847656 C 4.507813 -0.84375 4.96875 -1.078125 5.363281 -1.546875 C 5.753906 -2.015625 5.953125 -2.710938 5.953125 -3.636719 C 5.953125 -4.582031 5.765625 -5.28125 5.390625 -5.734375 C 5.015625 -6.183594 4.558594 -6.410156 4.027344 -6.414063 C 3.484375 -6.410156 3.019531 -6.175781 2.628906 -5.710938 C 2.234375 -5.242188 2.039063 -4.566406 2.042969 -3.683594 Z M 2.042969 -3.683594 \"/>\n",
       "</symbol>\n",
       "<symbol overflow=\"visible\" id=\"glyph0-9\">\n",
       "<path style=\"stroke:none;\" d=\"M 8.230469 -3.515625 L 9.554688 -3.179688 C 9.277344 -2.089844 8.777344 -1.257813 8.054688 -0.6875 C 7.332031 -0.113281 6.449219 0.167969 5.40625 0.171875 C 4.324219 0.167969 3.445313 -0.046875 2.773438 -0.488281 C 2.09375 -0.925781 1.578125 -1.5625 1.226563 -2.398438 C 0.867188 -3.226563 0.691406 -4.125 0.695313 -5.085938 C 0.691406 -6.128906 0.890625 -7.039063 1.292969 -7.816406 C 1.691406 -8.59375 2.257813 -9.183594 2.996094 -9.585938 C 3.730469 -9.988281 4.542969 -10.1875 5.429688 -10.191406 C 6.425781 -10.1875 7.269531 -9.933594 7.957031 -9.425781 C 8.640625 -8.914063 9.117188 -8.195313 9.386719 -7.273438 L 8.078125 -6.964844 C 7.84375 -7.691406 7.507813 -8.222656 7.066406 -8.558594 C 6.625 -8.890625 6.066406 -9.058594 5.398438 -9.058594 C 4.625 -9.058594 3.984375 -8.871094 3.46875 -8.503906 C 2.953125 -8.128906 2.589844 -7.632813 2.378906 -7.015625 C 2.167969 -6.390625 2.0625 -5.75 2.0625 -5.09375 C 2.0625 -4.234375 2.183594 -3.492188 2.433594 -2.859375 C 2.679688 -2.222656 3.066406 -1.746094 3.59375 -1.433594 C 4.117188 -1.117188 4.6875 -0.960938 5.296875 -0.964844 C 6.039063 -0.960938 6.667969 -1.175781 7.183594 -1.605469 C 7.699219 -2.035156 8.046875 -2.671875 8.230469 -3.515625 Z M 8.230469 -3.515625 \"/>\n",
       "</symbol>\n",
       "<symbol overflow=\"visible\" id=\"glyph0-10\">\n",
       "<path style=\"stroke:none;\" d=\"M 5.660156 -0.894531 C 5.203125 -0.503906 4.761719 -0.230469 4.34375 -0.0742188 C 3.917969 0.0859375 3.46875 0.164063 2.988281 0.164063 C 2.1875 0.164063 1.574219 -0.0273438 1.148438 -0.417969 C 0.71875 -0.804688 0.503906 -1.304688 0.507813 -1.914063 C 0.503906 -2.265625 0.585938 -2.589844 0.75 -2.886719 C 0.910156 -3.179688 1.121094 -3.414063 1.382813 -3.59375 C 1.644531 -3.769531 1.9375 -3.90625 2.269531 -4 C 2.507813 -4.058594 2.875 -4.121094 3.363281 -4.183594 C 4.355469 -4.300781 5.085938 -4.441406 5.558594 -4.609375 C 5.558594 -4.773438 5.558594 -4.878906 5.5625 -4.929688 C 5.558594 -5.425781 5.445313 -5.78125 5.214844 -5.988281 C 4.898438 -6.265625 4.429688 -6.402344 3.8125 -6.40625 C 3.230469 -6.402344 2.804688 -6.300781 2.53125 -6.101563 C 2.253906 -5.894531 2.050781 -5.535156 1.921875 -5.023438 L 0.71875 -5.1875 C 0.824219 -5.699219 1.003906 -6.117188 1.257813 -6.433594 C 1.503906 -6.75 1.867188 -6.992188 2.34375 -7.164063 C 2.816406 -7.332031 3.363281 -7.417969 3.992188 -7.421875 C 4.609375 -7.417969 5.113281 -7.34375 5.503906 -7.203125 C 5.886719 -7.054688 6.171875 -6.871094 6.359375 -6.652344 C 6.539063 -6.429688 6.667969 -6.152344 6.742188 -5.816406 C 6.777344 -5.605469 6.796875 -5.226563 6.800781 -4.683594 L 6.800781 -3.042969 C 6.796875 -1.894531 6.824219 -1.171875 6.878906 -0.871094 C 6.933594 -0.566406 7.035156 -0.277344 7.191406 0 L 5.90625 0 C 5.777344 -0.253906 5.695313 -0.550781 5.660156 -0.894531 Z M 5.558594 -3.644531 C 5.109375 -3.460938 4.4375 -3.304688 3.546875 -3.179688 C 3.039063 -3.105469 2.683594 -3.023438 2.472656 -2.933594 C 2.261719 -2.839844 2.097656 -2.707031 1.988281 -2.53125 C 1.871094 -2.355469 1.816406 -2.160156 1.820313 -1.949219 C 1.816406 -1.617188 1.941406 -1.34375 2.191406 -1.128906 C 2.4375 -0.90625 2.800781 -0.796875 3.28125 -0.800781 C 3.753906 -0.796875 4.175781 -0.898438 4.546875 -1.109375 C 4.914063 -1.3125 5.183594 -1.597656 5.359375 -1.960938 C 5.488281 -2.238281 5.554688 -2.648438 5.558594 -3.191406 Z M 5.558594 -3.644531 \"/>\n",
       "</symbol>\n",
       "<symbol overflow=\"visible\" id=\"glyph0-11\">\n",
       "<path style=\"stroke:none;\" d=\"M 0.910156 0 L 0.910156 -7.257813 L 2.015625 -7.257813 L 2.015625 -6.160156 C 2.296875 -6.667969 2.554688 -7.007813 2.796875 -7.175781 C 3.03125 -7.335938 3.296875 -7.417969 3.589844 -7.421875 C 4 -7.417969 4.421875 -7.285156 4.851563 -7.027344 L 4.429688 -5.886719 C 4.125 -6.0625 3.824219 -6.152344 3.527344 -6.152344 C 3.257813 -6.152344 3.015625 -6.070313 2.800781 -5.910156 C 2.585938 -5.746094 2.433594 -5.519531 2.34375 -5.234375 C 2.207031 -4.792969 2.136719 -4.316406 2.140625 -3.800781 L 2.140625 0 Z M 0.910156 0 \"/>\n",
       "</symbol>\n",
       "<symbol overflow=\"visible\" id=\"glyph0-12\">\n",
       "<path style=\"stroke:none;\" d=\"M 1.078125 0 L 1.078125 -10.023438 L 4.53125 -10.023438 C 5.308594 -10.019531 5.90625 -9.972656 6.316406 -9.878906 C 6.890625 -9.746094 7.378906 -9.503906 7.785156 -9.160156 C 8.3125 -8.710938 8.707031 -8.140625 8.972656 -7.449219 C 9.230469 -6.75 9.363281 -5.957031 9.367188 -5.066406 C 9.363281 -4.300781 9.273438 -3.625 9.097656 -3.039063 C 8.917969 -2.449219 8.691406 -1.964844 8.414063 -1.582031 C 8.136719 -1.195313 7.832031 -0.890625 7.503906 -0.671875 C 7.171875 -0.449219 6.773438 -0.28125 6.304688 -0.171875 C 5.835938 -0.0546875 5.296875 0 4.695313 0 Z M 2.40625 -1.183594 L 4.546875 -1.183594 C 5.207031 -1.183594 5.722656 -1.242188 6.101563 -1.367188 C 6.472656 -1.484375 6.773438 -1.660156 7 -1.886719 C 7.3125 -2.199219 7.558594 -2.621094 7.734375 -3.15625 C 7.910156 -3.683594 7.996094 -4.328125 8 -5.085938 C 7.996094 -6.132813 7.824219 -6.9375 7.480469 -7.5 C 7.132813 -8.0625 6.714844 -8.4375 6.226563 -8.632813 C 5.871094 -8.765625 5.300781 -8.835938 4.511719 -8.839844 L 2.40625 -8.839844 Z M 2.40625 -1.183594 \"/>\n",
       "</symbol>\n",
       "<symbol overflow=\"visible\" id=\"glyph0-13\">\n",
       "<path style=\"stroke:none;\" d=\"M 0.921875 0 L 0.921875 -7.257813 L 2.03125 -7.257813 L 2.03125 -6.226563 C 2.558594 -7.019531 3.328125 -7.417969 4.339844 -7.421875 C 4.773438 -7.417969 5.175781 -7.339844 5.546875 -7.1875 C 5.910156 -7.027344 6.183594 -6.820313 6.371094 -6.570313 C 6.550781 -6.3125 6.679688 -6.011719 6.753906 -5.660156 C 6.796875 -5.433594 6.820313 -5.035156 6.820313 -4.464844 L 6.820313 0 L 5.59375 0 L 5.59375 -4.414063 C 5.589844 -4.914063 5.542969 -5.289063 5.449219 -5.539063 C 5.351563 -5.785156 5.179688 -5.984375 4.9375 -6.136719 C 4.691406 -6.28125 4.40625 -6.355469 4.082031 -6.359375 C 3.554688 -6.355469 3.101563 -6.191406 2.722656 -5.859375 C 2.339844 -5.523438 2.148438 -4.890625 2.152344 -3.964844 L 2.152344 0 Z M 0.921875 0 \"/>\n",
       "</symbol>\n",
       "<symbol overflow=\"visible\" id=\"glyph0-14\">\n",
       "<path style=\"stroke:none;\" d=\"M 0.429688 -2.167969 L 1.648438 -2.359375 C 1.710938 -1.867188 1.902344 -1.492188 2.21875 -1.234375 C 2.527344 -0.972656 2.964844 -0.84375 3.527344 -0.847656 C 4.089844 -0.84375 4.507813 -0.957031 4.785156 -1.191406 C 5.054688 -1.417969 5.191406 -1.691406 5.195313 -2.003906 C 5.191406 -2.28125 5.070313 -2.5 4.832031 -2.660156 C 4.660156 -2.769531 4.242188 -2.90625 3.574219 -3.078125 C 2.671875 -3.300781 2.046875 -3.5 1.699219 -3.667969 C 1.347656 -3.832031 1.082031 -4.058594 0.90625 -4.355469 C 0.722656 -4.644531 0.632813 -4.972656 0.636719 -5.332031 C 0.632813 -5.652344 0.707031 -5.949219 0.855469 -6.230469 C 1.003906 -6.503906 1.203125 -6.734375 1.460938 -6.917969 C 1.648438 -7.054688 1.910156 -7.171875 2.246094 -7.273438 C 2.574219 -7.367188 2.929688 -7.417969 3.308594 -7.421875 C 3.875 -7.417969 4.375 -7.335938 4.808594 -7.175781 C 5.234375 -7.007813 5.550781 -6.785156 5.761719 -6.507813 C 5.964844 -6.226563 6.109375 -5.851563 6.1875 -5.386719 L 4.984375 -5.222656 C 4.925781 -5.589844 4.765625 -5.882813 4.507813 -6.097656 C 4.242188 -6.304688 3.875 -6.410156 3.398438 -6.414063 C 2.832031 -6.410156 2.425781 -6.316406 2.1875 -6.132813 C 1.941406 -5.941406 1.820313 -5.722656 1.824219 -5.476563 C 1.820313 -5.3125 1.871094 -5.167969 1.976563 -5.046875 C 2.070313 -4.910156 2.226563 -4.800781 2.445313 -4.71875 C 2.566406 -4.667969 2.929688 -4.5625 3.535156 -4.402344 C 4.402344 -4.167969 5.011719 -3.980469 5.355469 -3.832031 C 5.699219 -3.683594 5.96875 -3.464844 6.164063 -3.183594 C 6.359375 -2.898438 6.457031 -2.550781 6.460938 -2.132813 C 6.457031 -1.71875 6.335938 -1.332031 6.101563 -0.972656 C 5.859375 -0.609375 5.515625 -0.328125 5.066406 -0.132813 C 4.613281 0.0664063 4.101563 0.164063 3.535156 0.164063 C 2.585938 0.164063 1.867188 -0.03125 1.375 -0.421875 C 0.878906 -0.8125 0.5625 -1.394531 0.429688 -2.167969 Z M 0.429688 -2.167969 \"/>\n",
       "</symbol>\n",
       "<symbol overflow=\"visible\" id=\"glyph0-15\">\n",
       "<path style=\"stroke:none;\" d=\"M 1.109375 0 L 1.109375 -10.023438 L 8.351563 -10.023438 L 8.351563 -8.839844 L 2.433594 -8.839844 L 2.433594 -5.769531 L 7.976563 -5.769531 L 7.976563 -4.59375 L 2.433594 -4.59375 L 2.433594 -1.183594 L 8.585938 -1.183594 L 8.585938 0 Z M 1.109375 0 \"/>\n",
       "</symbol>\n",
       "<symbol overflow=\"visible\" id=\"glyph0-16\">\n",
       "<path style=\"stroke:none;\" d=\"M 3.609375 -1.101563 L 3.789063 -0.015625 C 3.4375 0.0585938 3.128906 0.09375 2.859375 0.09375 C 2.410156 0.09375 2.0625 0.0234375 1.816406 -0.117188 C 1.570313 -0.257813 1.394531 -0.441406 1.296875 -0.671875 C 1.195313 -0.902344 1.148438 -1.386719 1.148438 -2.125 L 1.148438 -6.304688 L 0.246094 -6.304688 L 0.246094 -7.257813 L 1.148438 -7.257813 L 1.148438 -9.058594 L 2.371094 -9.796875 L 2.371094 -7.257813 L 3.609375 -7.257813 L 3.609375 -6.304688 L 2.371094 -6.304688 L 2.371094 -2.058594 C 2.367188 -1.703125 2.386719 -1.476563 2.433594 -1.378906 C 2.472656 -1.277344 2.546875 -1.199219 2.648438 -1.140625 C 2.746094 -1.082031 2.886719 -1.054688 3.070313 -1.054688 C 3.203125 -1.054688 3.382813 -1.070313 3.609375 -1.101563 Z M 3.609375 -1.101563 \"/>\n",
       "</symbol>\n",
       "<symbol overflow=\"visible\" id=\"glyph0-17\">\n",
       "<path style=\"stroke:none;\" d=\"M 0.921875 0 L 0.921875 -10.023438 L 2.152344 -10.023438 L 2.152344 -6.425781 C 2.722656 -7.085938 3.449219 -7.417969 4.328125 -7.421875 C 4.863281 -7.417969 5.328125 -7.3125 5.726563 -7.105469 C 6.121094 -6.890625 6.40625 -6.597656 6.578125 -6.226563 C 6.746094 -5.851563 6.832031 -5.308594 6.835938 -4.601563 L 6.835938 0 L 5.605469 0 L 5.605469 -4.601563 C 5.601563 -5.210938 5.46875 -5.660156 5.203125 -5.941406 C 4.9375 -6.222656 4.558594 -6.363281 4.074219 -6.363281 C 3.707031 -6.363281 3.363281 -6.265625 3.042969 -6.078125 C 2.71875 -5.886719 2.492188 -5.632813 2.355469 -5.3125 C 2.21875 -4.988281 2.148438 -4.542969 2.152344 -3.972656 L 2.152344 0 Z M 0.921875 0 \"/>\n",
       "</symbol>\n",
       "<symbol overflow=\"visible\" id=\"glyph0-18\">\n",
       "<path style=\"stroke:none;\" d=\"M 1.148438 0 L 1.148438 -10.023438 L 7.910156 -10.023438 L 7.910156 -8.839844 L 2.476563 -8.839844 L 2.476563 -5.734375 L 7.179688 -5.734375 L 7.179688 -4.554688 L 2.476563 -4.554688 L 2.476563 0 Z M 1.148438 0 \"/>\n",
       "</symbol>\n",
       "<symbol overflow=\"visible\" id=\"glyph0-19\">\n",
       "<path style=\"stroke:none;\" d=\"M 0.929688 0 L 0.929688 -10.023438 L 2.160156 -10.023438 L 2.160156 -4.304688 L 5.070313 -7.257813 L 6.664063 -7.257813 L 3.890625 -4.566406 L 6.945313 0 L 5.429688 0 L 3.027344 -3.710938 L 2.160156 -2.878906 L 2.160156 0 Z M 0.929688 0 \"/>\n",
       "</symbol>\n",
       "<symbol overflow=\"visible\" id=\"glyph0-20\">\n",
       "<path style=\"stroke:none;\" d=\"M 5.769531 -3.929688 L 5.769531 -5.105469 L 10.015625 -5.113281 L 10.015625 -1.394531 C 9.359375 -0.875 8.6875 -0.484375 8 -0.222656 C 7.304688 0.0390625 6.59375 0.167969 5.867188 0.171875 C 4.878906 0.167969 3.984375 -0.0390625 3.183594 -0.460938 C 2.375 -0.878906 1.769531 -1.488281 1.359375 -2.289063 C 0.949219 -3.082031 0.742188 -3.972656 0.746094 -4.960938 C 0.742188 -5.933594 0.945313 -6.84375 1.355469 -7.691406 C 1.761719 -8.535156 2.351563 -9.164063 3.117188 -9.574219 C 3.882813 -9.984375 4.761719 -10.1875 5.761719 -10.191406 C 6.484375 -10.1875 7.140625 -10.070313 7.726563 -9.839844 C 8.308594 -9.601563 8.769531 -9.277344 9.105469 -8.859375 C 9.4375 -8.4375 9.6875 -7.890625 9.863281 -7.21875 L 8.667969 -6.890625 C 8.511719 -7.398438 8.324219 -7.796875 8.105469 -8.09375 C 7.878906 -8.382813 7.5625 -8.617188 7.148438 -8.792969 C 6.734375 -8.96875 6.273438 -9.058594 5.769531 -9.058594 C 5.160156 -9.058594 4.636719 -8.964844 4.195313 -8.78125 C 3.753906 -8.59375 3.394531 -8.351563 3.125 -8.050781 C 2.851563 -7.75 2.644531 -7.417969 2.496094 -7.0625 C 2.238281 -6.4375 2.109375 -5.765625 2.113281 -5.046875 C 2.109375 -4.148438 2.261719 -3.402344 2.574219 -2.800781 C 2.878906 -2.199219 3.328125 -1.75 3.914063 -1.460938 C 4.5 -1.164063 5.125 -1.019531 5.789063 -1.023438 C 6.363281 -1.019531 6.921875 -1.128906 7.472656 -1.355469 C 8.015625 -1.574219 8.429688 -1.8125 8.714844 -2.0625 L 8.714844 -3.929688 Z M 5.769531 -3.929688 \"/>\n",
       "</symbol>\n",
       "<symbol overflow=\"visible\" id=\"glyph0-21\">\n",
       "<path style=\"stroke:none;\" d=\"M 0.695313 0.601563 L 1.894531 0.78125 C 1.941406 1.144531 2.082031 1.414063 2.3125 1.585938 C 2.613281 1.8125 3.03125 1.925781 3.5625 1.929688 C 4.128906 1.925781 4.566406 1.8125 4.878906 1.585938 C 5.1875 1.355469 5.398438 1.035156 5.507813 0.628906 C 5.570313 0.375 5.597656 -0.148438 5.597656 -0.949219 C 5.058594 -0.316406 4.390625 0 3.589844 0 C 2.589844 0 1.816406 -0.359375 1.273438 -1.078125 C 0.722656 -1.796875 0.449219 -2.660156 0.453125 -3.671875 C 0.449219 -4.363281 0.574219 -5.003906 0.828125 -5.589844 C 1.074219 -6.175781 1.4375 -6.625 1.917969 -6.945313 C 2.390625 -7.257813 2.949219 -7.417969 3.59375 -7.421875 C 4.449219 -7.417969 5.15625 -7.070313 5.714844 -6.382813 L 5.714844 -7.257813 L 6.851563 -7.257813 L 6.851563 -0.984375 C 6.847656 0.144531 6.734375 0.945313 6.503906 1.417969 C 6.273438 1.886719 5.90625 2.257813 5.410156 2.535156 C 4.910156 2.804688 4.296875 2.941406 3.570313 2.945313 C 2.699219 2.941406 2 2.746094 1.46875 2.359375 C 0.933594 1.96875 0.675781 1.382813 0.695313 0.601563 Z M 1.714844 -3.757813 C 1.710938 -2.804688 1.898438 -2.113281 2.28125 -1.675781 C 2.65625 -1.238281 3.132813 -1.019531 3.703125 -1.019531 C 4.269531 -1.019531 4.742188 -1.234375 5.128906 -1.671875 C 5.507813 -2.101563 5.699219 -2.785156 5.703125 -3.71875 C 5.699219 -4.605469 5.503906 -5.273438 5.109375 -5.726563 C 4.714844 -6.175781 4.238281 -6.402344 3.683594 -6.40625 C 3.132813 -6.402344 2.667969 -6.179688 2.289063 -5.738281 C 1.902344 -5.289063 1.710938 -4.628906 1.714844 -3.757813 Z M 1.714844 -3.757813 \"/>\n",
       "</symbol>\n",
       "</g>\n",
       "</defs>\n",
       "<g id=\"surface42\">\n",
       "<rect x=\"0\" y=\"0\" width=\"300\" height=\"300\" style=\"fill:rgb(100%,100%,100%);fill-opacity:1;stroke:none;\"/>\n",
       "<path style=\"fill:none;stroke-width:1;stroke-linecap:butt;stroke-linejoin:miter;stroke:rgb(26.666667%,26.666667%,26.666667%);stroke-opacity:1;stroke-miterlimit:10;\" d=\"M 215.503906 98.0625 L 280 20 \"/>\n",
       "<path style=\"fill:none;stroke-width:1;stroke-linecap:butt;stroke-linejoin:miter;stroke:rgb(26.666667%,26.666667%,26.666667%);stroke-opacity:1;stroke-miterlimit:10;\" d=\"M 215.503906 98.0625 L 120.691406 132.179688 \"/>\n",
       "<path style=\"fill:none;stroke-width:1;stroke-linecap:butt;stroke-linejoin:miter;stroke:rgb(26.666667%,26.666667%,26.666667%);stroke-opacity:1;stroke-miterlimit:10;\" d=\"M 120.691406 132.179688 L 55.820313 216.5625 \"/>\n",
       "<path style=\"fill:none;stroke-width:1;stroke-linecap:butt;stroke-linejoin:miter;stroke:rgb(26.666667%,26.666667%,26.666667%);stroke-opacity:1;stroke-miterlimit:10;\" d=\"M 55.820313 216.5625 L 20 126.414063 \"/>\n",
       "<path style=\"fill:none;stroke-width:1;stroke-linecap:butt;stroke-linejoin:miter;stroke:rgb(26.666667%,26.666667%,26.666667%);stroke-opacity:1;stroke-miterlimit:10;\" d=\"M 120.691406 132.179688 L 20 126.414063 \"/>\n",
       "<path style=\"fill:none;stroke-width:1;stroke-linecap:butt;stroke-linejoin:miter;stroke:rgb(26.666667%,26.666667%,26.666667%);stroke-opacity:1;stroke-miterlimit:10;\" d=\"M 120.691406 132.179688 L 206.308594 196.398438 \"/>\n",
       "<path style=\"fill:none;stroke-width:1;stroke-linecap:butt;stroke-linejoin:miter;stroke:rgb(26.666667%,26.666667%,26.666667%);stroke-opacity:1;stroke-miterlimit:10;\" d=\"M 215.503906 98.0625 L 206.308594 196.398438 \"/>\n",
       "<path style=\"fill:none;stroke-width:1;stroke-linecap:butt;stroke-linejoin:miter;stroke:rgb(26.666667%,26.666667%,26.666667%);stroke-opacity:1;stroke-miterlimit:10;\" d=\"M 55.820313 216.5625 L 141.429688 280 \"/>\n",
       "<path style=\"fill:none;stroke-width:1;stroke-linecap:butt;stroke-linejoin:miter;stroke:rgb(26.666667%,26.666667%,26.666667%);stroke-opacity:1;stroke-miterlimit:10;\" d=\"M 206.308594 196.398438 L 141.429688 280 \"/>\n",
       "<path style=\"fill-rule:nonzero;fill:rgb(100%,75.294118%,79.607843%);fill-opacity:1;stroke-width:1;stroke-linecap:butt;stroke-linejoin:miter;stroke:rgb(0%,0%,0%);stroke-opacity:1;stroke-miterlimit:10;\" d=\"M 225.503906 98.0625 C 225.503906 103.585938 221.027344 108.0625 215.503906 108.0625 C 209.980469 108.0625 205.503906 103.585938 205.503906 98.0625 C 205.503906 92.539063 209.980469 88.0625 215.503906 88.0625 C 221.027344 88.0625 225.503906 92.539063 225.503906 98.0625 \"/>\n",
       "<path style=\"fill-rule:nonzero;fill:rgb(0%,0%,100%);fill-opacity:1;stroke-width:1;stroke-linecap:butt;stroke-linejoin:miter;stroke:rgb(0%,0%,0%);stroke-opacity:1;stroke-miterlimit:10;\" d=\"M 290 20 C 290 25.523438 285.523438 30 280 30 C 274.476563 30 270 25.523438 270 20 C 270 14.476563 274.476563 10 280 10 C 285.523438 10 290 14.476563 290 20 \"/>\n",
       "<path style=\"fill-rule:nonzero;fill:rgb(100%,75.294118%,79.607843%);fill-opacity:1;stroke-width:1;stroke-linecap:butt;stroke-linejoin:miter;stroke:rgb(0%,0%,0%);stroke-opacity:1;stroke-miterlimit:10;\" d=\"M 130.691406 132.179688 C 130.691406 137.703125 126.214844 142.179688 120.691406 142.179688 C 115.167969 142.179688 110.691406 137.703125 110.691406 132.179688 C 110.691406 126.65625 115.167969 122.179688 120.691406 122.179688 C 126.214844 122.179688 130.691406 126.65625 130.691406 132.179688 \"/>\n",
       "<path style=\"fill-rule:nonzero;fill:rgb(0%,0%,100%);fill-opacity:1;stroke-width:1;stroke-linecap:butt;stroke-linejoin:miter;stroke:rgb(0%,0%,0%);stroke-opacity:1;stroke-miterlimit:10;\" d=\"M 65.820313 216.5625 C 65.820313 222.085938 61.34375 226.5625 55.820313 226.5625 C 50.296875 226.5625 45.820313 222.085938 45.820313 216.5625 C 45.820313 211.039063 50.296875 206.5625 55.820313 206.5625 C 61.34375 206.5625 65.820313 211.039063 65.820313 216.5625 \"/>\n",
       "<path style=\"fill-rule:nonzero;fill:rgb(100%,75.294118%,79.607843%);fill-opacity:1;stroke-width:1;stroke-linecap:butt;stroke-linejoin:miter;stroke:rgb(0%,0%,0%);stroke-opacity:1;stroke-miterlimit:10;\" d=\"M 30 126.414063 C 30 131.9375 25.523438 136.414063 20 136.414063 C 14.476563 136.414063 10 131.9375 10 126.414063 C 10 120.890625 14.476563 116.414063 20 116.414063 C 25.523438 116.414063 30 120.890625 30 126.414063 \"/>\n",
       "<path style=\"fill-rule:nonzero;fill:rgb(0%,0%,100%);fill-opacity:1;stroke-width:1;stroke-linecap:butt;stroke-linejoin:miter;stroke:rgb(0%,0%,0%);stroke-opacity:1;stroke-miterlimit:10;\" d=\"M 216.308594 196.398438 C 216.308594 201.921875 211.828125 206.398438 206.308594 206.398438 C 200.785156 206.398438 196.308594 201.921875 196.308594 196.398438 C 196.308594 190.875 200.785156 186.398438 206.308594 186.398438 C 211.828125 186.398438 216.308594 190.875 216.308594 196.398438 \"/>\n",
       "<path style=\"fill-rule:nonzero;fill:rgb(0%,0%,100%);fill-opacity:1;stroke-width:1;stroke-linecap:butt;stroke-linejoin:miter;stroke:rgb(0%,0%,0%);stroke-opacity:1;stroke-miterlimit:10;\" d=\"M 151.429688 280 C 151.429688 285.523438 146.953125 290 141.429688 290 C 135.910156 290 131.429688 285.523438 131.429688 280 C 131.429688 274.476563 135.910156 270 141.429688 270 C 146.953125 270 151.429688 274.476563 151.429688 280 \"/>\n",
       "<g style=\"fill:rgb(0%,0%,0%);fill-opacity:1;\">\n",
       "  <use xlink:href=\"#glyph0-1\" x=\"200.632813\" y=\"104.574219\"/>\n",
       "  <use xlink:href=\"#glyph0-2\" x=\"209.970703\" y=\"104.574219\"/>\n",
       "  <use xlink:href=\"#glyph0-3\" x=\"213.081055\" y=\"104.574219\"/>\n",
       "  <use xlink:href=\"#glyph0-4\" x=\"216.191406\" y=\"104.574219\"/>\n",
       "  <use xlink:href=\"#glyph0-5\" x=\"223.191406\" y=\"104.574219\"/>\n",
       "</g>\n",
       "<g style=\"fill:rgb(0%,0%,0%);fill-opacity:1;\">\n",
       "  <use xlink:href=\"#glyph0-6\" x=\"267.320313\" y=\"26.511719\"/>\n",
       "  <use xlink:href=\"#glyph0-7\" x=\"276.658203\" y=\"26.511719\"/>\n",
       "  <use xlink:href=\"#glyph0-8\" x=\"284.444336\" y=\"26.511719\"/>\n",
       "</g>\n",
       "<g style=\"fill:rgb(0%,0%,0%);fill-opacity:1;\">\n",
       "  <use xlink:href=\"#glyph0-9\" x=\"102.351563\" y=\"138.777344\"/>\n",
       "  <use xlink:href=\"#glyph0-2\" x=\"112.461914\" y=\"138.777344\"/>\n",
       "  <use xlink:href=\"#glyph0-10\" x=\"115.572266\" y=\"138.777344\"/>\n",
       "  <use xlink:href=\"#glyph0-3\" x=\"123.358398\" y=\"138.777344\"/>\n",
       "  <use xlink:href=\"#glyph0-11\" x=\"126.46875\" y=\"138.777344\"/>\n",
       "  <use xlink:href=\"#glyph0-5\" x=\"131.130859\" y=\"138.777344\"/>\n",
       "</g>\n",
       "<g style=\"fill:rgb(0%,0%,0%);fill-opacity:1;\">\n",
       "  <use xlink:href=\"#glyph0-12\" x=\"33.761719\" y=\"223.074219\"/>\n",
       "  <use xlink:href=\"#glyph0-5\" x=\"43.87207\" y=\"223.074219\"/>\n",
       "  <use xlink:href=\"#glyph0-13\" x=\"51.658203\" y=\"223.074219\"/>\n",
       "  <use xlink:href=\"#glyph0-13\" x=\"59.444336\" y=\"223.074219\"/>\n",
       "  <use xlink:href=\"#glyph0-3\" x=\"67.230469\" y=\"223.074219\"/>\n",
       "  <use xlink:href=\"#glyph0-14\" x=\"70.34082\" y=\"223.074219\"/>\n",
       "</g>\n",
       "<g style=\"fill:rgb(0%,0%,0%);fill-opacity:1;\">\n",
       "  <use xlink:href=\"#glyph0-15\" x=\"-0.878906\" y=\"132.925781\"/>\n",
       "  <use xlink:href=\"#glyph0-14\" x=\"8.458984\" y=\"132.925781\"/>\n",
       "  <use xlink:href=\"#glyph0-16\" x=\"15.458984\" y=\"132.925781\"/>\n",
       "  <use xlink:href=\"#glyph0-17\" x=\"19.348633\" y=\"132.925781\"/>\n",
       "  <use xlink:href=\"#glyph0-5\" x=\"27.134766\" y=\"132.925781\"/>\n",
       "  <use xlink:href=\"#glyph0-11\" x=\"34.920898\" y=\"132.925781\"/>\n",
       "</g>\n",
       "<g style=\"fill:rgb(0%,0%,0%);fill-opacity:1;\">\n",
       "  <use xlink:href=\"#glyph0-18\" x=\"187.867188\" y=\"202.910156\"/>\n",
       "  <use xlink:href=\"#glyph0-11\" x=\"196.418945\" y=\"202.910156\"/>\n",
       "  <use xlink:href=\"#glyph0-10\" x=\"201.081055\" y=\"202.910156\"/>\n",
       "  <use xlink:href=\"#glyph0-13\" x=\"208.867188\" y=\"202.910156\"/>\n",
       "  <use xlink:href=\"#glyph0-19\" x=\"216.65332\" y=\"202.910156\"/>\n",
       "</g>\n",
       "<g style=\"fill:rgb(0%,0%,0%);fill-opacity:1;\">\n",
       "  <use xlink:href=\"#glyph0-20\" x=\"118\" y=\"286.597656\"/>\n",
       "  <use xlink:href=\"#glyph0-5\" x=\"128.889648\" y=\"286.597656\"/>\n",
       "  <use xlink:href=\"#glyph0-7\" x=\"136.675781\" y=\"286.597656\"/>\n",
       "  <use xlink:href=\"#glyph0-11\" x=\"144.461914\" y=\"286.597656\"/>\n",
       "  <use xlink:href=\"#glyph0-21\" x=\"149.124023\" y=\"286.597656\"/>\n",
       "  <use xlink:href=\"#glyph0-5\" x=\"156.910156\" y=\"286.597656\"/>\n",
       "</g>\n",
       "</g>\n",
       "</svg>\n"
      ],
      "text/plain": [
       "<igraph.drawing.Plot at 0x1f0c1020700>"
      ]
     },
     "execution_count": 11,
     "metadata": {},
     "output_type": "execute_result"
    }
   ],
   "source": [
    "g.vs[\"label\"] = g.vs[\"Nome\"]\n",
    "color_dict = {\"m\": \"blue\", \"f\": \"pink\"}\n",
    "g.vs[\"color\"] = [color_dict[gender] for gender in g.vs[\"Gênero\"]]\n",
    "plot(g, layout = layout, bbox = (300, 300), margin = 20)"
   ]
  },
  {
   "cell_type": "code",
   "execution_count": 9,
   "metadata": {},
   "outputs": [
    {
     "data": {
      "image/svg+xml": [
       "<?xml version=\"1.0\" encoding=\"UTF-8\"?>\n",
       "<svg xmlns=\"http://www.w3.org/2000/svg\" xmlns:xlink=\"http://www.w3.org/1999/xlink\" width=\"300pt\" height=\"400pt\" viewBox=\"0 0 300 400\" version=\"1.1\">\n",
       "<defs>\n",
       "<g>\n",
       "<symbol overflow=\"visible\" id=\"glyph0-0\">\n",
       "<path style=\"stroke:none;\" d=\"M 1.75 0 L 1.75 -8.75 L 8.75 -8.75 L 8.75 0 Z M 1.96875 -0.21875 L 8.53125 -0.21875 L 8.53125 -8.53125 L 1.96875 -8.53125 Z M 1.96875 -0.21875 \"/>\n",
       "</symbol>\n",
       "<symbol overflow=\"visible\" id=\"glyph0-1\">\n",
       "<path style=\"stroke:none;\" d=\"M -0.0195313 0 L 3.828125 -10.023438 L 5.257813 -10.023438 L 9.359375 0 L 7.847656 0 L 6.679688 -3.035156 L 2.488281 -3.035156 L 1.386719 0 Z M 2.871094 -4.117188 L 6.269531 -4.117188 L 5.222656 -6.890625 C 4.898438 -7.734375 4.664063 -8.425781 4.511719 -8.96875 C 4.382813 -8.324219 4.203125 -7.6875 3.972656 -7.054688 Z M 2.871094 -4.117188 \"/>\n",
       "</symbol>\n",
       "<symbol overflow=\"visible\" id=\"glyph0-2\">\n",
       "<path style=\"stroke:none;\" d=\"M 0.894531 0 L 0.894531 -10.023438 L 2.125 -10.023438 L 2.125 0 Z M 0.894531 0 \"/>\n",
       "</symbol>\n",
       "<symbol overflow=\"visible\" id=\"glyph0-3\">\n",
       "<path style=\"stroke:none;\" d=\"M 0.929688 -8.605469 L 0.929688 -10.023438 L 2.160156 -10.023438 L 2.160156 -8.605469 Z M 0.929688 0 L 0.929688 -7.257813 L 2.160156 -7.257813 L 2.160156 0 Z M 0.929688 0 \"/>\n",
       "</symbol>\n",
       "<symbol overflow=\"visible\" id=\"glyph0-4\">\n",
       "<path style=\"stroke:none;\" d=\"M 5.660156 -2.660156 L 6.871094 -2.5 C 6.734375 -1.664063 6.394531 -1.011719 5.855469 -0.542969 C 5.308594 -0.0703125 4.640625 0.164063 3.847656 0.164063 C 2.851563 0.164063 2.054688 -0.160156 1.453125 -0.808594 C 0.847656 -1.457031 0.542969 -2.386719 0.546875 -3.601563 C 0.542969 -4.382813 0.675781 -5.070313 0.9375 -5.660156 C 1.195313 -6.246094 1.589844 -6.683594 2.121094 -6.980469 C 2.652344 -7.269531 3.230469 -7.417969 3.855469 -7.421875 C 4.644531 -7.417969 5.289063 -7.21875 5.789063 -6.824219 C 6.289063 -6.421875 6.609375 -5.855469 6.753906 -5.125 L 5.558594 -4.941406 C 5.441406 -5.425781 5.238281 -5.792969 4.953125 -6.042969 C 4.660156 -6.285156 4.3125 -6.410156 3.902344 -6.414063 C 3.28125 -6.410156 2.777344 -6.1875 2.390625 -5.746094 C 2.003906 -5.296875 1.808594 -4.59375 1.8125 -3.636719 C 1.808594 -2.65625 1.996094 -1.945313 2.371094 -1.507813 C 2.742188 -1.0625 3.230469 -0.84375 3.835938 -0.847656 C 4.316406 -0.84375 4.71875 -0.992188 5.042969 -1.289063 C 5.367188 -1.585938 5.574219 -2.042969 5.660156 -2.660156 Z M 5.660156 -2.660156 \"/>\n",
       "</symbol>\n",
       "<symbol overflow=\"visible\" id=\"glyph0-5\">\n",
       "<path style=\"stroke:none;\" d=\"M 5.890625 -2.335938 L 7.164063 -2.179688 C 6.960938 -1.4375 6.589844 -0.859375 6.046875 -0.449219 C 5.503906 -0.0390625 4.8125 0.164063 3.972656 0.164063 C 2.910156 0.164063 2.066406 -0.160156 1.445313 -0.816406 C 0.820313 -1.464844 0.507813 -2.382813 0.511719 -3.570313 C 0.507813 -4.785156 0.824219 -5.734375 1.453125 -6.410156 C 2.082031 -7.082031 2.898438 -7.417969 3.902344 -7.421875 C 4.871094 -7.417969 5.664063 -7.085938 6.28125 -6.429688 C 6.894531 -5.765625 7.199219 -4.839844 7.203125 -3.644531 C 7.199219 -3.570313 7.199219 -3.460938 7.199219 -3.316406 L 1.785156 -3.316406 C 1.828125 -2.515625 2.054688 -1.902344 2.460938 -1.480469 C 2.867188 -1.054688 3.371094 -0.84375 3.976563 -0.847656 C 4.425781 -0.84375 4.8125 -0.960938 5.132813 -1.203125 C 5.453125 -1.4375 5.703125 -1.816406 5.890625 -2.335938 Z M 1.851563 -4.328125 L 5.90625 -4.328125 C 5.851563 -4.933594 5.695313 -5.390625 5.441406 -5.703125 C 5.046875 -6.171875 4.539063 -6.410156 3.917969 -6.414063 C 3.351563 -6.410156 2.875 -6.21875 2.492188 -5.84375 C 2.101563 -5.460938 1.890625 -4.957031 1.851563 -4.328125 Z M 1.851563 -4.328125 \"/>\n",
       "</symbol>\n",
       "<symbol overflow=\"visible\" id=\"glyph0-6\">\n",
       "<path style=\"stroke:none;\" d=\"M 1.023438 0 L 1.023438 -10.023438 L 4.785156 -10.023438 C 5.546875 -10.019531 6.160156 -9.917969 6.625 -9.71875 C 7.085938 -9.511719 7.449219 -9.199219 7.714844 -8.78125 C 7.976563 -8.355469 8.109375 -7.914063 8.109375 -7.457031 C 8.109375 -7.027344 7.992188 -6.625 7.757813 -6.246094 C 7.523438 -5.867188 7.171875 -5.5625 6.707031 -5.332031 C 7.3125 -5.152344 7.777344 -4.847656 8.105469 -4.421875 C 8.425781 -3.992188 8.589844 -3.488281 8.59375 -2.90625 C 8.589844 -2.4375 8.492188 -2 8.296875 -1.597656 C 8.097656 -1.191406 7.851563 -0.878906 7.5625 -0.664063 C 7.269531 -0.441406 6.902344 -0.277344 6.464844 -0.167969 C 6.019531 -0.0546875 5.480469 0 4.847656 0 Z M 2.351563 -5.8125 L 4.519531 -5.8125 C 5.101563 -5.8125 5.523438 -5.847656 5.78125 -5.925781 C 6.117188 -6.023438 6.371094 -6.191406 6.542969 -6.425781 C 6.710938 -6.65625 6.796875 -6.949219 6.800781 -7.300781 C 6.796875 -7.632813 6.71875 -7.925781 6.5625 -8.179688 C 6.402344 -8.429688 6.171875 -8.601563 5.878906 -8.699219 C 5.578125 -8.789063 5.070313 -8.835938 4.355469 -8.839844 L 2.351563 -8.839844 Z M 2.351563 -1.183594 L 4.847656 -1.183594 C 5.269531 -1.183594 5.570313 -1.199219 5.75 -1.230469 C 6.050781 -1.285156 6.304688 -1.375 6.511719 -1.503906 C 6.714844 -1.628906 6.886719 -1.8125 7.019531 -2.058594 C 7.152344 -2.300781 7.21875 -2.585938 7.21875 -2.90625 C 7.21875 -3.277344 7.121094 -3.601563 6.929688 -3.878906 C 6.738281 -4.152344 6.472656 -4.34375 6.132813 -4.460938 C 5.792969 -4.570313 5.304688 -4.628906 4.667969 -4.628906 L 2.351563 -4.628906 Z M 2.351563 -1.183594 \"/>\n",
       "</symbol>\n",
       "<symbol overflow=\"visible\" id=\"glyph0-7\">\n",
       "<path style=\"stroke:none;\" d=\"M 0.464844 -3.628906 C 0.460938 -4.972656 0.835938 -5.96875 1.585938 -6.617188 C 2.207031 -7.148438 2.96875 -7.417969 3.867188 -7.421875 C 4.867188 -7.417969 5.683594 -7.089844 6.316406 -6.441406 C 6.949219 -5.785156 7.265625 -4.882813 7.265625 -3.734375 C 7.265625 -2.796875 7.125 -2.0625 6.84375 -1.527344 C 6.5625 -0.992188 6.152344 -0.578125 5.621094 -0.28125 C 5.082031 0.015625 4.5 0.164063 3.867188 0.164063 C 2.851563 0.164063 2.027344 -0.160156 1.402344 -0.8125 C 0.773438 -1.460938 0.460938 -2.398438 0.464844 -3.628906 Z M 1.730469 -3.628906 C 1.726563 -2.695313 1.929688 -2 2.335938 -1.539063 C 2.738281 -1.074219 3.25 -0.84375 3.867188 -0.847656 C 4.476563 -0.84375 4.984375 -1.074219 5.390625 -1.542969 C 5.796875 -2.003906 6 -2.714844 6 -3.671875 C 6 -4.566406 5.792969 -5.246094 5.386719 -5.710938 C 4.976563 -6.171875 4.472656 -6.402344 3.867188 -6.40625 C 3.25 -6.402344 2.738281 -6.171875 2.335938 -5.714844 C 1.929688 -5.25 1.726563 -4.554688 1.730469 -3.628906 Z M 1.730469 -3.628906 \"/>\n",
       "</symbol>\n",
       "<symbol overflow=\"visible\" id=\"glyph0-8\">\n",
       "<path style=\"stroke:none;\" d=\"M 2.058594 0 L 0.914063 0 L 0.914063 -10.023438 L 2.148438 -10.023438 L 2.148438 -6.445313 C 2.664063 -7.09375 3.328125 -7.417969 4.136719 -7.421875 C 4.582031 -7.417969 5.003906 -7.328125 5.402344 -7.152344 C 5.800781 -6.96875 6.128906 -6.714844 6.386719 -6.394531 C 6.644531 -6.066406 6.84375 -5.675781 6.992188 -5.214844 C 7.132813 -4.753906 7.207031 -4.261719 7.210938 -3.738281 C 7.207031 -2.496094 6.898438 -1.535156 6.289063 -0.855469 C 5.671875 -0.175781 4.933594 0.164063 4.074219 0.164063 C 3.214844 0.164063 2.542969 -0.191406 2.058594 -0.910156 Z M 2.042969 -3.683594 C 2.039063 -2.8125 2.15625 -2.183594 2.398438 -1.796875 C 2.78125 -1.160156 3.308594 -0.84375 3.972656 -0.847656 C 4.507813 -0.84375 4.96875 -1.078125 5.363281 -1.546875 C 5.753906 -2.015625 5.953125 -2.710938 5.953125 -3.636719 C 5.953125 -4.582031 5.765625 -5.28125 5.390625 -5.734375 C 5.015625 -6.183594 4.558594 -6.410156 4.027344 -6.414063 C 3.484375 -6.410156 3.019531 -6.175781 2.628906 -5.710938 C 2.234375 -5.242188 2.039063 -4.566406 2.042969 -3.683594 Z M 2.042969 -3.683594 \"/>\n",
       "</symbol>\n",
       "<symbol overflow=\"visible\" id=\"glyph0-9\">\n",
       "<path style=\"stroke:none;\" d=\"M 8.230469 -3.515625 L 9.554688 -3.179688 C 9.277344 -2.089844 8.777344 -1.257813 8.054688 -0.6875 C 7.332031 -0.113281 6.449219 0.167969 5.40625 0.171875 C 4.324219 0.167969 3.445313 -0.046875 2.773438 -0.488281 C 2.09375 -0.925781 1.578125 -1.5625 1.226563 -2.398438 C 0.867188 -3.226563 0.691406 -4.125 0.695313 -5.085938 C 0.691406 -6.128906 0.890625 -7.039063 1.292969 -7.816406 C 1.691406 -8.59375 2.257813 -9.183594 2.996094 -9.585938 C 3.730469 -9.988281 4.542969 -10.1875 5.429688 -10.191406 C 6.425781 -10.1875 7.269531 -9.933594 7.957031 -9.425781 C 8.640625 -8.914063 9.117188 -8.195313 9.386719 -7.273438 L 8.078125 -6.964844 C 7.84375 -7.691406 7.507813 -8.222656 7.066406 -8.558594 C 6.625 -8.890625 6.066406 -9.058594 5.398438 -9.058594 C 4.625 -9.058594 3.984375 -8.871094 3.46875 -8.503906 C 2.953125 -8.128906 2.589844 -7.632813 2.378906 -7.015625 C 2.167969 -6.390625 2.0625 -5.75 2.0625 -5.09375 C 2.0625 -4.234375 2.183594 -3.492188 2.433594 -2.859375 C 2.679688 -2.222656 3.066406 -1.746094 3.59375 -1.433594 C 4.117188 -1.117188 4.6875 -0.960938 5.296875 -0.964844 C 6.039063 -0.960938 6.667969 -1.175781 7.183594 -1.605469 C 7.699219 -2.035156 8.046875 -2.671875 8.230469 -3.515625 Z M 8.230469 -3.515625 \"/>\n",
       "</symbol>\n",
       "<symbol overflow=\"visible\" id=\"glyph0-10\">\n",
       "<path style=\"stroke:none;\" d=\"M 5.660156 -0.894531 C 5.203125 -0.503906 4.761719 -0.230469 4.34375 -0.0742188 C 3.917969 0.0859375 3.46875 0.164063 2.988281 0.164063 C 2.1875 0.164063 1.574219 -0.0273438 1.148438 -0.417969 C 0.71875 -0.804688 0.503906 -1.304688 0.507813 -1.914063 C 0.503906 -2.265625 0.585938 -2.589844 0.75 -2.886719 C 0.910156 -3.179688 1.121094 -3.414063 1.382813 -3.59375 C 1.644531 -3.769531 1.9375 -3.90625 2.269531 -4 C 2.507813 -4.058594 2.875 -4.121094 3.363281 -4.183594 C 4.355469 -4.300781 5.085938 -4.441406 5.558594 -4.609375 C 5.558594 -4.773438 5.558594 -4.878906 5.5625 -4.929688 C 5.558594 -5.425781 5.445313 -5.78125 5.214844 -5.988281 C 4.898438 -6.265625 4.429688 -6.402344 3.8125 -6.40625 C 3.230469 -6.402344 2.804688 -6.300781 2.53125 -6.101563 C 2.253906 -5.894531 2.050781 -5.535156 1.921875 -5.023438 L 0.71875 -5.1875 C 0.824219 -5.699219 1.003906 -6.117188 1.257813 -6.433594 C 1.503906 -6.75 1.867188 -6.992188 2.34375 -7.164063 C 2.816406 -7.332031 3.363281 -7.417969 3.992188 -7.421875 C 4.609375 -7.417969 5.113281 -7.34375 5.503906 -7.203125 C 5.886719 -7.054688 6.171875 -6.871094 6.359375 -6.652344 C 6.539063 -6.429688 6.667969 -6.152344 6.742188 -5.816406 C 6.777344 -5.605469 6.796875 -5.226563 6.800781 -4.683594 L 6.800781 -3.042969 C 6.796875 -1.894531 6.824219 -1.171875 6.878906 -0.871094 C 6.933594 -0.566406 7.035156 -0.277344 7.191406 0 L 5.90625 0 C 5.777344 -0.253906 5.695313 -0.550781 5.660156 -0.894531 Z M 5.558594 -3.644531 C 5.109375 -3.460938 4.4375 -3.304688 3.546875 -3.179688 C 3.039063 -3.105469 2.683594 -3.023438 2.472656 -2.933594 C 2.261719 -2.839844 2.097656 -2.707031 1.988281 -2.53125 C 1.871094 -2.355469 1.816406 -2.160156 1.820313 -1.949219 C 1.816406 -1.617188 1.941406 -1.34375 2.191406 -1.128906 C 2.4375 -0.90625 2.800781 -0.796875 3.28125 -0.800781 C 3.753906 -0.796875 4.175781 -0.898438 4.546875 -1.109375 C 4.914063 -1.3125 5.183594 -1.597656 5.359375 -1.960938 C 5.488281 -2.238281 5.554688 -2.648438 5.558594 -3.191406 Z M 5.558594 -3.644531 \"/>\n",
       "</symbol>\n",
       "<symbol overflow=\"visible\" id=\"glyph0-11\">\n",
       "<path style=\"stroke:none;\" d=\"M 0.910156 0 L 0.910156 -7.257813 L 2.015625 -7.257813 L 2.015625 -6.160156 C 2.296875 -6.667969 2.554688 -7.007813 2.796875 -7.175781 C 3.03125 -7.335938 3.296875 -7.417969 3.589844 -7.421875 C 4 -7.417969 4.421875 -7.285156 4.851563 -7.027344 L 4.429688 -5.886719 C 4.125 -6.0625 3.824219 -6.152344 3.527344 -6.152344 C 3.257813 -6.152344 3.015625 -6.070313 2.800781 -5.910156 C 2.585938 -5.746094 2.433594 -5.519531 2.34375 -5.234375 C 2.207031 -4.792969 2.136719 -4.316406 2.140625 -3.800781 L 2.140625 0 Z M 0.910156 0 \"/>\n",
       "</symbol>\n",
       "<symbol overflow=\"visible\" id=\"glyph0-12\">\n",
       "<path style=\"stroke:none;\" d=\"M 1.078125 0 L 1.078125 -10.023438 L 4.53125 -10.023438 C 5.308594 -10.019531 5.90625 -9.972656 6.316406 -9.878906 C 6.890625 -9.746094 7.378906 -9.503906 7.785156 -9.160156 C 8.3125 -8.710938 8.707031 -8.140625 8.972656 -7.449219 C 9.230469 -6.75 9.363281 -5.957031 9.367188 -5.066406 C 9.363281 -4.300781 9.273438 -3.625 9.097656 -3.039063 C 8.917969 -2.449219 8.691406 -1.964844 8.414063 -1.582031 C 8.136719 -1.195313 7.832031 -0.890625 7.503906 -0.671875 C 7.171875 -0.449219 6.773438 -0.28125 6.304688 -0.171875 C 5.835938 -0.0546875 5.296875 0 4.695313 0 Z M 2.40625 -1.183594 L 4.546875 -1.183594 C 5.207031 -1.183594 5.722656 -1.242188 6.101563 -1.367188 C 6.472656 -1.484375 6.773438 -1.660156 7 -1.886719 C 7.3125 -2.199219 7.558594 -2.621094 7.734375 -3.15625 C 7.910156 -3.683594 7.996094 -4.328125 8 -5.085938 C 7.996094 -6.132813 7.824219 -6.9375 7.480469 -7.5 C 7.132813 -8.0625 6.714844 -8.4375 6.226563 -8.632813 C 5.871094 -8.765625 5.300781 -8.835938 4.511719 -8.839844 L 2.40625 -8.839844 Z M 2.40625 -1.183594 \"/>\n",
       "</symbol>\n",
       "<symbol overflow=\"visible\" id=\"glyph0-13\">\n",
       "<path style=\"stroke:none;\" d=\"M 0.921875 0 L 0.921875 -7.257813 L 2.03125 -7.257813 L 2.03125 -6.226563 C 2.558594 -7.019531 3.328125 -7.417969 4.339844 -7.421875 C 4.773438 -7.417969 5.175781 -7.339844 5.546875 -7.1875 C 5.910156 -7.027344 6.183594 -6.820313 6.371094 -6.570313 C 6.550781 -6.3125 6.679688 -6.011719 6.753906 -5.660156 C 6.796875 -5.433594 6.820313 -5.035156 6.820313 -4.464844 L 6.820313 0 L 5.59375 0 L 5.59375 -4.414063 C 5.589844 -4.914063 5.542969 -5.289063 5.449219 -5.539063 C 5.351563 -5.785156 5.179688 -5.984375 4.9375 -6.136719 C 4.691406 -6.28125 4.40625 -6.355469 4.082031 -6.359375 C 3.554688 -6.355469 3.101563 -6.191406 2.722656 -5.859375 C 2.339844 -5.523438 2.148438 -4.890625 2.152344 -3.964844 L 2.152344 0 Z M 0.921875 0 \"/>\n",
       "</symbol>\n",
       "<symbol overflow=\"visible\" id=\"glyph0-14\">\n",
       "<path style=\"stroke:none;\" d=\"M 0.429688 -2.167969 L 1.648438 -2.359375 C 1.710938 -1.867188 1.902344 -1.492188 2.21875 -1.234375 C 2.527344 -0.972656 2.964844 -0.84375 3.527344 -0.847656 C 4.089844 -0.84375 4.507813 -0.957031 4.785156 -1.191406 C 5.054688 -1.417969 5.191406 -1.691406 5.195313 -2.003906 C 5.191406 -2.28125 5.070313 -2.5 4.832031 -2.660156 C 4.660156 -2.769531 4.242188 -2.90625 3.574219 -3.078125 C 2.671875 -3.300781 2.046875 -3.5 1.699219 -3.667969 C 1.347656 -3.832031 1.082031 -4.058594 0.90625 -4.355469 C 0.722656 -4.644531 0.632813 -4.972656 0.636719 -5.332031 C 0.632813 -5.652344 0.707031 -5.949219 0.855469 -6.230469 C 1.003906 -6.503906 1.203125 -6.734375 1.460938 -6.917969 C 1.648438 -7.054688 1.910156 -7.171875 2.246094 -7.273438 C 2.574219 -7.367188 2.929688 -7.417969 3.308594 -7.421875 C 3.875 -7.417969 4.375 -7.335938 4.808594 -7.175781 C 5.234375 -7.007813 5.550781 -6.785156 5.761719 -6.507813 C 5.964844 -6.226563 6.109375 -5.851563 6.1875 -5.386719 L 4.984375 -5.222656 C 4.925781 -5.589844 4.765625 -5.882813 4.507813 -6.097656 C 4.242188 -6.304688 3.875 -6.410156 3.398438 -6.414063 C 2.832031 -6.410156 2.425781 -6.316406 2.1875 -6.132813 C 1.941406 -5.941406 1.820313 -5.722656 1.824219 -5.476563 C 1.820313 -5.3125 1.871094 -5.167969 1.976563 -5.046875 C 2.070313 -4.910156 2.226563 -4.800781 2.445313 -4.71875 C 2.566406 -4.667969 2.929688 -4.5625 3.535156 -4.402344 C 4.402344 -4.167969 5.011719 -3.980469 5.355469 -3.832031 C 5.699219 -3.683594 5.96875 -3.464844 6.164063 -3.183594 C 6.359375 -2.898438 6.457031 -2.550781 6.460938 -2.132813 C 6.457031 -1.71875 6.335938 -1.332031 6.101563 -0.972656 C 5.859375 -0.609375 5.515625 -0.328125 5.066406 -0.132813 C 4.613281 0.0664063 4.101563 0.164063 3.535156 0.164063 C 2.585938 0.164063 1.867188 -0.03125 1.375 -0.421875 C 0.878906 -0.8125 0.5625 -1.394531 0.429688 -2.167969 Z M 0.429688 -2.167969 \"/>\n",
       "</symbol>\n",
       "<symbol overflow=\"visible\" id=\"glyph0-15\">\n",
       "<path style=\"stroke:none;\" d=\"M 1.109375 0 L 1.109375 -10.023438 L 8.351563 -10.023438 L 8.351563 -8.839844 L 2.433594 -8.839844 L 2.433594 -5.769531 L 7.976563 -5.769531 L 7.976563 -4.59375 L 2.433594 -4.59375 L 2.433594 -1.183594 L 8.585938 -1.183594 L 8.585938 0 Z M 1.109375 0 \"/>\n",
       "</symbol>\n",
       "<symbol overflow=\"visible\" id=\"glyph0-16\">\n",
       "<path style=\"stroke:none;\" d=\"M 3.609375 -1.101563 L 3.789063 -0.015625 C 3.4375 0.0585938 3.128906 0.09375 2.859375 0.09375 C 2.410156 0.09375 2.0625 0.0234375 1.816406 -0.117188 C 1.570313 -0.257813 1.394531 -0.441406 1.296875 -0.671875 C 1.195313 -0.902344 1.148438 -1.386719 1.148438 -2.125 L 1.148438 -6.304688 L 0.246094 -6.304688 L 0.246094 -7.257813 L 1.148438 -7.257813 L 1.148438 -9.058594 L 2.371094 -9.796875 L 2.371094 -7.257813 L 3.609375 -7.257813 L 3.609375 -6.304688 L 2.371094 -6.304688 L 2.371094 -2.058594 C 2.367188 -1.703125 2.386719 -1.476563 2.433594 -1.378906 C 2.472656 -1.277344 2.546875 -1.199219 2.648438 -1.140625 C 2.746094 -1.082031 2.886719 -1.054688 3.070313 -1.054688 C 3.203125 -1.054688 3.382813 -1.070313 3.609375 -1.101563 Z M 3.609375 -1.101563 \"/>\n",
       "</symbol>\n",
       "<symbol overflow=\"visible\" id=\"glyph0-17\">\n",
       "<path style=\"stroke:none;\" d=\"M 0.921875 0 L 0.921875 -10.023438 L 2.152344 -10.023438 L 2.152344 -6.425781 C 2.722656 -7.085938 3.449219 -7.417969 4.328125 -7.421875 C 4.863281 -7.417969 5.328125 -7.3125 5.726563 -7.105469 C 6.121094 -6.890625 6.40625 -6.597656 6.578125 -6.226563 C 6.746094 -5.851563 6.832031 -5.308594 6.835938 -4.601563 L 6.835938 0 L 5.605469 0 L 5.605469 -4.601563 C 5.601563 -5.210938 5.46875 -5.660156 5.203125 -5.941406 C 4.9375 -6.222656 4.558594 -6.363281 4.074219 -6.363281 C 3.707031 -6.363281 3.363281 -6.265625 3.042969 -6.078125 C 2.71875 -5.886719 2.492188 -5.632813 2.355469 -5.3125 C 2.21875 -4.988281 2.148438 -4.542969 2.152344 -3.972656 L 2.152344 0 Z M 0.921875 0 \"/>\n",
       "</symbol>\n",
       "<symbol overflow=\"visible\" id=\"glyph0-18\">\n",
       "<path style=\"stroke:none;\" d=\"M 1.148438 0 L 1.148438 -10.023438 L 7.910156 -10.023438 L 7.910156 -8.839844 L 2.476563 -8.839844 L 2.476563 -5.734375 L 7.179688 -5.734375 L 7.179688 -4.554688 L 2.476563 -4.554688 L 2.476563 0 Z M 1.148438 0 \"/>\n",
       "</symbol>\n",
       "<symbol overflow=\"visible\" id=\"glyph0-19\">\n",
       "<path style=\"stroke:none;\" d=\"M 0.929688 0 L 0.929688 -10.023438 L 2.160156 -10.023438 L 2.160156 -4.304688 L 5.070313 -7.257813 L 6.664063 -7.257813 L 3.890625 -4.566406 L 6.945313 0 L 5.429688 0 L 3.027344 -3.710938 L 2.160156 -2.878906 L 2.160156 0 Z M 0.929688 0 \"/>\n",
       "</symbol>\n",
       "<symbol overflow=\"visible\" id=\"glyph0-20\">\n",
       "<path style=\"stroke:none;\" d=\"M 5.769531 -3.929688 L 5.769531 -5.105469 L 10.015625 -5.113281 L 10.015625 -1.394531 C 9.359375 -0.875 8.6875 -0.484375 8 -0.222656 C 7.304688 0.0390625 6.59375 0.167969 5.867188 0.171875 C 4.878906 0.167969 3.984375 -0.0390625 3.183594 -0.460938 C 2.375 -0.878906 1.769531 -1.488281 1.359375 -2.289063 C 0.949219 -3.082031 0.742188 -3.972656 0.746094 -4.960938 C 0.742188 -5.933594 0.945313 -6.84375 1.355469 -7.691406 C 1.761719 -8.535156 2.351563 -9.164063 3.117188 -9.574219 C 3.882813 -9.984375 4.761719 -10.1875 5.761719 -10.191406 C 6.484375 -10.1875 7.140625 -10.070313 7.726563 -9.839844 C 8.308594 -9.601563 8.769531 -9.277344 9.105469 -8.859375 C 9.4375 -8.4375 9.6875 -7.890625 9.863281 -7.21875 L 8.667969 -6.890625 C 8.511719 -7.398438 8.324219 -7.796875 8.105469 -8.09375 C 7.878906 -8.382813 7.5625 -8.617188 7.148438 -8.792969 C 6.734375 -8.96875 6.273438 -9.058594 5.769531 -9.058594 C 5.160156 -9.058594 4.636719 -8.964844 4.195313 -8.78125 C 3.753906 -8.59375 3.394531 -8.351563 3.125 -8.050781 C 2.851563 -7.75 2.644531 -7.417969 2.496094 -7.0625 C 2.238281 -6.4375 2.109375 -5.765625 2.113281 -5.046875 C 2.109375 -4.148438 2.261719 -3.402344 2.574219 -2.800781 C 2.878906 -2.199219 3.328125 -1.75 3.914063 -1.460938 C 4.5 -1.164063 5.125 -1.019531 5.789063 -1.023438 C 6.363281 -1.019531 6.921875 -1.128906 7.472656 -1.355469 C 8.015625 -1.574219 8.429688 -1.8125 8.714844 -2.0625 L 8.714844 -3.929688 Z M 5.769531 -3.929688 \"/>\n",
       "</symbol>\n",
       "<symbol overflow=\"visible\" id=\"glyph0-21\">\n",
       "<path style=\"stroke:none;\" d=\"M 0.695313 0.601563 L 1.894531 0.78125 C 1.941406 1.144531 2.082031 1.414063 2.3125 1.585938 C 2.613281 1.8125 3.03125 1.925781 3.5625 1.929688 C 4.128906 1.925781 4.566406 1.8125 4.878906 1.585938 C 5.1875 1.355469 5.398438 1.035156 5.507813 0.628906 C 5.570313 0.375 5.597656 -0.148438 5.597656 -0.949219 C 5.058594 -0.316406 4.390625 0 3.589844 0 C 2.589844 0 1.816406 -0.359375 1.273438 -1.078125 C 0.722656 -1.796875 0.449219 -2.660156 0.453125 -3.671875 C 0.449219 -4.363281 0.574219 -5.003906 0.828125 -5.589844 C 1.074219 -6.175781 1.4375 -6.625 1.917969 -6.945313 C 2.390625 -7.257813 2.949219 -7.417969 3.59375 -7.421875 C 4.449219 -7.417969 5.15625 -7.070313 5.714844 -6.382813 L 5.714844 -7.257813 L 6.851563 -7.257813 L 6.851563 -0.984375 C 6.847656 0.144531 6.734375 0.945313 6.503906 1.417969 C 6.273438 1.886719 5.90625 2.257813 5.410156 2.535156 C 4.910156 2.804688 4.296875 2.941406 3.570313 2.945313 C 2.699219 2.941406 2 2.746094 1.46875 2.359375 C 0.933594 1.96875 0.675781 1.382813 0.695313 0.601563 Z M 1.714844 -3.757813 C 1.710938 -2.804688 1.898438 -2.113281 2.28125 -1.675781 C 2.65625 -1.238281 3.132813 -1.019531 3.703125 -1.019531 C 4.269531 -1.019531 4.742188 -1.234375 5.128906 -1.671875 C 5.507813 -2.101563 5.699219 -2.785156 5.703125 -3.71875 C 5.699219 -4.605469 5.503906 -5.273438 5.109375 -5.726563 C 4.714844 -6.175781 4.238281 -6.402344 3.683594 -6.40625 C 3.132813 -6.402344 2.667969 -6.179688 2.289063 -5.738281 C 1.902344 -5.289063 1.710938 -4.628906 1.714844 -3.757813 Z M 1.714844 -3.757813 \"/>\n",
       "</symbol>\n",
       "</g>\n",
       "</defs>\n",
       "<g id=\"surface30\">\n",
       "<rect x=\"0\" y=\"0\" width=\"300\" height=\"400\" style=\"fill:rgb(100%,100%,100%);fill-opacity:1;stroke:none;\"/>\n",
       "<path style=\"fill:none;stroke-width:1;stroke-linecap:butt;stroke-linejoin:miter;stroke:rgb(26.666667%,26.666667%,26.666667%);stroke-opacity:1;stroke-miterlimit:10;\" d=\"M 200.386719 140.074219 L 250 50 \"/>\n",
       "<path style=\"fill:none;stroke-width:1;stroke-linecap:butt;stroke-linejoin:miter;stroke:rgb(26.666667%,26.666667%,26.666667%);stroke-opacity:1;stroke-miterlimit:10;\" d=\"M 200.386719 140.074219 L 127.453125 179.4375 \"/>\n",
       "<path style=\"fill:none;stroke-width:3;stroke-linecap:butt;stroke-linejoin:miter;stroke:rgb(26.666667%,26.666667%,26.666667%);stroke-opacity:1;stroke-miterlimit:10;\" d=\"M 127.453125 179.4375 L 77.554688 276.804688 \"/>\n",
       "<path style=\"fill:none;stroke-width:3;stroke-linecap:butt;stroke-linejoin:miter;stroke:rgb(26.666667%,26.666667%,26.666667%);stroke-opacity:1;stroke-miterlimit:10;\" d=\"M 77.554688 276.804688 L 50 172.785156 \"/>\n",
       "<path style=\"fill:none;stroke-width:3;stroke-linecap:butt;stroke-linejoin:miter;stroke:rgb(26.666667%,26.666667%,26.666667%);stroke-opacity:1;stroke-miterlimit:10;\" d=\"M 127.453125 179.4375 L 50 172.785156 \"/>\n",
       "<path style=\"fill:none;stroke-width:1;stroke-linecap:butt;stroke-linejoin:miter;stroke:rgb(26.666667%,26.666667%,26.666667%);stroke-opacity:1;stroke-miterlimit:10;\" d=\"M 127.453125 179.4375 L 193.3125 253.535156 \"/>\n",
       "<path style=\"fill:none;stroke-width:3;stroke-linecap:butt;stroke-linejoin:miter;stroke:rgb(26.666667%,26.666667%,26.666667%);stroke-opacity:1;stroke-miterlimit:10;\" d=\"M 200.386719 140.074219 L 193.3125 253.535156 \"/>\n",
       "<path style=\"fill:none;stroke-width:1;stroke-linecap:butt;stroke-linejoin:miter;stroke:rgb(26.666667%,26.666667%,26.666667%);stroke-opacity:1;stroke-miterlimit:10;\" d=\"M 77.554688 276.804688 L 143.410156 350 \"/>\n",
       "<path style=\"fill:none;stroke-width:1;stroke-linecap:butt;stroke-linejoin:miter;stroke:rgb(26.666667%,26.666667%,26.666667%);stroke-opacity:1;stroke-miterlimit:10;\" d=\"M 193.3125 253.535156 L 143.410156 350 \"/>\n",
       "<path style=\"fill-rule:nonzero;fill:rgb(100%,75.294118%,79.607843%);fill-opacity:1;stroke-width:1;stroke-linecap:butt;stroke-linejoin:miter;stroke:rgb(0%,0%,0%);stroke-opacity:1;stroke-miterlimit:10;\" d=\"M 210.386719 140.074219 C 210.386719 145.597656 205.910156 150.074219 200.386719 150.074219 C 194.863281 150.074219 190.386719 145.597656 190.386719 140.074219 C 190.386719 134.550781 194.863281 130.074219 200.386719 130.074219 C 205.910156 130.074219 210.386719 134.550781 210.386719 140.074219 \"/>\n",
       "<path style=\"fill-rule:nonzero;fill:rgb(0%,0%,100%);fill-opacity:1;stroke-width:1;stroke-linecap:butt;stroke-linejoin:miter;stroke:rgb(0%,0%,0%);stroke-opacity:1;stroke-miterlimit:10;\" d=\"M 260 50 C 260 55.523438 255.523438 60 250 60 C 244.476563 60 240 55.523438 240 50 C 240 44.476563 244.476563 40 250 40 C 255.523438 40 260 44.476563 260 50 \"/>\n",
       "<path style=\"fill-rule:nonzero;fill:rgb(100%,75.294118%,79.607843%);fill-opacity:1;stroke-width:1;stroke-linecap:butt;stroke-linejoin:miter;stroke:rgb(0%,0%,0%);stroke-opacity:1;stroke-miterlimit:10;\" d=\"M 137.453125 179.4375 C 137.453125 184.960938 132.976563 189.4375 127.453125 189.4375 C 121.933594 189.4375 117.453125 184.960938 117.453125 179.4375 C 117.453125 173.917969 121.933594 169.4375 127.453125 169.4375 C 132.976563 169.4375 137.453125 173.917969 137.453125 179.4375 \"/>\n",
       "<path style=\"fill-rule:nonzero;fill:rgb(0%,0%,100%);fill-opacity:1;stroke-width:1;stroke-linecap:butt;stroke-linejoin:miter;stroke:rgb(0%,0%,0%);stroke-opacity:1;stroke-miterlimit:10;\" d=\"M 87.554688 276.804688 C 87.554688 282.324219 83.078125 286.804688 77.554688 286.804688 C 72.03125 286.804688 67.554688 282.324219 67.554688 276.804688 C 67.554688 271.28125 72.03125 266.804688 77.554688 266.804688 C 83.078125 266.804688 87.554688 271.28125 87.554688 276.804688 \"/>\n",
       "<path style=\"fill-rule:nonzero;fill:rgb(100%,75.294118%,79.607843%);fill-opacity:1;stroke-width:1;stroke-linecap:butt;stroke-linejoin:miter;stroke:rgb(0%,0%,0%);stroke-opacity:1;stroke-miterlimit:10;\" d=\"M 60 172.785156 C 60 178.308594 55.523438 182.785156 50 182.785156 C 44.476563 182.785156 40 178.308594 40 172.785156 C 40 167.261719 44.476563 162.785156 50 162.785156 C 55.523438 162.785156 60 167.261719 60 172.785156 \"/>\n",
       "<path style=\"fill-rule:nonzero;fill:rgb(0%,0%,100%);fill-opacity:1;stroke-width:1;stroke-linecap:butt;stroke-linejoin:miter;stroke:rgb(0%,0%,0%);stroke-opacity:1;stroke-miterlimit:10;\" d=\"M 203.3125 253.535156 C 203.3125 259.058594 198.835938 263.535156 193.3125 263.535156 C 187.789063 263.535156 183.3125 259.058594 183.3125 253.535156 C 183.3125 248.015625 187.789063 243.535156 193.3125 243.535156 C 198.835938 243.535156 203.3125 248.015625 203.3125 253.535156 \"/>\n",
       "<path style=\"fill-rule:nonzero;fill:rgb(0%,0%,100%);fill-opacity:1;stroke-width:1;stroke-linecap:butt;stroke-linejoin:miter;stroke:rgb(0%,0%,0%);stroke-opacity:1;stroke-miterlimit:10;\" d=\"M 153.410156 350 C 153.410156 355.523438 148.929688 360 143.410156 360 C 137.886719 360 133.410156 355.523438 133.410156 350 C 133.410156 344.476563 137.886719 340 143.410156 340 C 148.929688 340 153.410156 344.476563 153.410156 350 \"/>\n",
       "<g style=\"fill:rgb(0%,0%,0%);fill-opacity:1;\">\n",
       "  <use xlink:href=\"#glyph0-1\" x=\"185.515625\" y=\"146.585938\"/>\n",
       "  <use xlink:href=\"#glyph0-2\" x=\"194.853516\" y=\"146.585938\"/>\n",
       "  <use xlink:href=\"#glyph0-3\" x=\"197.963867\" y=\"146.585938\"/>\n",
       "  <use xlink:href=\"#glyph0-4\" x=\"201.074219\" y=\"146.585938\"/>\n",
       "  <use xlink:href=\"#glyph0-5\" x=\"208.074219\" y=\"146.585938\"/>\n",
       "</g>\n",
       "<g style=\"fill:rgb(0%,0%,0%);fill-opacity:1;\">\n",
       "  <use xlink:href=\"#glyph0-6\" x=\"237.320313\" y=\"56.511719\"/>\n",
       "  <use xlink:href=\"#glyph0-7\" x=\"246.658203\" y=\"56.511719\"/>\n",
       "  <use xlink:href=\"#glyph0-8\" x=\"254.444336\" y=\"56.511719\"/>\n",
       "</g>\n",
       "<g style=\"fill:rgb(0%,0%,0%);fill-opacity:1;\">\n",
       "  <use xlink:href=\"#glyph0-9\" x=\"109.113281\" y=\"186.035156\"/>\n",
       "  <use xlink:href=\"#glyph0-2\" x=\"119.223633\" y=\"186.035156\"/>\n",
       "  <use xlink:href=\"#glyph0-10\" x=\"122.333984\" y=\"186.035156\"/>\n",
       "  <use xlink:href=\"#glyph0-3\" x=\"130.120117\" y=\"186.035156\"/>\n",
       "  <use xlink:href=\"#glyph0-11\" x=\"133.230469\" y=\"186.035156\"/>\n",
       "  <use xlink:href=\"#glyph0-5\" x=\"137.892578\" y=\"186.035156\"/>\n",
       "</g>\n",
       "<g style=\"fill:rgb(0%,0%,0%);fill-opacity:1;\">\n",
       "  <use xlink:href=\"#glyph0-12\" x=\"55.492188\" y=\"283.3125\"/>\n",
       "  <use xlink:href=\"#glyph0-5\" x=\"65.602539\" y=\"283.3125\"/>\n",
       "  <use xlink:href=\"#glyph0-13\" x=\"73.388672\" y=\"283.3125\"/>\n",
       "  <use xlink:href=\"#glyph0-13\" x=\"81.174805\" y=\"283.3125\"/>\n",
       "  <use xlink:href=\"#glyph0-3\" x=\"88.960938\" y=\"283.3125\"/>\n",
       "  <use xlink:href=\"#glyph0-14\" x=\"92.071289\" y=\"283.3125\"/>\n",
       "</g>\n",
       "<g style=\"fill:rgb(0%,0%,0%);fill-opacity:1;\">\n",
       "  <use xlink:href=\"#glyph0-15\" x=\"29.121094\" y=\"179.296875\"/>\n",
       "  <use xlink:href=\"#glyph0-14\" x=\"38.458984\" y=\"179.296875\"/>\n",
       "  <use xlink:href=\"#glyph0-16\" x=\"45.458984\" y=\"179.296875\"/>\n",
       "  <use xlink:href=\"#glyph0-17\" x=\"49.348633\" y=\"179.296875\"/>\n",
       "  <use xlink:href=\"#glyph0-5\" x=\"57.134766\" y=\"179.296875\"/>\n",
       "  <use xlink:href=\"#glyph0-11\" x=\"64.920898\" y=\"179.296875\"/>\n",
       "</g>\n",
       "<g style=\"fill:rgb(0%,0%,0%);fill-opacity:1;\">\n",
       "  <use xlink:href=\"#glyph0-18\" x=\"174.875\" y=\"260.046875\"/>\n",
       "  <use xlink:href=\"#glyph0-11\" x=\"183.426758\" y=\"260.046875\"/>\n",
       "  <use xlink:href=\"#glyph0-10\" x=\"188.088867\" y=\"260.046875\"/>\n",
       "  <use xlink:href=\"#glyph0-13\" x=\"195.875\" y=\"260.046875\"/>\n",
       "  <use xlink:href=\"#glyph0-19\" x=\"203.661133\" y=\"260.046875\"/>\n",
       "</g>\n",
       "<g style=\"fill:rgb(0%,0%,0%);fill-opacity:1;\">\n",
       "  <use xlink:href=\"#glyph0-20\" x=\"119.976563\" y=\"356.597656\"/>\n",
       "  <use xlink:href=\"#glyph0-5\" x=\"130.866211\" y=\"356.597656\"/>\n",
       "  <use xlink:href=\"#glyph0-7\" x=\"138.652344\" y=\"356.597656\"/>\n",
       "  <use xlink:href=\"#glyph0-11\" x=\"146.438477\" y=\"356.597656\"/>\n",
       "  <use xlink:href=\"#glyph0-21\" x=\"151.100586\" y=\"356.597656\"/>\n",
       "  <use xlink:href=\"#glyph0-5\" x=\"158.886719\" y=\"356.597656\"/>\n",
       "</g>\n",
       "</g>\n",
       "</svg>\n"
      ],
      "text/plain": [
       "<igraph.drawing.Plot at 0x1f0c1020370>"
      ]
     },
     "execution_count": 9,
     "metadata": {},
     "output_type": "execute_result"
    }
   ],
   "source": [
    ">>> visual_style = {}\n",
    ">>> visual_style[\"vertex_size\"] = 20\n",
    ">>> visual_style[\"vertex_color\"] = [color_dict[gender] for gender in g.vs[\"Gênero\"]]\n",
    ">>> visual_style[\"vertex_label\"] = g.vs[\"Nome\"]\n",
    ">>> visual_style[\"edge_width\"] = [1 + 2 * int(is_formal) for is_formal in g.es[\"CONHECE\"]]\n",
    ">>> visual_style[\"layout\"] = layout\n",
    ">>> visual_style[\"bbox\"] = (300, 400)\n",
    ">>> visual_style[\"margin\"] = 50\n",
    ">>> plot(g, **visual_style)"
   ]
  },
  {
   "cell_type": "markdown",
   "metadata": {},
   "source": [
    "[Atributos](https://igraph.org/python/doc/tutorial/tutorial.html#vertex-attributes-controlling-graph-plots) para brincar com os grafos."
   ]
  },
  {
   "cell_type": "code",
   "execution_count": 2,
   "metadata": {},
   "outputs": [],
   "source": [
    "# Grafo utilizável para manipular exemplos, visualizá-los.\n",
    "g = Graph()\n",
    "g.add_vertices(6)\n",
    "g = Graph([(0,1), (0,2), (2,3), (3,4), (4,2), (2,5), (5,0), (6,3), (5,6)])\n",
    "\n",
    "g.vs[\"Nome\"] = [\"Alice\", \"Bob\", \"Claire\", \"Dennis\", \"Esther\", \"Frank\", \"George\"]\n",
    "g.vs[\"Idade\"] = [25, 31, 18, 47, 22, 23, 50]\n",
    "g.vs[\"Gênero\"] = [\"f\", \"m\", \"f\", \"m\", \"f\", \"m\", \"m\"]\n",
    "g.es[\"CONHECE\"] = [False, False, True, True, True, False, True, False, False]"
   ]
  },
  {
   "cell_type": "code",
   "execution_count": 26,
   "metadata": {},
   "outputs": [
    {
     "name": "stdout",
     "output_type": "stream",
     "text": [
      "[51.45561251007897, 21.007661639760475, 62.8006114932218, 48.45505393296686, 33.502633318555, 48.79552498377001, 33.98290212164688]\n"
     ]
    }
   ],
   "source": []
  },
  {
   "cell_type": "code",
   "execution_count": 15,
   "metadata": {},
   "outputs": [
    {
     "data": {
      "text/plain": [
       "<igraph.clustering.VertexClustering at 0x1f0c0d37a30>"
      ]
     },
     "execution_count": 15,
     "metadata": {},
     "output_type": "execute_result"
    }
   ],
   "source": [
    "g.community_walktrap(par).as_clustering()"
   ]
  },
  {
   "cell_type": "code",
   "execution_count": 18,
   "metadata": {},
   "outputs": [
    {
     "data": {
      "image/svg+xml": [
       "<?xml version=\"1.0\" encoding=\"UTF-8\"?>\n",
       "<svg xmlns=\"http://www.w3.org/2000/svg\" xmlns:xlink=\"http://www.w3.org/1999/xlink\" width=\"300pt\" height=\"400pt\" viewBox=\"0 0 300 400\" version=\"1.1\">\n",
       "<defs>\n",
       "<g>\n",
       "<symbol overflow=\"visible\" id=\"glyph0-0\">\n",
       "<path style=\"stroke:none;\" d=\"M 1.75 0 L 1.75 -8.75 L 8.75 -8.75 L 8.75 0 Z M 1.96875 -0.21875 L 8.53125 -0.21875 L 8.53125 -8.53125 L 1.96875 -8.53125 Z M 1.96875 -0.21875 \"/>\n",
       "</symbol>\n",
       "<symbol overflow=\"visible\" id=\"glyph0-1\">\n",
       "<path style=\"stroke:none;\" d=\"M -0.0195313 0 L 3.828125 -10.023438 L 5.257813 -10.023438 L 9.359375 0 L 7.847656 0 L 6.679688 -3.035156 L 2.488281 -3.035156 L 1.386719 0 Z M 2.871094 -4.117188 L 6.269531 -4.117188 L 5.222656 -6.890625 C 4.898438 -7.734375 4.664063 -8.425781 4.511719 -8.96875 C 4.382813 -8.324219 4.203125 -7.6875 3.972656 -7.054688 Z M 2.871094 -4.117188 \"/>\n",
       "</symbol>\n",
       "<symbol overflow=\"visible\" id=\"glyph0-2\">\n",
       "<path style=\"stroke:none;\" d=\"M 0.894531 0 L 0.894531 -10.023438 L 2.125 -10.023438 L 2.125 0 Z M 0.894531 0 \"/>\n",
       "</symbol>\n",
       "<symbol overflow=\"visible\" id=\"glyph0-3\">\n",
       "<path style=\"stroke:none;\" d=\"M 0.929688 -8.605469 L 0.929688 -10.023438 L 2.160156 -10.023438 L 2.160156 -8.605469 Z M 0.929688 0 L 0.929688 -7.257813 L 2.160156 -7.257813 L 2.160156 0 Z M 0.929688 0 \"/>\n",
       "</symbol>\n",
       "<symbol overflow=\"visible\" id=\"glyph0-4\">\n",
       "<path style=\"stroke:none;\" d=\"M 5.660156 -2.660156 L 6.871094 -2.5 C 6.734375 -1.664063 6.394531 -1.011719 5.855469 -0.542969 C 5.308594 -0.0703125 4.640625 0.164063 3.847656 0.164063 C 2.851563 0.164063 2.054688 -0.160156 1.453125 -0.808594 C 0.847656 -1.457031 0.542969 -2.386719 0.546875 -3.601563 C 0.542969 -4.382813 0.675781 -5.070313 0.9375 -5.660156 C 1.195313 -6.246094 1.589844 -6.683594 2.121094 -6.980469 C 2.652344 -7.269531 3.230469 -7.417969 3.855469 -7.421875 C 4.644531 -7.417969 5.289063 -7.21875 5.789063 -6.824219 C 6.289063 -6.421875 6.609375 -5.855469 6.753906 -5.125 L 5.558594 -4.941406 C 5.441406 -5.425781 5.238281 -5.792969 4.953125 -6.042969 C 4.660156 -6.285156 4.3125 -6.410156 3.902344 -6.414063 C 3.28125 -6.410156 2.777344 -6.1875 2.390625 -5.746094 C 2.003906 -5.296875 1.808594 -4.59375 1.8125 -3.636719 C 1.808594 -2.65625 1.996094 -1.945313 2.371094 -1.507813 C 2.742188 -1.0625 3.230469 -0.84375 3.835938 -0.847656 C 4.316406 -0.84375 4.71875 -0.992188 5.042969 -1.289063 C 5.367188 -1.585938 5.574219 -2.042969 5.660156 -2.660156 Z M 5.660156 -2.660156 \"/>\n",
       "</symbol>\n",
       "<symbol overflow=\"visible\" id=\"glyph0-5\">\n",
       "<path style=\"stroke:none;\" d=\"M 5.890625 -2.335938 L 7.164063 -2.179688 C 6.960938 -1.4375 6.589844 -0.859375 6.046875 -0.449219 C 5.503906 -0.0390625 4.8125 0.164063 3.972656 0.164063 C 2.910156 0.164063 2.066406 -0.160156 1.445313 -0.816406 C 0.820313 -1.464844 0.507813 -2.382813 0.511719 -3.570313 C 0.507813 -4.785156 0.824219 -5.734375 1.453125 -6.410156 C 2.082031 -7.082031 2.898438 -7.417969 3.902344 -7.421875 C 4.871094 -7.417969 5.664063 -7.085938 6.28125 -6.429688 C 6.894531 -5.765625 7.199219 -4.839844 7.203125 -3.644531 C 7.199219 -3.570313 7.199219 -3.460938 7.199219 -3.316406 L 1.785156 -3.316406 C 1.828125 -2.515625 2.054688 -1.902344 2.460938 -1.480469 C 2.867188 -1.054688 3.371094 -0.84375 3.976563 -0.847656 C 4.425781 -0.84375 4.8125 -0.960938 5.132813 -1.203125 C 5.453125 -1.4375 5.703125 -1.816406 5.890625 -2.335938 Z M 1.851563 -4.328125 L 5.90625 -4.328125 C 5.851563 -4.933594 5.695313 -5.390625 5.441406 -5.703125 C 5.046875 -6.171875 4.539063 -6.410156 3.917969 -6.414063 C 3.351563 -6.410156 2.875 -6.21875 2.492188 -5.84375 C 2.101563 -5.460938 1.890625 -4.957031 1.851563 -4.328125 Z M 1.851563 -4.328125 \"/>\n",
       "</symbol>\n",
       "<symbol overflow=\"visible\" id=\"glyph0-6\">\n",
       "<path style=\"stroke:none;\" d=\"M 1.023438 0 L 1.023438 -10.023438 L 4.785156 -10.023438 C 5.546875 -10.019531 6.160156 -9.917969 6.625 -9.71875 C 7.085938 -9.511719 7.449219 -9.199219 7.714844 -8.78125 C 7.976563 -8.355469 8.109375 -7.914063 8.109375 -7.457031 C 8.109375 -7.027344 7.992188 -6.625 7.757813 -6.246094 C 7.523438 -5.867188 7.171875 -5.5625 6.707031 -5.332031 C 7.3125 -5.152344 7.777344 -4.847656 8.105469 -4.421875 C 8.425781 -3.992188 8.589844 -3.488281 8.59375 -2.90625 C 8.589844 -2.4375 8.492188 -2 8.296875 -1.597656 C 8.097656 -1.191406 7.851563 -0.878906 7.5625 -0.664063 C 7.269531 -0.441406 6.902344 -0.277344 6.464844 -0.167969 C 6.019531 -0.0546875 5.480469 0 4.847656 0 Z M 2.351563 -5.8125 L 4.519531 -5.8125 C 5.101563 -5.8125 5.523438 -5.847656 5.78125 -5.925781 C 6.117188 -6.023438 6.371094 -6.191406 6.542969 -6.425781 C 6.710938 -6.65625 6.796875 -6.949219 6.800781 -7.300781 C 6.796875 -7.632813 6.71875 -7.925781 6.5625 -8.179688 C 6.402344 -8.429688 6.171875 -8.601563 5.878906 -8.699219 C 5.578125 -8.789063 5.070313 -8.835938 4.355469 -8.839844 L 2.351563 -8.839844 Z M 2.351563 -1.183594 L 4.847656 -1.183594 C 5.269531 -1.183594 5.570313 -1.199219 5.75 -1.230469 C 6.050781 -1.285156 6.304688 -1.375 6.511719 -1.503906 C 6.714844 -1.628906 6.886719 -1.8125 7.019531 -2.058594 C 7.152344 -2.300781 7.21875 -2.585938 7.21875 -2.90625 C 7.21875 -3.277344 7.121094 -3.601563 6.929688 -3.878906 C 6.738281 -4.152344 6.472656 -4.34375 6.132813 -4.460938 C 5.792969 -4.570313 5.304688 -4.628906 4.667969 -4.628906 L 2.351563 -4.628906 Z M 2.351563 -1.183594 \"/>\n",
       "</symbol>\n",
       "<symbol overflow=\"visible\" id=\"glyph0-7\">\n",
       "<path style=\"stroke:none;\" d=\"M 0.464844 -3.628906 C 0.460938 -4.972656 0.835938 -5.96875 1.585938 -6.617188 C 2.207031 -7.148438 2.96875 -7.417969 3.867188 -7.421875 C 4.867188 -7.417969 5.683594 -7.089844 6.316406 -6.441406 C 6.949219 -5.785156 7.265625 -4.882813 7.265625 -3.734375 C 7.265625 -2.796875 7.125 -2.0625 6.84375 -1.527344 C 6.5625 -0.992188 6.152344 -0.578125 5.621094 -0.28125 C 5.082031 0.015625 4.5 0.164063 3.867188 0.164063 C 2.851563 0.164063 2.027344 -0.160156 1.402344 -0.8125 C 0.773438 -1.460938 0.460938 -2.398438 0.464844 -3.628906 Z M 1.730469 -3.628906 C 1.726563 -2.695313 1.929688 -2 2.335938 -1.539063 C 2.738281 -1.074219 3.25 -0.84375 3.867188 -0.847656 C 4.476563 -0.84375 4.984375 -1.074219 5.390625 -1.542969 C 5.796875 -2.003906 6 -2.714844 6 -3.671875 C 6 -4.566406 5.792969 -5.246094 5.386719 -5.710938 C 4.976563 -6.171875 4.472656 -6.402344 3.867188 -6.40625 C 3.25 -6.402344 2.738281 -6.171875 2.335938 -5.714844 C 1.929688 -5.25 1.726563 -4.554688 1.730469 -3.628906 Z M 1.730469 -3.628906 \"/>\n",
       "</symbol>\n",
       "<symbol overflow=\"visible\" id=\"glyph0-8\">\n",
       "<path style=\"stroke:none;\" d=\"M 2.058594 0 L 0.914063 0 L 0.914063 -10.023438 L 2.148438 -10.023438 L 2.148438 -6.445313 C 2.664063 -7.09375 3.328125 -7.417969 4.136719 -7.421875 C 4.582031 -7.417969 5.003906 -7.328125 5.402344 -7.152344 C 5.800781 -6.96875 6.128906 -6.714844 6.386719 -6.394531 C 6.644531 -6.066406 6.84375 -5.675781 6.992188 -5.214844 C 7.132813 -4.753906 7.207031 -4.261719 7.210938 -3.738281 C 7.207031 -2.496094 6.898438 -1.535156 6.289063 -0.855469 C 5.671875 -0.175781 4.933594 0.164063 4.074219 0.164063 C 3.214844 0.164063 2.542969 -0.191406 2.058594 -0.910156 Z M 2.042969 -3.683594 C 2.039063 -2.8125 2.15625 -2.183594 2.398438 -1.796875 C 2.78125 -1.160156 3.308594 -0.84375 3.972656 -0.847656 C 4.507813 -0.84375 4.96875 -1.078125 5.363281 -1.546875 C 5.753906 -2.015625 5.953125 -2.710938 5.953125 -3.636719 C 5.953125 -4.582031 5.765625 -5.28125 5.390625 -5.734375 C 5.015625 -6.183594 4.558594 -6.410156 4.027344 -6.414063 C 3.484375 -6.410156 3.019531 -6.175781 2.628906 -5.710938 C 2.234375 -5.242188 2.039063 -4.566406 2.042969 -3.683594 Z M 2.042969 -3.683594 \"/>\n",
       "</symbol>\n",
       "<symbol overflow=\"visible\" id=\"glyph0-9\">\n",
       "<path style=\"stroke:none;\" d=\"M 8.230469 -3.515625 L 9.554688 -3.179688 C 9.277344 -2.089844 8.777344 -1.257813 8.054688 -0.6875 C 7.332031 -0.113281 6.449219 0.167969 5.40625 0.171875 C 4.324219 0.167969 3.445313 -0.046875 2.773438 -0.488281 C 2.09375 -0.925781 1.578125 -1.5625 1.226563 -2.398438 C 0.867188 -3.226563 0.691406 -4.125 0.695313 -5.085938 C 0.691406 -6.128906 0.890625 -7.039063 1.292969 -7.816406 C 1.691406 -8.59375 2.257813 -9.183594 2.996094 -9.585938 C 3.730469 -9.988281 4.542969 -10.1875 5.429688 -10.191406 C 6.425781 -10.1875 7.269531 -9.933594 7.957031 -9.425781 C 8.640625 -8.914063 9.117188 -8.195313 9.386719 -7.273438 L 8.078125 -6.964844 C 7.84375 -7.691406 7.507813 -8.222656 7.066406 -8.558594 C 6.625 -8.890625 6.066406 -9.058594 5.398438 -9.058594 C 4.625 -9.058594 3.984375 -8.871094 3.46875 -8.503906 C 2.953125 -8.128906 2.589844 -7.632813 2.378906 -7.015625 C 2.167969 -6.390625 2.0625 -5.75 2.0625 -5.09375 C 2.0625 -4.234375 2.183594 -3.492188 2.433594 -2.859375 C 2.679688 -2.222656 3.066406 -1.746094 3.59375 -1.433594 C 4.117188 -1.117188 4.6875 -0.960938 5.296875 -0.964844 C 6.039063 -0.960938 6.667969 -1.175781 7.183594 -1.605469 C 7.699219 -2.035156 8.046875 -2.671875 8.230469 -3.515625 Z M 8.230469 -3.515625 \"/>\n",
       "</symbol>\n",
       "<symbol overflow=\"visible\" id=\"glyph0-10\">\n",
       "<path style=\"stroke:none;\" d=\"M 5.660156 -0.894531 C 5.203125 -0.503906 4.761719 -0.230469 4.34375 -0.0742188 C 3.917969 0.0859375 3.46875 0.164063 2.988281 0.164063 C 2.1875 0.164063 1.574219 -0.0273438 1.148438 -0.417969 C 0.71875 -0.804688 0.503906 -1.304688 0.507813 -1.914063 C 0.503906 -2.265625 0.585938 -2.589844 0.75 -2.886719 C 0.910156 -3.179688 1.121094 -3.414063 1.382813 -3.59375 C 1.644531 -3.769531 1.9375 -3.90625 2.269531 -4 C 2.507813 -4.058594 2.875 -4.121094 3.363281 -4.183594 C 4.355469 -4.300781 5.085938 -4.441406 5.558594 -4.609375 C 5.558594 -4.773438 5.558594 -4.878906 5.5625 -4.929688 C 5.558594 -5.425781 5.445313 -5.78125 5.214844 -5.988281 C 4.898438 -6.265625 4.429688 -6.402344 3.8125 -6.40625 C 3.230469 -6.402344 2.804688 -6.300781 2.53125 -6.101563 C 2.253906 -5.894531 2.050781 -5.535156 1.921875 -5.023438 L 0.71875 -5.1875 C 0.824219 -5.699219 1.003906 -6.117188 1.257813 -6.433594 C 1.503906 -6.75 1.867188 -6.992188 2.34375 -7.164063 C 2.816406 -7.332031 3.363281 -7.417969 3.992188 -7.421875 C 4.609375 -7.417969 5.113281 -7.34375 5.503906 -7.203125 C 5.886719 -7.054688 6.171875 -6.871094 6.359375 -6.652344 C 6.539063 -6.429688 6.667969 -6.152344 6.742188 -5.816406 C 6.777344 -5.605469 6.796875 -5.226563 6.800781 -4.683594 L 6.800781 -3.042969 C 6.796875 -1.894531 6.824219 -1.171875 6.878906 -0.871094 C 6.933594 -0.566406 7.035156 -0.277344 7.191406 0 L 5.90625 0 C 5.777344 -0.253906 5.695313 -0.550781 5.660156 -0.894531 Z M 5.558594 -3.644531 C 5.109375 -3.460938 4.4375 -3.304688 3.546875 -3.179688 C 3.039063 -3.105469 2.683594 -3.023438 2.472656 -2.933594 C 2.261719 -2.839844 2.097656 -2.707031 1.988281 -2.53125 C 1.871094 -2.355469 1.816406 -2.160156 1.820313 -1.949219 C 1.816406 -1.617188 1.941406 -1.34375 2.191406 -1.128906 C 2.4375 -0.90625 2.800781 -0.796875 3.28125 -0.800781 C 3.753906 -0.796875 4.175781 -0.898438 4.546875 -1.109375 C 4.914063 -1.3125 5.183594 -1.597656 5.359375 -1.960938 C 5.488281 -2.238281 5.554688 -2.648438 5.558594 -3.191406 Z M 5.558594 -3.644531 \"/>\n",
       "</symbol>\n",
       "<symbol overflow=\"visible\" id=\"glyph0-11\">\n",
       "<path style=\"stroke:none;\" d=\"M 0.910156 0 L 0.910156 -7.257813 L 2.015625 -7.257813 L 2.015625 -6.160156 C 2.296875 -6.667969 2.554688 -7.007813 2.796875 -7.175781 C 3.03125 -7.335938 3.296875 -7.417969 3.589844 -7.421875 C 4 -7.417969 4.421875 -7.285156 4.851563 -7.027344 L 4.429688 -5.886719 C 4.125 -6.0625 3.824219 -6.152344 3.527344 -6.152344 C 3.257813 -6.152344 3.015625 -6.070313 2.800781 -5.910156 C 2.585938 -5.746094 2.433594 -5.519531 2.34375 -5.234375 C 2.207031 -4.792969 2.136719 -4.316406 2.140625 -3.800781 L 2.140625 0 Z M 0.910156 0 \"/>\n",
       "</symbol>\n",
       "<symbol overflow=\"visible\" id=\"glyph0-12\">\n",
       "<path style=\"stroke:none;\" d=\"M 1.078125 0 L 1.078125 -10.023438 L 4.53125 -10.023438 C 5.308594 -10.019531 5.90625 -9.972656 6.316406 -9.878906 C 6.890625 -9.746094 7.378906 -9.503906 7.785156 -9.160156 C 8.3125 -8.710938 8.707031 -8.140625 8.972656 -7.449219 C 9.230469 -6.75 9.363281 -5.957031 9.367188 -5.066406 C 9.363281 -4.300781 9.273438 -3.625 9.097656 -3.039063 C 8.917969 -2.449219 8.691406 -1.964844 8.414063 -1.582031 C 8.136719 -1.195313 7.832031 -0.890625 7.503906 -0.671875 C 7.171875 -0.449219 6.773438 -0.28125 6.304688 -0.171875 C 5.835938 -0.0546875 5.296875 0 4.695313 0 Z M 2.40625 -1.183594 L 4.546875 -1.183594 C 5.207031 -1.183594 5.722656 -1.242188 6.101563 -1.367188 C 6.472656 -1.484375 6.773438 -1.660156 7 -1.886719 C 7.3125 -2.199219 7.558594 -2.621094 7.734375 -3.15625 C 7.910156 -3.683594 7.996094 -4.328125 8 -5.085938 C 7.996094 -6.132813 7.824219 -6.9375 7.480469 -7.5 C 7.132813 -8.0625 6.714844 -8.4375 6.226563 -8.632813 C 5.871094 -8.765625 5.300781 -8.835938 4.511719 -8.839844 L 2.40625 -8.839844 Z M 2.40625 -1.183594 \"/>\n",
       "</symbol>\n",
       "<symbol overflow=\"visible\" id=\"glyph0-13\">\n",
       "<path style=\"stroke:none;\" d=\"M 0.921875 0 L 0.921875 -7.257813 L 2.03125 -7.257813 L 2.03125 -6.226563 C 2.558594 -7.019531 3.328125 -7.417969 4.339844 -7.421875 C 4.773438 -7.417969 5.175781 -7.339844 5.546875 -7.1875 C 5.910156 -7.027344 6.183594 -6.820313 6.371094 -6.570313 C 6.550781 -6.3125 6.679688 -6.011719 6.753906 -5.660156 C 6.796875 -5.433594 6.820313 -5.035156 6.820313 -4.464844 L 6.820313 0 L 5.59375 0 L 5.59375 -4.414063 C 5.589844 -4.914063 5.542969 -5.289063 5.449219 -5.539063 C 5.351563 -5.785156 5.179688 -5.984375 4.9375 -6.136719 C 4.691406 -6.28125 4.40625 -6.355469 4.082031 -6.359375 C 3.554688 -6.355469 3.101563 -6.191406 2.722656 -5.859375 C 2.339844 -5.523438 2.148438 -4.890625 2.152344 -3.964844 L 2.152344 0 Z M 0.921875 0 \"/>\n",
       "</symbol>\n",
       "<symbol overflow=\"visible\" id=\"glyph0-14\">\n",
       "<path style=\"stroke:none;\" d=\"M 0.429688 -2.167969 L 1.648438 -2.359375 C 1.710938 -1.867188 1.902344 -1.492188 2.21875 -1.234375 C 2.527344 -0.972656 2.964844 -0.84375 3.527344 -0.847656 C 4.089844 -0.84375 4.507813 -0.957031 4.785156 -1.191406 C 5.054688 -1.417969 5.191406 -1.691406 5.195313 -2.003906 C 5.191406 -2.28125 5.070313 -2.5 4.832031 -2.660156 C 4.660156 -2.769531 4.242188 -2.90625 3.574219 -3.078125 C 2.671875 -3.300781 2.046875 -3.5 1.699219 -3.667969 C 1.347656 -3.832031 1.082031 -4.058594 0.90625 -4.355469 C 0.722656 -4.644531 0.632813 -4.972656 0.636719 -5.332031 C 0.632813 -5.652344 0.707031 -5.949219 0.855469 -6.230469 C 1.003906 -6.503906 1.203125 -6.734375 1.460938 -6.917969 C 1.648438 -7.054688 1.910156 -7.171875 2.246094 -7.273438 C 2.574219 -7.367188 2.929688 -7.417969 3.308594 -7.421875 C 3.875 -7.417969 4.375 -7.335938 4.808594 -7.175781 C 5.234375 -7.007813 5.550781 -6.785156 5.761719 -6.507813 C 5.964844 -6.226563 6.109375 -5.851563 6.1875 -5.386719 L 4.984375 -5.222656 C 4.925781 -5.589844 4.765625 -5.882813 4.507813 -6.097656 C 4.242188 -6.304688 3.875 -6.410156 3.398438 -6.414063 C 2.832031 -6.410156 2.425781 -6.316406 2.1875 -6.132813 C 1.941406 -5.941406 1.820313 -5.722656 1.824219 -5.476563 C 1.820313 -5.3125 1.871094 -5.167969 1.976563 -5.046875 C 2.070313 -4.910156 2.226563 -4.800781 2.445313 -4.71875 C 2.566406 -4.667969 2.929688 -4.5625 3.535156 -4.402344 C 4.402344 -4.167969 5.011719 -3.980469 5.355469 -3.832031 C 5.699219 -3.683594 5.96875 -3.464844 6.164063 -3.183594 C 6.359375 -2.898438 6.457031 -2.550781 6.460938 -2.132813 C 6.457031 -1.71875 6.335938 -1.332031 6.101563 -0.972656 C 5.859375 -0.609375 5.515625 -0.328125 5.066406 -0.132813 C 4.613281 0.0664063 4.101563 0.164063 3.535156 0.164063 C 2.585938 0.164063 1.867188 -0.03125 1.375 -0.421875 C 0.878906 -0.8125 0.5625 -1.394531 0.429688 -2.167969 Z M 0.429688 -2.167969 \"/>\n",
       "</symbol>\n",
       "<symbol overflow=\"visible\" id=\"glyph0-15\">\n",
       "<path style=\"stroke:none;\" d=\"M 1.109375 0 L 1.109375 -10.023438 L 8.351563 -10.023438 L 8.351563 -8.839844 L 2.433594 -8.839844 L 2.433594 -5.769531 L 7.976563 -5.769531 L 7.976563 -4.59375 L 2.433594 -4.59375 L 2.433594 -1.183594 L 8.585938 -1.183594 L 8.585938 0 Z M 1.109375 0 \"/>\n",
       "</symbol>\n",
       "<symbol overflow=\"visible\" id=\"glyph0-16\">\n",
       "<path style=\"stroke:none;\" d=\"M 3.609375 -1.101563 L 3.789063 -0.015625 C 3.4375 0.0585938 3.128906 0.09375 2.859375 0.09375 C 2.410156 0.09375 2.0625 0.0234375 1.816406 -0.117188 C 1.570313 -0.257813 1.394531 -0.441406 1.296875 -0.671875 C 1.195313 -0.902344 1.148438 -1.386719 1.148438 -2.125 L 1.148438 -6.304688 L 0.246094 -6.304688 L 0.246094 -7.257813 L 1.148438 -7.257813 L 1.148438 -9.058594 L 2.371094 -9.796875 L 2.371094 -7.257813 L 3.609375 -7.257813 L 3.609375 -6.304688 L 2.371094 -6.304688 L 2.371094 -2.058594 C 2.367188 -1.703125 2.386719 -1.476563 2.433594 -1.378906 C 2.472656 -1.277344 2.546875 -1.199219 2.648438 -1.140625 C 2.746094 -1.082031 2.886719 -1.054688 3.070313 -1.054688 C 3.203125 -1.054688 3.382813 -1.070313 3.609375 -1.101563 Z M 3.609375 -1.101563 \"/>\n",
       "</symbol>\n",
       "<symbol overflow=\"visible\" id=\"glyph0-17\">\n",
       "<path style=\"stroke:none;\" d=\"M 0.921875 0 L 0.921875 -10.023438 L 2.152344 -10.023438 L 2.152344 -6.425781 C 2.722656 -7.085938 3.449219 -7.417969 4.328125 -7.421875 C 4.863281 -7.417969 5.328125 -7.3125 5.726563 -7.105469 C 6.121094 -6.890625 6.40625 -6.597656 6.578125 -6.226563 C 6.746094 -5.851563 6.832031 -5.308594 6.835938 -4.601563 L 6.835938 0 L 5.605469 0 L 5.605469 -4.601563 C 5.601563 -5.210938 5.46875 -5.660156 5.203125 -5.941406 C 4.9375 -6.222656 4.558594 -6.363281 4.074219 -6.363281 C 3.707031 -6.363281 3.363281 -6.265625 3.042969 -6.078125 C 2.71875 -5.886719 2.492188 -5.632813 2.355469 -5.3125 C 2.21875 -4.988281 2.148438 -4.542969 2.152344 -3.972656 L 2.152344 0 Z M 0.921875 0 \"/>\n",
       "</symbol>\n",
       "<symbol overflow=\"visible\" id=\"glyph0-18\">\n",
       "<path style=\"stroke:none;\" d=\"M 1.148438 0 L 1.148438 -10.023438 L 7.910156 -10.023438 L 7.910156 -8.839844 L 2.476563 -8.839844 L 2.476563 -5.734375 L 7.179688 -5.734375 L 7.179688 -4.554688 L 2.476563 -4.554688 L 2.476563 0 Z M 1.148438 0 \"/>\n",
       "</symbol>\n",
       "<symbol overflow=\"visible\" id=\"glyph0-19\">\n",
       "<path style=\"stroke:none;\" d=\"M 0.929688 0 L 0.929688 -10.023438 L 2.160156 -10.023438 L 2.160156 -4.304688 L 5.070313 -7.257813 L 6.664063 -7.257813 L 3.890625 -4.566406 L 6.945313 0 L 5.429688 0 L 3.027344 -3.710938 L 2.160156 -2.878906 L 2.160156 0 Z M 0.929688 0 \"/>\n",
       "</symbol>\n",
       "<symbol overflow=\"visible\" id=\"glyph0-20\">\n",
       "<path style=\"stroke:none;\" d=\"M 5.769531 -3.929688 L 5.769531 -5.105469 L 10.015625 -5.113281 L 10.015625 -1.394531 C 9.359375 -0.875 8.6875 -0.484375 8 -0.222656 C 7.304688 0.0390625 6.59375 0.167969 5.867188 0.171875 C 4.878906 0.167969 3.984375 -0.0390625 3.183594 -0.460938 C 2.375 -0.878906 1.769531 -1.488281 1.359375 -2.289063 C 0.949219 -3.082031 0.742188 -3.972656 0.746094 -4.960938 C 0.742188 -5.933594 0.945313 -6.84375 1.355469 -7.691406 C 1.761719 -8.535156 2.351563 -9.164063 3.117188 -9.574219 C 3.882813 -9.984375 4.761719 -10.1875 5.761719 -10.191406 C 6.484375 -10.1875 7.140625 -10.070313 7.726563 -9.839844 C 8.308594 -9.601563 8.769531 -9.277344 9.105469 -8.859375 C 9.4375 -8.4375 9.6875 -7.890625 9.863281 -7.21875 L 8.667969 -6.890625 C 8.511719 -7.398438 8.324219 -7.796875 8.105469 -8.09375 C 7.878906 -8.382813 7.5625 -8.617188 7.148438 -8.792969 C 6.734375 -8.96875 6.273438 -9.058594 5.769531 -9.058594 C 5.160156 -9.058594 4.636719 -8.964844 4.195313 -8.78125 C 3.753906 -8.59375 3.394531 -8.351563 3.125 -8.050781 C 2.851563 -7.75 2.644531 -7.417969 2.496094 -7.0625 C 2.238281 -6.4375 2.109375 -5.765625 2.113281 -5.046875 C 2.109375 -4.148438 2.261719 -3.402344 2.574219 -2.800781 C 2.878906 -2.199219 3.328125 -1.75 3.914063 -1.460938 C 4.5 -1.164063 5.125 -1.019531 5.789063 -1.023438 C 6.363281 -1.019531 6.921875 -1.128906 7.472656 -1.355469 C 8.015625 -1.574219 8.429688 -1.8125 8.714844 -2.0625 L 8.714844 -3.929688 Z M 5.769531 -3.929688 \"/>\n",
       "</symbol>\n",
       "<symbol overflow=\"visible\" id=\"glyph0-21\">\n",
       "<path style=\"stroke:none;\" d=\"M 0.695313 0.601563 L 1.894531 0.78125 C 1.941406 1.144531 2.082031 1.414063 2.3125 1.585938 C 2.613281 1.8125 3.03125 1.925781 3.5625 1.929688 C 4.128906 1.925781 4.566406 1.8125 4.878906 1.585938 C 5.1875 1.355469 5.398438 1.035156 5.507813 0.628906 C 5.570313 0.375 5.597656 -0.148438 5.597656 -0.949219 C 5.058594 -0.316406 4.390625 0 3.589844 0 C 2.589844 0 1.816406 -0.359375 1.273438 -1.078125 C 0.722656 -1.796875 0.449219 -2.660156 0.453125 -3.671875 C 0.449219 -4.363281 0.574219 -5.003906 0.828125 -5.589844 C 1.074219 -6.175781 1.4375 -6.625 1.917969 -6.945313 C 2.390625 -7.257813 2.949219 -7.417969 3.59375 -7.421875 C 4.449219 -7.417969 5.15625 -7.070313 5.714844 -6.382813 L 5.714844 -7.257813 L 6.851563 -7.257813 L 6.851563 -0.984375 C 6.847656 0.144531 6.734375 0.945313 6.503906 1.417969 C 6.273438 1.886719 5.90625 2.257813 5.410156 2.535156 C 4.910156 2.804688 4.296875 2.941406 3.570313 2.945313 C 2.699219 2.941406 2 2.746094 1.46875 2.359375 C 0.933594 1.96875 0.675781 1.382813 0.695313 0.601563 Z M 1.714844 -3.757813 C 1.710938 -2.804688 1.898438 -2.113281 2.28125 -1.675781 C 2.65625 -1.238281 3.132813 -1.019531 3.703125 -1.019531 C 4.269531 -1.019531 4.742188 -1.234375 5.128906 -1.671875 C 5.507813 -2.101563 5.699219 -2.785156 5.703125 -3.71875 C 5.699219 -4.605469 5.503906 -5.273438 5.109375 -5.726563 C 4.714844 -6.175781 4.238281 -6.402344 3.683594 -6.40625 C 3.132813 -6.402344 2.667969 -6.179688 2.289063 -5.738281 C 1.902344 -5.289063 1.710938 -4.628906 1.714844 -3.757813 Z M 1.714844 -3.757813 \"/>\n",
       "</symbol>\n",
       "</g>\n",
       "</defs>\n",
       "<g id=\"surface60\">\n",
       "<rect x=\"0\" y=\"0\" width=\"300\" height=\"400\" style=\"fill:rgb(100%,100%,100%);fill-opacity:1;stroke:none;\"/>\n",
       "<path style=\"fill:none;stroke-width:1;stroke-linecap:butt;stroke-linejoin:miter;stroke:rgb(26.666667%,26.666667%,26.666667%);stroke-opacity:1;stroke-miterlimit:10;\" d=\"M 200.386719 140.074219 L 250 50 \"/>\n",
       "<path style=\"fill:none;stroke-width:1;stroke-linecap:butt;stroke-linejoin:miter;stroke:rgb(26.666667%,26.666667%,26.666667%);stroke-opacity:1;stroke-miterlimit:10;\" d=\"M 200.386719 140.074219 L 127.453125 179.4375 \"/>\n",
       "<path style=\"fill:none;stroke-width:1;stroke-linecap:butt;stroke-linejoin:miter;stroke:rgb(26.666667%,26.666667%,26.666667%);stroke-opacity:1;stroke-miterlimit:10;\" d=\"M 127.453125 179.4375 L 77.554688 276.804688 \"/>\n",
       "<path style=\"fill:none;stroke-width:1;stroke-linecap:butt;stroke-linejoin:miter;stroke:rgb(26.666667%,26.666667%,26.666667%);stroke-opacity:1;stroke-miterlimit:10;\" d=\"M 77.554688 276.804688 L 50 172.785156 \"/>\n",
       "<path style=\"fill:none;stroke-width:1;stroke-linecap:butt;stroke-linejoin:miter;stroke:rgb(26.666667%,26.666667%,26.666667%);stroke-opacity:1;stroke-miterlimit:10;\" d=\"M 127.453125 179.4375 L 50 172.785156 \"/>\n",
       "<path style=\"fill:none;stroke-width:1;stroke-linecap:butt;stroke-linejoin:miter;stroke:rgb(26.666667%,26.666667%,26.666667%);stroke-opacity:1;stroke-miterlimit:10;\" d=\"M 127.453125 179.4375 L 193.3125 253.535156 \"/>\n",
       "<path style=\"fill:none;stroke-width:1;stroke-linecap:butt;stroke-linejoin:miter;stroke:rgb(26.666667%,26.666667%,26.666667%);stroke-opacity:1;stroke-miterlimit:10;\" d=\"M 200.386719 140.074219 L 193.3125 253.535156 \"/>\n",
       "<path style=\"fill:none;stroke-width:1;stroke-linecap:butt;stroke-linejoin:miter;stroke:rgb(26.666667%,26.666667%,26.666667%);stroke-opacity:1;stroke-miterlimit:10;\" d=\"M 77.554688 276.804688 L 143.410156 350 \"/>\n",
       "<path style=\"fill:none;stroke-width:1;stroke-linecap:butt;stroke-linejoin:miter;stroke:rgb(26.666667%,26.666667%,26.666667%);stroke-opacity:1;stroke-miterlimit:10;\" d=\"M 193.3125 253.535156 L 143.410156 350 \"/>\n",
       "<path style=\"fill-rule:nonzero;fill:rgb(100%,75.294118%,79.607843%);fill-opacity:1;stroke-width:1;stroke-linecap:butt;stroke-linejoin:miter;stroke:rgb(0%,0%,0%);stroke-opacity:1;stroke-miterlimit:10;\" d=\"M 221.828125 140.074219 C 221.828125 151.914063 212.226563 161.511719 200.386719 161.511719 C 188.546875 161.511719 178.945313 151.914063 178.945313 140.074219 C 178.945313 128.234375 188.546875 118.632813 200.386719 118.632813 C 212.226563 118.632813 221.828125 128.234375 221.828125 140.074219 \"/>\n",
       "<path style=\"fill-rule:nonzero;fill:rgb(0%,0%,100%);fill-opacity:1;stroke-width:1;stroke-linecap:butt;stroke-linejoin:miter;stroke:rgb(0%,0%,0%);stroke-opacity:1;stroke-miterlimit:10;\" d=\"M 258.753906 50 C 258.753906 54.835938 254.835938 58.753906 250 58.753906 C 245.164063 58.753906 241.246094 54.835938 241.246094 50 C 241.246094 45.164063 245.164063 41.246094 250 41.246094 C 254.835938 41.246094 258.753906 45.164063 258.753906 50 \"/>\n",
       "<path style=\"fill-rule:nonzero;fill:rgb(100%,75.294118%,79.607843%);fill-opacity:1;stroke-width:1;stroke-linecap:butt;stroke-linejoin:miter;stroke:rgb(0%,0%,0%);stroke-opacity:1;stroke-miterlimit:10;\" d=\"M 153.621094 179.4375 C 153.621094 193.890625 141.90625 205.605469 127.453125 205.605469 C 113.003906 205.605469 101.289063 193.890625 101.289063 179.4375 C 101.289063 164.988281 113.003906 153.273438 127.453125 153.273438 C 141.90625 153.273438 153.621094 164.988281 153.621094 179.4375 \"/>\n",
       "<path style=\"fill-rule:nonzero;fill:rgb(0%,0%,100%);fill-opacity:1;stroke-width:1;stroke-linecap:butt;stroke-linejoin:miter;stroke:rgb(0%,0%,0%);stroke-opacity:1;stroke-miterlimit:10;\" d=\"M 97.742188 276.804688 C 97.742188 287.953125 88.703125 296.992188 77.554688 296.992188 C 66.402344 296.992188 57.363281 287.953125 57.363281 276.804688 C 57.363281 265.652344 66.402344 256.613281 77.554688 256.613281 C 88.703125 256.613281 97.742188 265.652344 97.742188 276.804688 \"/>\n",
       "<path style=\"fill-rule:nonzero;fill:rgb(100%,75.294118%,79.607843%);fill-opacity:1;stroke-width:1;stroke-linecap:butt;stroke-linejoin:miter;stroke:rgb(0%,0%,0%);stroke-opacity:1;stroke-miterlimit:10;\" d=\"M 63.960938 172.785156 C 63.960938 180.496094 57.710938 186.746094 50 186.746094 C 42.289063 186.746094 36.039063 180.496094 36.039063 172.785156 C 36.039063 165.078125 42.289063 158.828125 50 158.828125 C 57.710938 158.828125 63.960938 165.078125 63.960938 172.785156 \"/>\n",
       "<path style=\"fill-rule:nonzero;fill:rgb(0%,0%,100%);fill-opacity:1;stroke-width:1;stroke-linecap:butt;stroke-linejoin:miter;stroke:rgb(0%,0%,0%);stroke-opacity:1;stroke-miterlimit:10;\" d=\"M 213.644531 253.535156 C 213.644531 264.765625 204.542969 273.867188 193.3125 273.867188 C 182.085938 273.867188 172.980469 264.765625 172.980469 253.535156 C 172.980469 242.308594 182.085938 233.207031 193.3125 233.207031 C 204.542969 233.207031 213.644531 242.308594 213.644531 253.535156 \"/>\n",
       "<path style=\"fill-rule:nonzero;fill:rgb(0%,0%,100%);fill-opacity:1;stroke-width:1;stroke-linecap:butt;stroke-linejoin:miter;stroke:rgb(0%,0%,0%);stroke-opacity:1;stroke-miterlimit:10;\" d=\"M 157.566406 350 C 157.566406 357.820313 151.230469 364.160156 143.410156 364.160156 C 135.589844 364.160156 129.25 357.820313 129.25 350 C 129.25 342.179688 135.589844 335.839844 143.410156 335.839844 C 151.230469 335.839844 157.566406 342.179688 157.566406 350 \"/>\n",
       "<g style=\"fill:rgb(0%,0%,0%);fill-opacity:1;\">\n",
       "  <use xlink:href=\"#glyph0-1\" x=\"185.515625\" y=\"146.585938\"/>\n",
       "  <use xlink:href=\"#glyph0-2\" x=\"194.853516\" y=\"146.585938\"/>\n",
       "  <use xlink:href=\"#glyph0-3\" x=\"197.963867\" y=\"146.585938\"/>\n",
       "  <use xlink:href=\"#glyph0-4\" x=\"201.074219\" y=\"146.585938\"/>\n",
       "  <use xlink:href=\"#glyph0-5\" x=\"208.074219\" y=\"146.585938\"/>\n",
       "</g>\n",
       "<g style=\"fill:rgb(0%,0%,0%);fill-opacity:1;\">\n",
       "  <use xlink:href=\"#glyph0-6\" x=\"237.320313\" y=\"56.511719\"/>\n",
       "  <use xlink:href=\"#glyph0-7\" x=\"246.658203\" y=\"56.511719\"/>\n",
       "  <use xlink:href=\"#glyph0-8\" x=\"254.444336\" y=\"56.511719\"/>\n",
       "</g>\n",
       "<g style=\"fill:rgb(0%,0%,0%);fill-opacity:1;\">\n",
       "  <use xlink:href=\"#glyph0-9\" x=\"109.113281\" y=\"186.035156\"/>\n",
       "  <use xlink:href=\"#glyph0-2\" x=\"119.223633\" y=\"186.035156\"/>\n",
       "  <use xlink:href=\"#glyph0-10\" x=\"122.333984\" y=\"186.035156\"/>\n",
       "  <use xlink:href=\"#glyph0-3\" x=\"130.120117\" y=\"186.035156\"/>\n",
       "  <use xlink:href=\"#glyph0-11\" x=\"133.230469\" y=\"186.035156\"/>\n",
       "  <use xlink:href=\"#glyph0-5\" x=\"137.892578\" y=\"186.035156\"/>\n",
       "</g>\n",
       "<g style=\"fill:rgb(0%,0%,0%);fill-opacity:1;\">\n",
       "  <use xlink:href=\"#glyph0-12\" x=\"55.492188\" y=\"283.3125\"/>\n",
       "  <use xlink:href=\"#glyph0-5\" x=\"65.602539\" y=\"283.3125\"/>\n",
       "  <use xlink:href=\"#glyph0-13\" x=\"73.388672\" y=\"283.3125\"/>\n",
       "  <use xlink:href=\"#glyph0-13\" x=\"81.174805\" y=\"283.3125\"/>\n",
       "  <use xlink:href=\"#glyph0-3\" x=\"88.960938\" y=\"283.3125\"/>\n",
       "  <use xlink:href=\"#glyph0-14\" x=\"92.071289\" y=\"283.3125\"/>\n",
       "</g>\n",
       "<g style=\"fill:rgb(0%,0%,0%);fill-opacity:1;\">\n",
       "  <use xlink:href=\"#glyph0-15\" x=\"29.121094\" y=\"179.296875\"/>\n",
       "  <use xlink:href=\"#glyph0-14\" x=\"38.458984\" y=\"179.296875\"/>\n",
       "  <use xlink:href=\"#glyph0-16\" x=\"45.458984\" y=\"179.296875\"/>\n",
       "  <use xlink:href=\"#glyph0-17\" x=\"49.348633\" y=\"179.296875\"/>\n",
       "  <use xlink:href=\"#glyph0-5\" x=\"57.134766\" y=\"179.296875\"/>\n",
       "  <use xlink:href=\"#glyph0-11\" x=\"64.920898\" y=\"179.296875\"/>\n",
       "</g>\n",
       "<g style=\"fill:rgb(0%,0%,0%);fill-opacity:1;\">\n",
       "  <use xlink:href=\"#glyph0-18\" x=\"174.875\" y=\"260.046875\"/>\n",
       "  <use xlink:href=\"#glyph0-11\" x=\"183.426758\" y=\"260.046875\"/>\n",
       "  <use xlink:href=\"#glyph0-10\" x=\"188.088867\" y=\"260.046875\"/>\n",
       "  <use xlink:href=\"#glyph0-13\" x=\"195.875\" y=\"260.046875\"/>\n",
       "  <use xlink:href=\"#glyph0-19\" x=\"203.661133\" y=\"260.046875\"/>\n",
       "</g>\n",
       "<g style=\"fill:rgb(0%,0%,0%);fill-opacity:1;\">\n",
       "  <use xlink:href=\"#glyph0-20\" x=\"119.976563\" y=\"356.597656\"/>\n",
       "  <use xlink:href=\"#glyph0-5\" x=\"130.866211\" y=\"356.597656\"/>\n",
       "  <use xlink:href=\"#glyph0-7\" x=\"138.652344\" y=\"356.597656\"/>\n",
       "  <use xlink:href=\"#glyph0-11\" x=\"146.438477\" y=\"356.597656\"/>\n",
       "  <use xlink:href=\"#glyph0-21\" x=\"151.100586\" y=\"356.597656\"/>\n",
       "  <use xlink:href=\"#glyph0-5\" x=\"158.886719\" y=\"356.597656\"/>\n",
       "</g>\n",
       "</g>\n",
       "</svg>\n"
      ],
      "text/plain": [
       "<igraph.drawing.Plot at 0x1f0c0d2b9d0>"
      ]
     },
     "execution_count": 18,
     "metadata": {},
     "output_type": "execute_result"
    }
   ],
   "source": [
    "# Utilização de pagerank() + layout\n",
    "\n",
    "par = None\n",
    "par = g.es.edge_betweenness()\n",
    "\n",
    "pag = g.pagerank()\n",
    "pag_m = []\n",
    "\n",
    "for i in range(len(pag)):\n",
    "    pag_m.append(pag[i]*250)\n",
    "\n",
    "g.vs[\"label\"] = g.vs[\"Nome\"]\n",
    "color_dict = {\"m\": \"blue\", \"f\": \"pink\"}\n",
    "\n",
    "visual_style = {}\n",
    "visual_style[\"vertex_size\"] = pag_m\n",
    "visual_style[\"vertex_color\"] = [color_dict[gender] for gender in g.vs[\"Gênero\"]]\n",
    "visual_style[\"vertex_label\"] = g.vs[\"Nome\"]\n",
    "visual_style[\"layout\"] = layout\n",
    "visual_style[\"bbox\"] = (300, 400)\n",
    "visual_style[\"margin\"] = 50\n",
    "plot(g, **visual_style)"
   ]
  },
  {
   "cell_type": "code",
   "execution_count": null,
   "metadata": {},
   "outputs": [],
   "source": []
  }
 ],
 "metadata": {
  "kernelspec": {
   "display_name": "Python 3",
   "language": "python",
   "name": "python3"
  },
  "language_info": {
   "codemirror_mode": {
    "name": "ipython",
    "version": 3
   },
   "file_extension": ".py",
   "mimetype": "text/x-python",
   "name": "python",
   "nbconvert_exporter": "python",
   "pygments_lexer": "ipython3",
   "version": "3.8.1"
  }
 },
 "nbformat": 4,
 "nbformat_minor": 4
}
